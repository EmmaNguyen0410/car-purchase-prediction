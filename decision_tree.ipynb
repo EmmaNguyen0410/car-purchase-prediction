{
 "cells": [
  {
   "cell_type": "markdown",
   "id": "e70c4434",
   "metadata": {},
   "source": [
    "# **Experiment 3: Decision Tree**\n",
    "\n",
    "__Steps:__ \n",
    "1. Load datasets and create functions\n",
    "2. Data splitting\n",
    "3. Cross-validation with default hyperparameters\n",
    "4. Reduce Overfitting with min_samples_leaf\n",
    "5. Reduce Overfitting with max_depth\n",
    "6. Auto tuning using Grid Search\n",
    "7. Assess the best Decision Tree Model on testing set\n",
    "8. Feature importance"
   ]
  },
  {
   "cell_type": "markdown",
   "id": "6c5ebfd1",
   "metadata": {},
   "source": [
    "## **1. Load datasets and create functions** "
   ]
  },
  {
   "cell_type": "markdown",
   "id": "d36e1f21",
   "metadata": {},
   "source": [
    "**[1.1]** Import packages"
   ]
  },
  {
   "cell_type": "code",
   "execution_count": 1,
   "id": "93114351",
   "metadata": {},
   "outputs": [],
   "source": [
    "import pandas as pd\n",
    "import math \n",
    "import numpy as np\n",
    "from itertools import repeat\n",
    "\n",
    "# train test split\n",
    "from sklearn.model_selection import train_test_split\n",
    "\n",
    "# performance metrics\n",
    "from sklearn.metrics import recall_score, precision_score, fbeta_score\n",
    "from sklearn.metrics import confusion_matrix, ConfusionMatrixDisplay\n",
    "\n",
    "# visualization \n",
    "import matplotlib.pyplot as plt\n",
    "import altair as alt\n",
    "alt.data_transformers.disable_max_rows()\n",
    "\n",
    "# cross validation \n",
    "from sklearn.model_selection import cross_validate\n",
    "from sklearn.model_selection import GridSearchCV\n",
    "from sklearn.model_selection import StratifiedKFold\n",
    "\n",
    "from scipy.stats import randint\n",
    "\n",
    "# classifier\n",
    "from sklearn.tree import DecisionTreeClassifier"
   ]
  },
  {
   "cell_type": "markdown",
   "id": "dbfaf6a7",
   "metadata": {},
   "source": [
    "**[1.2]** Load the training dataset into dataframe called df_data"
   ]
  },
  {
   "cell_type": "code",
   "execution_count": 2,
   "id": "ae08ff84",
   "metadata": {},
   "outputs": [],
   "source": [
    "df_data = pd.read_csv('./repurchase_data-prepared.csv')"
   ]
  },
  {
   "cell_type": "markdown",
   "id": "5fbfb712",
   "metadata": {},
   "source": [
    "**[1.3]** Load the testing dataset into dataframe called df_test"
   ]
  },
  {
   "cell_type": "code",
   "execution_count": 3,
   "id": "06deef36",
   "metadata": {},
   "outputs": [],
   "source": [
    "df_test = pd.read_csv('./repurchase_test-prepared.csv')"
   ]
  },
  {
   "cell_type": "markdown",
   "id": "43d7da90",
   "metadata": {},
   "source": [
    "**[1.4]** Create a function to summarize cross-validation results of different hyperparameter values"
   ]
  },
  {
   "cell_type": "code",
   "execution_count": 4,
   "id": "510756a1",
   "metadata": {},
   "outputs": [],
   "source": [
    "def summarize_cv_hyperparameter(cv_scores, hyperparam_name, hyperparam_values):\n",
    "    \"\"\"\n",
    "    Parameters:\n",
    "        cv_scores (nd array): average cross-validation scores of different hyperparameter values. \n",
    "        hyperparam_name: name of the hyperparameter (e.g. n_estimators)\n",
    "        hyperparam_value (1d array): different values of the hyperparameter (e.g. [10, 50, 100])\n",
    "    Return:\n",
    "        A Dataframe that contains 4 columns:\n",
    "        - hyperparam_name: hyperparameter value\n",
    "        - recall_score: average cross-validation recall of a given hyperparameter value on a given set.\n",
    "        - dataset: the type of dataset on which recall_score is calculated. Either train or test.\n",
    "        - overfitting: the difference between train_score and test_score \n",
    "    \"\"\"\n",
    "    recall_scores = []\n",
    "    n_hyperparam_values = len(hyperparam_values)\n",
    "    dataset = ['train', 'test'] * n_hyperparam_values\n",
    "    overfitting = []\n",
    "    \n",
    "    # loop through average cross-validation scores of each hyperparameter value\n",
    "    for item in cv_scores:\n",
    "        recall_scores.append(item['train_score'])\n",
    "        recall_scores.append(item['test_score'])\n",
    "        overfitting.extend(repeat(item['train_score'] - item['test_score'],2))\n",
    "    return pd.DataFrame({hyperparam_name: sorted(hyperparam_values * 2), 'recall_score': recall_scores, 'dataset': dataset, 'overfitting': overfitting})"
   ]
  },
  {
   "cell_type": "markdown",
   "id": "1b5cae3a",
   "metadata": {},
   "source": [
    "**[1.5]** Let's call summarize_cv_hyperparameter() to see its sample output"
   ]
  },
  {
   "cell_type": "code",
   "execution_count": 5,
   "id": "e493c479",
   "metadata": {},
   "outputs": [
    {
     "data": {
      "text/html": [
       "<div>\n",
       "<style scoped>\n",
       "    .dataframe tbody tr th:only-of-type {\n",
       "        vertical-align: middle;\n",
       "    }\n",
       "\n",
       "    .dataframe tbody tr th {\n",
       "        vertical-align: top;\n",
       "    }\n",
       "\n",
       "    .dataframe thead th {\n",
       "        text-align: right;\n",
       "    }\n",
       "</style>\n",
       "<table border=\"1\" class=\"dataframe\">\n",
       "  <thead>\n",
       "    <tr style=\"text-align: right;\">\n",
       "      <th></th>\n",
       "      <th>n_estimators</th>\n",
       "      <th>recall_score</th>\n",
       "      <th>dataset</th>\n",
       "      <th>overfitting</th>\n",
       "    </tr>\n",
       "  </thead>\n",
       "  <tbody>\n",
       "    <tr>\n",
       "      <th>0</th>\n",
       "      <td>25</td>\n",
       "      <td>0.885829</td>\n",
       "      <td>train</td>\n",
       "      <td>0.079881</td>\n",
       "    </tr>\n",
       "    <tr>\n",
       "      <th>1</th>\n",
       "      <td>25</td>\n",
       "      <td>0.805948</td>\n",
       "      <td>test</td>\n",
       "      <td>0.079881</td>\n",
       "    </tr>\n",
       "    <tr>\n",
       "      <th>2</th>\n",
       "      <td>50</td>\n",
       "      <td>0.897959</td>\n",
       "      <td>train</td>\n",
       "      <td>0.071784</td>\n",
       "    </tr>\n",
       "    <tr>\n",
       "      <th>3</th>\n",
       "      <td>50</td>\n",
       "      <td>0.826175</td>\n",
       "      <td>test</td>\n",
       "      <td>0.071784</td>\n",
       "    </tr>\n",
       "    <tr>\n",
       "      <th>4</th>\n",
       "      <td>100</td>\n",
       "      <td>0.900468</td>\n",
       "      <td>train</td>\n",
       "      <td>0.051592</td>\n",
       "    </tr>\n",
       "    <tr>\n",
       "      <th>5</th>\n",
       "      <td>100</td>\n",
       "      <td>0.848876</td>\n",
       "      <td>test</td>\n",
       "      <td>0.051592</td>\n",
       "    </tr>\n",
       "    <tr>\n",
       "      <th>6</th>\n",
       "      <td>200</td>\n",
       "      <td>0.999468</td>\n",
       "      <td>train</td>\n",
       "      <td>0.095322</td>\n",
       "    </tr>\n",
       "    <tr>\n",
       "      <th>7</th>\n",
       "      <td>200</td>\n",
       "      <td>0.904145</td>\n",
       "      <td>test</td>\n",
       "      <td>0.095322</td>\n",
       "    </tr>\n",
       "  </tbody>\n",
       "</table>\n",
       "</div>"
      ],
      "text/plain": [
       "   n_estimators  recall_score dataset  overfitting\n",
       "0            25      0.885829   train     0.079881\n",
       "1            25      0.805948    test     0.079881\n",
       "2            50      0.897959   train     0.071784\n",
       "3            50      0.826175    test     0.071784\n",
       "4           100      0.900468   train     0.051592\n",
       "5           100      0.848876    test     0.051592\n",
       "6           200      0.999468   train     0.095322\n",
       "7           200      0.904145    test     0.095322"
      ]
     },
     "execution_count": 5,
     "metadata": {},
     "output_type": "execute_result"
    }
   ],
   "source": [
    "cv_scores = [{'fit_time': 1.5408970355987548,\n",
    "  'score_time': 0.08309478759765625,\n",
    "  'test_score': 0.8059482508849502,\n",
    "  'train_score': 0.885828966681908},\n",
    " {'fit_time': 2.798608589172363,\n",
    "  'score_time': 0.14132475852966309,\n",
    "  'test_score': 0.8261752012395601,\n",
    "  'train_score': 0.8979588292214935},\n",
    " {'fit_time': 5.526672983169556,\n",
    "  'score_time': 0.2539525985717773,\n",
    "  'test_score': 0.848875703866068,\n",
    "  'train_score': 0.9004675343651036},\n",
    " {'fit_time': 11.310441589355468,\n",
    "  'score_time': 0.9044121074676513,\n",
    "  'test_score': 0.9041454089666554,\n",
    "  'train_score': 0.9994675343651036}]\n",
    "sample_summary = summarize_cv_hyperparameter(cv_scores, 'n_estimators', [25, 50, 100, 200])\n",
    "sample_summary"
   ]
  },
  {
   "cell_type": "markdown",
   "id": "44b18d01",
   "metadata": {},
   "source": [
    "**[1.6]** Create a function to plot train scores vs test scores of different hyperparameter values to see bias-variance trade-off"
   ]
  },
  {
   "cell_type": "code",
   "execution_count": 6,
   "id": "7c762a99",
   "metadata": {},
   "outputs": [],
   "source": [
    "def compare_train_test(summary, hyperparam_name):\n",
    "    return alt.Chart(summary).mark_line(point=True).encode(\n",
    "        x=hyperparam_name,\n",
    "        y='recall_score',\n",
    "        color='dataset',\n",
    "    )"
   ]
  },
  {
   "cell_type": "markdown",
   "id": "9b4e4107",
   "metadata": {},
   "source": [
    "**[1.7]** Let's call compare_train_test() to see its sample output"
   ]
  },
  {
   "cell_type": "code",
   "execution_count": 7,
   "id": "62273b5b",
   "metadata": {},
   "outputs": [
    {
     "data": {
      "text/html": [
       "\n",
       "<div id=\"altair-viz-aeb6aa48294645b7b153ad76131e315e\"></div>\n",
       "<script type=\"text/javascript\">\n",
       "  (function(spec, embedOpt){\n",
       "    let outputDiv = document.currentScript.previousElementSibling;\n",
       "    if (outputDiv.id !== \"altair-viz-aeb6aa48294645b7b153ad76131e315e\") {\n",
       "      outputDiv = document.getElementById(\"altair-viz-aeb6aa48294645b7b153ad76131e315e\");\n",
       "    }\n",
       "    const paths = {\n",
       "      \"vega\": \"https://cdn.jsdelivr.net/npm//vega@5?noext\",\n",
       "      \"vega-lib\": \"https://cdn.jsdelivr.net/npm//vega-lib?noext\",\n",
       "      \"vega-lite\": \"https://cdn.jsdelivr.net/npm//vega-lite@4.8.1?noext\",\n",
       "      \"vega-embed\": \"https://cdn.jsdelivr.net/npm//vega-embed@6?noext\",\n",
       "    };\n",
       "\n",
       "    function loadScript(lib) {\n",
       "      return new Promise(function(resolve, reject) {\n",
       "        var s = document.createElement('script');\n",
       "        s.src = paths[lib];\n",
       "        s.async = true;\n",
       "        s.onload = () => resolve(paths[lib]);\n",
       "        s.onerror = () => reject(`Error loading script: ${paths[lib]}`);\n",
       "        document.getElementsByTagName(\"head\")[0].appendChild(s);\n",
       "      });\n",
       "    }\n",
       "\n",
       "    function showError(err) {\n",
       "      outputDiv.innerHTML = `<div class=\"error\" style=\"color:red;\">${err}</div>`;\n",
       "      throw err;\n",
       "    }\n",
       "\n",
       "    function displayChart(vegaEmbed) {\n",
       "      vegaEmbed(outputDiv, spec, embedOpt)\n",
       "        .catch(err => showError(`Javascript Error: ${err.message}<br>This usually means there's a typo in your chart specification. See the javascript console for the full traceback.`));\n",
       "    }\n",
       "\n",
       "    if(typeof define === \"function\" && define.amd) {\n",
       "      requirejs.config({paths});\n",
       "      require([\"vega-embed\"], displayChart, err => showError(`Error loading script: ${err.message}`));\n",
       "    } else if (typeof vegaEmbed === \"function\") {\n",
       "      displayChart(vegaEmbed);\n",
       "    } else {\n",
       "      loadScript(\"vega\")\n",
       "        .then(() => loadScript(\"vega-lite\"))\n",
       "        .then(() => loadScript(\"vega-embed\"))\n",
       "        .catch(showError)\n",
       "        .then(() => displayChart(vegaEmbed));\n",
       "    }\n",
       "  })({\"config\": {\"view\": {\"continuousWidth\": 400, \"continuousHeight\": 300}}, \"data\": {\"name\": \"data-ba285237d732157658545c5db43b10eb\"}, \"mark\": {\"type\": \"line\", \"point\": true}, \"encoding\": {\"color\": {\"type\": \"nominal\", \"field\": \"dataset\"}, \"x\": {\"type\": \"quantitative\", \"field\": \"n_estimators\"}, \"y\": {\"type\": \"quantitative\", \"field\": \"recall_score\"}}, \"$schema\": \"https://vega.github.io/schema/vega-lite/v4.8.1.json\", \"datasets\": {\"data-ba285237d732157658545c5db43b10eb\": [{\"n_estimators\": 25, \"recall_score\": 0.885828966681908, \"dataset\": \"train\", \"overfitting\": 0.07988071579695788}, {\"n_estimators\": 25, \"recall_score\": 0.8059482508849501, \"dataset\": \"test\", \"overfitting\": 0.07988071579695788}, {\"n_estimators\": 50, \"recall_score\": 0.8979588292214935, \"dataset\": \"train\", \"overfitting\": 0.07178362798193338}, {\"n_estimators\": 50, \"recall_score\": 0.8261752012395601, \"dataset\": \"test\", \"overfitting\": 0.07178362798193338}, {\"n_estimators\": 100, \"recall_score\": 0.9004675343651036, \"dataset\": \"train\", \"overfitting\": 0.051591830499035596}, {\"n_estimators\": 100, \"recall_score\": 0.848875703866068, \"dataset\": \"test\", \"overfitting\": 0.051591830499035596}, {\"n_estimators\": 200, \"recall_score\": 0.9994675343651036, \"dataset\": \"train\", \"overfitting\": 0.0953221253984482}, {\"n_estimators\": 200, \"recall_score\": 0.9041454089666554, \"dataset\": \"test\", \"overfitting\": 0.0953221253984482}]}}, {\"mode\": \"vega-lite\"});\n",
       "</script>"
      ],
      "text/plain": [
       "alt.Chart(...)"
      ]
     },
     "execution_count": 7,
     "metadata": {},
     "output_type": "execute_result"
    }
   ],
   "source": [
    "compare_train_test(sample_summary, 'n_estimators')"
   ]
  },
  {
   "cell_type": "markdown",
   "id": "98a28539",
   "metadata": {},
   "source": [
    "## 2. Data Splitting"
   ]
  },
  {
   "cell_type": "markdown",
   "id": "d4adb951",
   "metadata": {},
   "source": [
    "**[2.1]** Extract target values and independent values from df_data"
   ]
  },
  {
   "cell_type": "code",
   "execution_count": 8,
   "id": "c1af9332",
   "metadata": {},
   "outputs": [],
   "source": [
    "y_data = df_data.pop('Target')\n",
    "X_data = df_data"
   ]
  },
  {
   "cell_type": "markdown",
   "id": "8fa210ca",
   "metadata": {},
   "source": [
    "**[2.2]** Extract target values and independent values from df_test"
   ]
  },
  {
   "cell_type": "code",
   "execution_count": 9,
   "id": "c8e738af",
   "metadata": {},
   "outputs": [],
   "source": [
    "y_test = df_test.pop('Target')\n",
    "X_test = df_test"
   ]
  },
  {
   "cell_type": "markdown",
   "id": "d38bdd1c",
   "metadata": {},
   "source": [
    "**[2.3]** Instantiate a StratifiedKFold with 3 splits"
   ]
  },
  {
   "cell_type": "code",
   "execution_count": 10,
   "id": "7b1057a8",
   "metadata": {},
   "outputs": [],
   "source": [
    "skf = StratifiedKFold(n_splits=3, shuffle = True, random_state = 8)\n",
    "cv = list(skf.split(X_data, y_data))"
   ]
  },
  {
   "cell_type": "markdown",
   "id": "b91cd8d5",
   "metadata": {},
   "source": [
    "## 3. Cross-validation with default hyperparameters"
   ]
  },
  {
   "cell_type": "markdown",
   "id": "b3374254",
   "metadata": {},
   "source": [
    "**[3.1]** Fit the default DecisionTree model and calculate scores for all cv"
   ]
  },
  {
   "cell_type": "code",
   "execution_count": 11,
   "id": "0690396e",
   "metadata": {},
   "outputs": [],
   "source": [
    "scores_default = cross_validate(DecisionTreeClassifier(random_state=8), X_data, y_data, cv=cv, scoring='recall', return_train_score=True)"
   ]
  },
  {
   "cell_type": "markdown",
   "id": "93617bda",
   "metadata": {},
   "source": [
    "**[3.2]** Average scores of all cv"
   ]
  },
  {
   "cell_type": "code",
   "execution_count": 12,
   "id": "8eb72ddb",
   "metadata": {},
   "outputs": [
    {
     "data": {
      "text/plain": [
       "{'fit_time': 0.3743831316630046,\n",
       " 'score_time': 0.01670988400777181,\n",
       " 'test_score': 0.7699680511182109,\n",
       " 'train_score': 0.9994675186368477}"
      ]
     },
     "execution_count": 12,
     "metadata": {},
     "output_type": "execute_result"
    }
   ],
   "source": [
    "avg_scores_default = {metric:np.mean(scores) for (metric, scores) in scores_default.items()}\n",
    "avg_scores_default"
   ]
  },
  {
   "cell_type": "markdown",
   "id": "066f64b3",
   "metadata": {},
   "source": [
    "**[3.3]** Overfitting "
   ]
  },
  {
   "cell_type": "code",
   "execution_count": 13,
   "id": "be0c1d83",
   "metadata": {},
   "outputs": [
    {
     "data": {
      "text/plain": [
       "0.2294994675186368"
      ]
     },
     "execution_count": 13,
     "metadata": {},
     "output_type": "execute_result"
    }
   ],
   "source": [
    "overfitting = avg_scores_default['train_score'] - avg_scores_default['test_score']\n",
    "overfitting"
   ]
  },
  {
   "cell_type": "markdown",
   "id": "3f652e18",
   "metadata": {},
   "source": [
    "## 4. Reduce Overfitting with min_samples_leaf"
   ]
  },
  {
   "cell_type": "markdown",
   "id": "92f00f8d",
   "metadata": {},
   "source": [
    "**[4.1]** Train a DecisionTree model with DecisionTreeClassifier min_samples_leaf = [1, 2, 5, 10, 20, 30] and print the recall scores for the training and validation sets`"
   ]
  },
  {
   "cell_type": "code",
   "execution_count": 14,
   "id": "29d63fd9",
   "metadata": {},
   "outputs": [
    {
     "data": {
      "text/plain": [
       "[{'fit_time': 0.37721021970113117,\n",
       "  'score_time': 0.017424583435058594,\n",
       "  'test_score': 0.7699680511182109,\n",
       "  'train_score': 0.9994675186368477},\n",
       " {'fit_time': 0.38999056816101074,\n",
       "  'score_time': 0.018132686614990234,\n",
       "  'test_score': 0.7415690450834221,\n",
       "  'train_score': 0.9077032303869365},\n",
       " {'fit_time': 0.37609465916951496,\n",
       "  'score_time': 0.016573031743367512,\n",
       "  'test_score': 0.7351792687255946,\n",
       "  'train_score': 0.8294284700035499},\n",
       " {'fit_time': 0.37342031796773273,\n",
       "  'score_time': 0.017433722813924152,\n",
       "  'test_score': 0.7113951011714589,\n",
       "  'train_score': 0.7639332623358183},\n",
       " {'fit_time': 0.3500961462656657,\n",
       "  'score_time': 0.016334931055704754,\n",
       "  'test_score': 0.6947106851260206,\n",
       "  'train_score': 0.7325168619098332},\n",
       " {'fit_time': 0.36170029640197754,\n",
       "  'score_time': 0.016956011454264324,\n",
       "  'test_score': 0.675896343627973,\n",
       "  'train_score': 0.6964856230031948}]"
      ]
     },
     "execution_count": 14,
     "metadata": {},
     "output_type": "execute_result"
    }
   ],
   "source": [
    "scores_min_samples_leaf = []\n",
    "min_samples_leafs = [1, 2, 5, 10, 20, 30]\n",
    "for v in min_samples_leafs:\n",
    "    tree = DecisionTreeClassifier(random_state=8, min_samples_leaf=v)\n",
    "    scores_tuned = cross_validate(tree, X_data, y_data, cv=cv, scoring='recall', return_train_score=True)\n",
    "    avg_scores_tuned = {metric:np.mean(scores) for (metric, scores) in scores_tuned.items()}\n",
    "    scores_min_samples_leaf.append(avg_scores_tuned)\n",
    "scores_min_samples_leaf"
   ]
  },
  {
   "cell_type": "markdown",
   "id": "c754c127",
   "metadata": {},
   "source": [
    "**[4.2]** Plot cross-validation recall scores across all min_samples_leaf"
   ]
  },
  {
   "cell_type": "code",
   "execution_count": 15,
   "id": "46009dc6",
   "metadata": {},
   "outputs": [
    {
     "data": {
      "text/html": [
       "<div>\n",
       "<style scoped>\n",
       "    .dataframe tbody tr th:only-of-type {\n",
       "        vertical-align: middle;\n",
       "    }\n",
       "\n",
       "    .dataframe tbody tr th {\n",
       "        vertical-align: top;\n",
       "    }\n",
       "\n",
       "    .dataframe thead th {\n",
       "        text-align: right;\n",
       "    }\n",
       "</style>\n",
       "<table border=\"1\" class=\"dataframe\">\n",
       "  <thead>\n",
       "    <tr style=\"text-align: right;\">\n",
       "      <th></th>\n",
       "      <th>min_samples_leaf</th>\n",
       "      <th>recall_score</th>\n",
       "      <th>dataset</th>\n",
       "      <th>overfitting</th>\n",
       "    </tr>\n",
       "  </thead>\n",
       "  <tbody>\n",
       "    <tr>\n",
       "      <th>0</th>\n",
       "      <td>1</td>\n",
       "      <td>0.999468</td>\n",
       "      <td>train</td>\n",
       "      <td>0.229499</td>\n",
       "    </tr>\n",
       "    <tr>\n",
       "      <th>1</th>\n",
       "      <td>1</td>\n",
       "      <td>0.769968</td>\n",
       "      <td>test</td>\n",
       "      <td>0.229499</td>\n",
       "    </tr>\n",
       "    <tr>\n",
       "      <th>2</th>\n",
       "      <td>2</td>\n",
       "      <td>0.907703</td>\n",
       "      <td>train</td>\n",
       "      <td>0.166134</td>\n",
       "    </tr>\n",
       "    <tr>\n",
       "      <th>3</th>\n",
       "      <td>2</td>\n",
       "      <td>0.741569</td>\n",
       "      <td>test</td>\n",
       "      <td>0.166134</td>\n",
       "    </tr>\n",
       "    <tr>\n",
       "      <th>4</th>\n",
       "      <td>5</td>\n",
       "      <td>0.829428</td>\n",
       "      <td>train</td>\n",
       "      <td>0.094249</td>\n",
       "    </tr>\n",
       "    <tr>\n",
       "      <th>5</th>\n",
       "      <td>5</td>\n",
       "      <td>0.735179</td>\n",
       "      <td>test</td>\n",
       "      <td>0.094249</td>\n",
       "    </tr>\n",
       "    <tr>\n",
       "      <th>6</th>\n",
       "      <td>10</td>\n",
       "      <td>0.763933</td>\n",
       "      <td>train</td>\n",
       "      <td>0.052538</td>\n",
       "    </tr>\n",
       "    <tr>\n",
       "      <th>7</th>\n",
       "      <td>10</td>\n",
       "      <td>0.711395</td>\n",
       "      <td>test</td>\n",
       "      <td>0.052538</td>\n",
       "    </tr>\n",
       "    <tr>\n",
       "      <th>8</th>\n",
       "      <td>20</td>\n",
       "      <td>0.732517</td>\n",
       "      <td>train</td>\n",
       "      <td>0.037806</td>\n",
       "    </tr>\n",
       "    <tr>\n",
       "      <th>9</th>\n",
       "      <td>20</td>\n",
       "      <td>0.694711</td>\n",
       "      <td>test</td>\n",
       "      <td>0.037806</td>\n",
       "    </tr>\n",
       "    <tr>\n",
       "      <th>10</th>\n",
       "      <td>30</td>\n",
       "      <td>0.696486</td>\n",
       "      <td>train</td>\n",
       "      <td>0.020589</td>\n",
       "    </tr>\n",
       "    <tr>\n",
       "      <th>11</th>\n",
       "      <td>30</td>\n",
       "      <td>0.675896</td>\n",
       "      <td>test</td>\n",
       "      <td>0.020589</td>\n",
       "    </tr>\n",
       "  </tbody>\n",
       "</table>\n",
       "</div>"
      ],
      "text/plain": [
       "    min_samples_leaf  recall_score dataset  overfitting\n",
       "0                  1      0.999468   train     0.229499\n",
       "1                  1      0.769968    test     0.229499\n",
       "2                  2      0.907703   train     0.166134\n",
       "3                  2      0.741569    test     0.166134\n",
       "4                  5      0.829428   train     0.094249\n",
       "5                  5      0.735179    test     0.094249\n",
       "6                 10      0.763933   train     0.052538\n",
       "7                 10      0.711395    test     0.052538\n",
       "8                 20      0.732517   train     0.037806\n",
       "9                 20      0.694711    test     0.037806\n",
       "10                30      0.696486   train     0.020589\n",
       "11                30      0.675896    test     0.020589"
      ]
     },
     "execution_count": 15,
     "metadata": {},
     "output_type": "execute_result"
    }
   ],
   "source": [
    "min_samples_leaf_summary= summarize_cv_hyperparameter(scores_min_samples_leaf, 'min_samples_leaf', min_samples_leafs)\n",
    "min_samples_leaf_summary"
   ]
  },
  {
   "cell_type": "code",
   "execution_count": 16,
   "id": "d5351d94",
   "metadata": {},
   "outputs": [
    {
     "data": {
      "text/html": [
       "\n",
       "<div id=\"altair-viz-c9478681eb8f4982bd3d0b22102e366c\"></div>\n",
       "<script type=\"text/javascript\">\n",
       "  (function(spec, embedOpt){\n",
       "    let outputDiv = document.currentScript.previousElementSibling;\n",
       "    if (outputDiv.id !== \"altair-viz-c9478681eb8f4982bd3d0b22102e366c\") {\n",
       "      outputDiv = document.getElementById(\"altair-viz-c9478681eb8f4982bd3d0b22102e366c\");\n",
       "    }\n",
       "    const paths = {\n",
       "      \"vega\": \"https://cdn.jsdelivr.net/npm//vega@5?noext\",\n",
       "      \"vega-lib\": \"https://cdn.jsdelivr.net/npm//vega-lib?noext\",\n",
       "      \"vega-lite\": \"https://cdn.jsdelivr.net/npm//vega-lite@4.8.1?noext\",\n",
       "      \"vega-embed\": \"https://cdn.jsdelivr.net/npm//vega-embed@6?noext\",\n",
       "    };\n",
       "\n",
       "    function loadScript(lib) {\n",
       "      return new Promise(function(resolve, reject) {\n",
       "        var s = document.createElement('script');\n",
       "        s.src = paths[lib];\n",
       "        s.async = true;\n",
       "        s.onload = () => resolve(paths[lib]);\n",
       "        s.onerror = () => reject(`Error loading script: ${paths[lib]}`);\n",
       "        document.getElementsByTagName(\"head\")[0].appendChild(s);\n",
       "      });\n",
       "    }\n",
       "\n",
       "    function showError(err) {\n",
       "      outputDiv.innerHTML = `<div class=\"error\" style=\"color:red;\">${err}</div>`;\n",
       "      throw err;\n",
       "    }\n",
       "\n",
       "    function displayChart(vegaEmbed) {\n",
       "      vegaEmbed(outputDiv, spec, embedOpt)\n",
       "        .catch(err => showError(`Javascript Error: ${err.message}<br>This usually means there's a typo in your chart specification. See the javascript console for the full traceback.`));\n",
       "    }\n",
       "\n",
       "    if(typeof define === \"function\" && define.amd) {\n",
       "      requirejs.config({paths});\n",
       "      require([\"vega-embed\"], displayChart, err => showError(`Error loading script: ${err.message}`));\n",
       "    } else if (typeof vegaEmbed === \"function\") {\n",
       "      displayChart(vegaEmbed);\n",
       "    } else {\n",
       "      loadScript(\"vega\")\n",
       "        .then(() => loadScript(\"vega-lite\"))\n",
       "        .then(() => loadScript(\"vega-embed\"))\n",
       "        .catch(showError)\n",
       "        .then(() => displayChart(vegaEmbed));\n",
       "    }\n",
       "  })({\"config\": {\"view\": {\"continuousWidth\": 400, \"continuousHeight\": 300}}, \"data\": {\"name\": \"data-984f7fce2934e38a5e38b74459926985\"}, \"mark\": {\"type\": \"line\", \"point\": true}, \"encoding\": {\"color\": {\"type\": \"nominal\", \"field\": \"dataset\"}, \"x\": {\"type\": \"quantitative\", \"field\": \"min_samples_leaf\"}, \"y\": {\"type\": \"quantitative\", \"field\": \"recall_score\"}}, \"$schema\": \"https://vega.github.io/schema/vega-lite/v4.8.1.json\", \"datasets\": {\"data-984f7fce2934e38a5e38b74459926985\": [{\"min_samples_leaf\": 1, \"recall_score\": 0.9994675186368477, \"dataset\": \"train\", \"overfitting\": 0.2294994675186368}, {\"min_samples_leaf\": 1, \"recall_score\": 0.7699680511182109, \"dataset\": \"test\", \"overfitting\": 0.2294994675186368}, {\"min_samples_leaf\": 2, \"recall_score\": 0.9077032303869365, \"dataset\": \"train\", \"overfitting\": 0.16613418530351431}, {\"min_samples_leaf\": 2, \"recall_score\": 0.7415690450834221, \"dataset\": \"test\", \"overfitting\": 0.16613418530351431}, {\"min_samples_leaf\": 5, \"recall_score\": 0.8294284700035499, \"dataset\": \"train\", \"overfitting\": 0.09424920127795533}, {\"min_samples_leaf\": 5, \"recall_score\": 0.7351792687255946, \"dataset\": \"test\", \"overfitting\": 0.09424920127795533}, {\"min_samples_leaf\": 10, \"recall_score\": 0.7639332623358183, \"dataset\": \"train\", \"overfitting\": 0.05253816116435939}, {\"min_samples_leaf\": 10, \"recall_score\": 0.7113951011714589, \"dataset\": \"test\", \"overfitting\": 0.05253816116435939}, {\"min_samples_leaf\": 20, \"recall_score\": 0.7325168619098332, \"dataset\": \"train\", \"overfitting\": 0.037806176783812595}, {\"min_samples_leaf\": 20, \"recall_score\": 0.6947106851260206, \"dataset\": \"test\", \"overfitting\": 0.037806176783812595}, {\"min_samples_leaf\": 30, \"recall_score\": 0.6964856230031948, \"dataset\": \"train\", \"overfitting\": 0.020589279375221814}, {\"min_samples_leaf\": 30, \"recall_score\": 0.675896343627973, \"dataset\": \"test\", \"overfitting\": 0.020589279375221814}]}}, {\"mode\": \"vega-lite\"});\n",
       "</script>"
      ],
      "text/plain": [
       "alt.Chart(...)"
      ]
     },
     "execution_count": 16,
     "metadata": {},
     "output_type": "execute_result"
    }
   ],
   "source": [
    "compare_train_test(min_samples_leaf_summary, 'min_samples_leaf')"
   ]
  },
  {
   "cell_type": "markdown",
   "id": "9f766942",
   "metadata": {},
   "source": [
    "### _Conclusion_:\n",
    "\n",
    "In the above graph, the larger the min_samples_leaf is, the less the overfitting is, but the lower the performance is. Therefore, 2 <= min_samples_leaf <= 10 is the best range of min_samples_leaf because the overfitting is reduced while performance on test set is still preserved.\n",
    "\n",
    "For the next steps, I decided to use the default min_samples_leaf = 5 because the performance is still good while overfitting is reduced."
   ]
  },
  {
   "cell_type": "markdown",
   "id": "b985fa51",
   "metadata": {},
   "source": [
    "## 5.   Reduce Overfitting with max_depth"
   ]
  },
  {
   "cell_type": "markdown",
   "id": "775905ae",
   "metadata": {},
   "source": [
    "**[5.1]** Train model with mean_samples_leaf = 5"
   ]
  },
  {
   "cell_type": "code",
   "execution_count": 17,
   "id": "46a58caf",
   "metadata": {},
   "outputs": [],
   "source": [
    "tree_1 = DecisionTreeClassifier(random_state=8, min_samples_split=5).fit(X_data, y_data)"
   ]
  },
  {
   "cell_type": "markdown",
   "id": "0c552958",
   "metadata": {},
   "source": [
    "**[5.2]** Let's have a look at what is the current value for this hyperparameter"
   ]
  },
  {
   "cell_type": "code",
   "execution_count": 18,
   "id": "4a212d70",
   "metadata": {},
   "outputs": [
    {
     "data": {
      "text/plain": [
       "21"
      ]
     },
     "execution_count": 18,
     "metadata": {},
     "output_type": "execute_result"
    }
   ],
   "source": [
    "tree_1.tree_.max_depth"
   ]
  },
  {
   "cell_type": "markdown",
   "id": "07827cd0",
   "metadata": {},
   "source": [
    "**[5.3]** Train a RandomForestClassifier model with max_depth = [5, 10, 15, 21, 30, 40], min_samples_leaf = 5 print the recall score for the training and validation sets"
   ]
  },
  {
   "cell_type": "code",
   "execution_count": 19,
   "id": "a5142888",
   "metadata": {},
   "outputs": [
    {
     "data": {
      "text/plain": [
       "[{'fit_time': 0.2097468376159668,\n",
       "  'score_time': 0.016553084055582683,\n",
       "  'test_score': 0.47284345047923315,\n",
       "  'train_score': 0.4794107206247782},\n",
       " {'fit_time': 0.3532860279083252,\n",
       "  'score_time': 0.017319281895955402,\n",
       "  'test_score': 0.6794462193823216,\n",
       "  'train_score': 0.738551650692226},\n",
       " {'fit_time': 0.3772440751393636,\n",
       "  'score_time': 0.01623400052388509,\n",
       "  'test_score': 0.7298544550940717,\n",
       "  'train_score': 0.825346112886049},\n",
       " {'fit_time': 0.36116735140482586,\n",
       "  'score_time': 0.016820589701334637,\n",
       "  'test_score': 0.7351792687255946,\n",
       "  'train_score': 0.8294284700035499},\n",
       " {'fit_time': 0.36576565106709796,\n",
       "  'score_time': 0.016532103220621746,\n",
       "  'test_score': 0.7351792687255946,\n",
       "  'train_score': 0.8294284700035499},\n",
       " {'fit_time': 0.36435969670613605,\n",
       "  'score_time': 0.01618798573811849,\n",
       "  'test_score': 0.7351792687255946,\n",
       "  'train_score': 0.8294284700035499}]"
      ]
     },
     "execution_count": 19,
     "metadata": {},
     "output_type": "execute_result"
    }
   ],
   "source": [
    "scores_max_depth = []\n",
    "max_depths = [5, 10, 15, 21, 30, 40]\n",
    "for v in max_depths:\n",
    "    tree = DecisionTreeClassifier(random_state=8, max_depth=v, min_samples_leaf=5)\n",
    "    scores_tuned = cross_validate(tree, X_data, y_data, cv=cv, scoring='recall', return_train_score=True)\n",
    "    avg_scores_tuned = {metric:np.mean(scores) for (metric, scores) in scores_tuned.items()}\n",
    "    scores_max_depth.append(avg_scores_tuned)\n",
    "scores_max_depth"
   ]
  },
  {
   "cell_type": "markdown",
   "id": "fd4bdb71",
   "metadata": {},
   "source": [
    "**[5.4]** Plot cross-validation recall scores across all max_depths"
   ]
  },
  {
   "cell_type": "code",
   "execution_count": 20,
   "id": "d0b3b458",
   "metadata": {},
   "outputs": [
    {
     "data": {
      "text/html": [
       "<div>\n",
       "<style scoped>\n",
       "    .dataframe tbody tr th:only-of-type {\n",
       "        vertical-align: middle;\n",
       "    }\n",
       "\n",
       "    .dataframe tbody tr th {\n",
       "        vertical-align: top;\n",
       "    }\n",
       "\n",
       "    .dataframe thead th {\n",
       "        text-align: right;\n",
       "    }\n",
       "</style>\n",
       "<table border=\"1\" class=\"dataframe\">\n",
       "  <thead>\n",
       "    <tr style=\"text-align: right;\">\n",
       "      <th></th>\n",
       "      <th>max_depth</th>\n",
       "      <th>recall_score</th>\n",
       "      <th>dataset</th>\n",
       "      <th>overfitting</th>\n",
       "    </tr>\n",
       "  </thead>\n",
       "  <tbody>\n",
       "    <tr>\n",
       "      <th>0</th>\n",
       "      <td>5</td>\n",
       "      <td>0.479411</td>\n",
       "      <td>train</td>\n",
       "      <td>0.006567</td>\n",
       "    </tr>\n",
       "    <tr>\n",
       "      <th>1</th>\n",
       "      <td>5</td>\n",
       "      <td>0.472843</td>\n",
       "      <td>test</td>\n",
       "      <td>0.006567</td>\n",
       "    </tr>\n",
       "    <tr>\n",
       "      <th>2</th>\n",
       "      <td>10</td>\n",
       "      <td>0.738552</td>\n",
       "      <td>train</td>\n",
       "      <td>0.059105</td>\n",
       "    </tr>\n",
       "    <tr>\n",
       "      <th>3</th>\n",
       "      <td>10</td>\n",
       "      <td>0.679446</td>\n",
       "      <td>test</td>\n",
       "      <td>0.059105</td>\n",
       "    </tr>\n",
       "    <tr>\n",
       "      <th>4</th>\n",
       "      <td>15</td>\n",
       "      <td>0.825346</td>\n",
       "      <td>train</td>\n",
       "      <td>0.095492</td>\n",
       "    </tr>\n",
       "    <tr>\n",
       "      <th>5</th>\n",
       "      <td>15</td>\n",
       "      <td>0.729854</td>\n",
       "      <td>test</td>\n",
       "      <td>0.095492</td>\n",
       "    </tr>\n",
       "    <tr>\n",
       "      <th>6</th>\n",
       "      <td>21</td>\n",
       "      <td>0.829428</td>\n",
       "      <td>train</td>\n",
       "      <td>0.094249</td>\n",
       "    </tr>\n",
       "    <tr>\n",
       "      <th>7</th>\n",
       "      <td>21</td>\n",
       "      <td>0.735179</td>\n",
       "      <td>test</td>\n",
       "      <td>0.094249</td>\n",
       "    </tr>\n",
       "    <tr>\n",
       "      <th>8</th>\n",
       "      <td>30</td>\n",
       "      <td>0.829428</td>\n",
       "      <td>train</td>\n",
       "      <td>0.094249</td>\n",
       "    </tr>\n",
       "    <tr>\n",
       "      <th>9</th>\n",
       "      <td>30</td>\n",
       "      <td>0.735179</td>\n",
       "      <td>test</td>\n",
       "      <td>0.094249</td>\n",
       "    </tr>\n",
       "    <tr>\n",
       "      <th>10</th>\n",
       "      <td>40</td>\n",
       "      <td>0.829428</td>\n",
       "      <td>train</td>\n",
       "      <td>0.094249</td>\n",
       "    </tr>\n",
       "    <tr>\n",
       "      <th>11</th>\n",
       "      <td>40</td>\n",
       "      <td>0.735179</td>\n",
       "      <td>test</td>\n",
       "      <td>0.094249</td>\n",
       "    </tr>\n",
       "  </tbody>\n",
       "</table>\n",
       "</div>"
      ],
      "text/plain": [
       "    max_depth  recall_score dataset  overfitting\n",
       "0           5      0.479411   train     0.006567\n",
       "1           5      0.472843    test     0.006567\n",
       "2          10      0.738552   train     0.059105\n",
       "3          10      0.679446    test     0.059105\n",
       "4          15      0.825346   train     0.095492\n",
       "5          15      0.729854    test     0.095492\n",
       "6          21      0.829428   train     0.094249\n",
       "7          21      0.735179    test     0.094249\n",
       "8          30      0.829428   train     0.094249\n",
       "9          30      0.735179    test     0.094249\n",
       "10         40      0.829428   train     0.094249\n",
       "11         40      0.735179    test     0.094249"
      ]
     },
     "execution_count": 20,
     "metadata": {},
     "output_type": "execute_result"
    }
   ],
   "source": [
    "max_depth_summary= summarize_cv_hyperparameter(scores_max_depth, 'max_depth', max_depths)\n",
    "max_depth_summary"
   ]
  },
  {
   "cell_type": "code",
   "execution_count": 21,
   "id": "b8d8539b",
   "metadata": {},
   "outputs": [
    {
     "data": {
      "text/html": [
       "\n",
       "<div id=\"altair-viz-f3f9b00ae19f4cf3b32d2e0601fdeef0\"></div>\n",
       "<script type=\"text/javascript\">\n",
       "  (function(spec, embedOpt){\n",
       "    let outputDiv = document.currentScript.previousElementSibling;\n",
       "    if (outputDiv.id !== \"altair-viz-f3f9b00ae19f4cf3b32d2e0601fdeef0\") {\n",
       "      outputDiv = document.getElementById(\"altair-viz-f3f9b00ae19f4cf3b32d2e0601fdeef0\");\n",
       "    }\n",
       "    const paths = {\n",
       "      \"vega\": \"https://cdn.jsdelivr.net/npm//vega@5?noext\",\n",
       "      \"vega-lib\": \"https://cdn.jsdelivr.net/npm//vega-lib?noext\",\n",
       "      \"vega-lite\": \"https://cdn.jsdelivr.net/npm//vega-lite@4.8.1?noext\",\n",
       "      \"vega-embed\": \"https://cdn.jsdelivr.net/npm//vega-embed@6?noext\",\n",
       "    };\n",
       "\n",
       "    function loadScript(lib) {\n",
       "      return new Promise(function(resolve, reject) {\n",
       "        var s = document.createElement('script');\n",
       "        s.src = paths[lib];\n",
       "        s.async = true;\n",
       "        s.onload = () => resolve(paths[lib]);\n",
       "        s.onerror = () => reject(`Error loading script: ${paths[lib]}`);\n",
       "        document.getElementsByTagName(\"head\")[0].appendChild(s);\n",
       "      });\n",
       "    }\n",
       "\n",
       "    function showError(err) {\n",
       "      outputDiv.innerHTML = `<div class=\"error\" style=\"color:red;\">${err}</div>`;\n",
       "      throw err;\n",
       "    }\n",
       "\n",
       "    function displayChart(vegaEmbed) {\n",
       "      vegaEmbed(outputDiv, spec, embedOpt)\n",
       "        .catch(err => showError(`Javascript Error: ${err.message}<br>This usually means there's a typo in your chart specification. See the javascript console for the full traceback.`));\n",
       "    }\n",
       "\n",
       "    if(typeof define === \"function\" && define.amd) {\n",
       "      requirejs.config({paths});\n",
       "      require([\"vega-embed\"], displayChart, err => showError(`Error loading script: ${err.message}`));\n",
       "    } else if (typeof vegaEmbed === \"function\") {\n",
       "      displayChart(vegaEmbed);\n",
       "    } else {\n",
       "      loadScript(\"vega\")\n",
       "        .then(() => loadScript(\"vega-lite\"))\n",
       "        .then(() => loadScript(\"vega-embed\"))\n",
       "        .catch(showError)\n",
       "        .then(() => displayChart(vegaEmbed));\n",
       "    }\n",
       "  })({\"config\": {\"view\": {\"continuousWidth\": 400, \"continuousHeight\": 300}}, \"data\": {\"name\": \"data-f0e789697bb05ed8522453eeccb24b91\"}, \"mark\": {\"type\": \"line\", \"point\": true}, \"encoding\": {\"color\": {\"type\": \"nominal\", \"field\": \"dataset\"}, \"x\": {\"type\": \"quantitative\", \"field\": \"max_depth\"}, \"y\": {\"type\": \"quantitative\", \"field\": \"recall_score\"}}, \"$schema\": \"https://vega.github.io/schema/vega-lite/v4.8.1.json\", \"datasets\": {\"data-f0e789697bb05ed8522453eeccb24b91\": [{\"max_depth\": 5, \"recall_score\": 0.4794107206247782, \"dataset\": \"train\", \"overfitting\": 0.006567270145545034}, {\"max_depth\": 5, \"recall_score\": 0.47284345047923315, \"dataset\": \"test\", \"overfitting\": 0.006567270145545034}, {\"max_depth\": 10, \"recall_score\": 0.738551650692226, \"dataset\": \"train\", \"overfitting\": 0.05910543130990431}, {\"max_depth\": 10, \"recall_score\": 0.6794462193823216, \"dataset\": \"test\", \"overfitting\": 0.05910543130990431}, {\"max_depth\": 15, \"recall_score\": 0.825346112886049, \"dataset\": \"train\", \"overfitting\": 0.09549165779197732}, {\"max_depth\": 15, \"recall_score\": 0.7298544550940717, \"dataset\": \"test\", \"overfitting\": 0.09549165779197732}, {\"max_depth\": 21, \"recall_score\": 0.8294284700035499, \"dataset\": \"train\", \"overfitting\": 0.09424920127795533}, {\"max_depth\": 21, \"recall_score\": 0.7351792687255946, \"dataset\": \"test\", \"overfitting\": 0.09424920127795533}, {\"max_depth\": 30, \"recall_score\": 0.8294284700035499, \"dataset\": \"train\", \"overfitting\": 0.09424920127795533}, {\"max_depth\": 30, \"recall_score\": 0.7351792687255946, \"dataset\": \"test\", \"overfitting\": 0.09424920127795533}, {\"max_depth\": 40, \"recall_score\": 0.8294284700035499, \"dataset\": \"train\", \"overfitting\": 0.09424920127795533}, {\"max_depth\": 40, \"recall_score\": 0.7351792687255946, \"dataset\": \"test\", \"overfitting\": 0.09424920127795533}]}}, {\"mode\": \"vega-lite\"});\n",
       "</script>"
      ],
      "text/plain": [
       "alt.Chart(...)"
      ]
     },
     "execution_count": 21,
     "metadata": {},
     "output_type": "execute_result"
    }
   ],
   "source": [
    "compare_train_test(max_depth_summary, 'max_depth')"
   ]
  },
  {
   "cell_type": "markdown",
   "id": "dc58523d",
   "metadata": {},
   "source": [
    "### _Conclusion_:\n",
    "\n",
    "In the above graph, max_depths above 10 do not differ in level of overfitting. When max_depth is below 15, there is a drop in both overfitting and performance. Therefore, __15 <= max_depth <= 20__ is the best range of max_depth because the overfitting is stable and performance is still preserved. "
   ]
  },
  {
   "cell_type": "markdown",
   "id": "848cbbfb",
   "metadata": {},
   "source": [
    "## 6. Auto tuning using Grid Search "
   ]
  },
  {
   "cell_type": "markdown",
   "id": "2dbd81a2",
   "metadata": {},
   "source": [
    "**[6.1]** Create a dictionary containing the grid search parameters"
   ]
  },
  {
   "cell_type": "code",
   "execution_count": 22,
   "id": "a6a82b92",
   "metadata": {},
   "outputs": [
    {
     "data": {
      "text/plain": [
       "{'min_samples_leaf': array([ 2,  3,  4,  5,  6,  7,  8,  9, 10]),\n",
       " 'max_depth': array([15, 16, 17, 18, 19, 20, 21])}"
      ]
     },
     "execution_count": 22,
     "metadata": {},
     "output_type": "execute_result"
    }
   ],
   "source": [
    "hyperparams_grid = {\n",
    "    'min_samples_leaf': np.arange(2, 11),\n",
    "    'max_depth': np.arange(15, 22)\n",
    "    }\n",
    "hyperparams_grid"
   ]
  },
  {
   "cell_type": "markdown",
   "id": "e0f1e24d",
   "metadata": {},
   "source": [
    "**[6.2]** Instantiate a GridSearchCV with the hyperparameter dist and the decision tree model"
   ]
  },
  {
   "cell_type": "code",
   "execution_count": 23,
   "id": "1db054e2",
   "metadata": {},
   "outputs": [],
   "source": [
    "grid_search_tree = GridSearchCV(DecisionTreeClassifier(random_state=8), hyperparams_grid, scoring='recall',cv=cv, verbose=1)"
   ]
  },
  {
   "cell_type": "markdown",
   "id": "d1858c69",
   "metadata": {},
   "source": [
    "**[6.3]** Fit the GridSearchCV on the training set"
   ]
  },
  {
   "cell_type": "code",
   "execution_count": 24,
   "id": "9b6172d6",
   "metadata": {},
   "outputs": [
    {
     "name": "stdout",
     "output_type": "stream",
     "text": [
      "Fitting 3 folds for each of 63 candidates, totalling 189 fits\n"
     ]
    },
    {
     "data": {
      "text/plain": [
       "GridSearchCV(cv=[(array([     0,      1,      2, ..., 105064, 105065, 105068]),\n",
       "                  array([     3,      5,      9, ..., 105063, 105066, 105067])),\n",
       "                 (array([     0,      2,      3, ..., 105066, 105067, 105068]),\n",
       "                  array([     1,      4,      6, ..., 105057, 105060, 105064])),\n",
       "                 (array([     1,      3,      4, ..., 105064, 105066, 105067]),\n",
       "                  array([     0,      2,      7, ..., 105061, 105065, 105068]))],\n",
       "             estimator=DecisionTreeClassifier(random_state=8),\n",
       "             param_grid={'max_depth': array([15, 16, 17, 18, 19, 20, 21]),\n",
       "                         'min_samples_leaf': array([ 2,  3,  4,  5,  6,  7,  8,  9, 10])},\n",
       "             scoring='recall', verbose=1)"
      ]
     },
     "execution_count": 24,
     "metadata": {},
     "output_type": "execute_result"
    }
   ],
   "source": [
    "grid_search_tree.fit(X_data, y_data)"
   ]
  },
  {
   "cell_type": "markdown",
   "id": "01fddf27",
   "metadata": {},
   "source": [
    "**[6.4]** Display the best set of hyperparameters"
   ]
  },
  {
   "cell_type": "code",
   "execution_count": 25,
   "id": "3c0519fe",
   "metadata": {},
   "outputs": [
    {
     "data": {
      "text/plain": [
       "{'max_depth': 16, 'min_samples_leaf': 3}"
      ]
     },
     "execution_count": 25,
     "metadata": {},
     "output_type": "execute_result"
    }
   ],
   "source": [
    "best_params = grid_search_tree.best_params_\n",
    "best_params"
   ]
  },
  {
   "cell_type": "markdown",
   "id": "76540f77",
   "metadata": {},
   "source": [
    "**[6.5]** Display best recall"
   ]
  },
  {
   "cell_type": "code",
   "execution_count": 26,
   "id": "3f075eb5",
   "metadata": {},
   "outputs": [
    {
     "data": {
      "text/plain": [
       "0.7529286474973377"
      ]
     },
     "execution_count": 26,
     "metadata": {},
     "output_type": "execute_result"
    }
   ],
   "source": [
    "grid_search_tree.best_score_"
   ]
  },
  {
   "cell_type": "markdown",
   "id": "988282af",
   "metadata": {},
   "source": [
    "**[6.6]** Cross validate decision tree max_depth = 16, min_samples_leaf = 3"
   ]
  },
  {
   "cell_type": "code",
   "execution_count": 27,
   "id": "1579423f",
   "metadata": {},
   "outputs": [],
   "source": [
    "best_grid_search_tree = cross_validate(DecisionTreeClassifier(random_state=8, max_depth=best_params['max_depth'], min_samples_leaf=best_params['min_samples_leaf']), X_data, y_data, cv=cv, scoring='recall', return_train_score=True)"
   ]
  },
  {
   "cell_type": "markdown",
   "id": "5ce98b2e",
   "metadata": {},
   "source": [
    "**[6.7]** Average scores of all cv"
   ]
  },
  {
   "cell_type": "code",
   "execution_count": 28,
   "id": "c29712e2",
   "metadata": {},
   "outputs": [
    {
     "data": {
      "text/plain": [
       "{'fit_time': 0.3606416384379069,\n",
       " 'score_time': 0.016742626825968426,\n",
       " 'test_score': 0.7529286474973377,\n",
       " 'train_score': 0.8851615193468229}"
      ]
     },
     "execution_count": 28,
     "metadata": {},
     "output_type": "execute_result"
    }
   ],
   "source": [
    "avg_scores_best_grid_search_tree = {metric:np.mean(scores) for (metric, scores) in best_grid_search_tree.items()}\n",
    "avg_scores_best_grid_search_tree"
   ]
  },
  {
   "cell_type": "code",
   "execution_count": 29,
   "id": "02e6c6fc",
   "metadata": {},
   "outputs": [
    {
     "data": {
      "text/plain": [
       "0.13223287184948518"
      ]
     },
     "execution_count": 29,
     "metadata": {},
     "output_type": "execute_result"
    }
   ],
   "source": [
    "overfitting = avg_scores_best_grid_search_tree['train_score'] - avg_scores_best_grid_search_tree['test_score']\n",
    "overfitting"
   ]
  },
  {
   "cell_type": "markdown",
   "id": "8a45412c",
   "metadata": {},
   "source": [
    "## 7. Assess the best Decision Tree Model on testing set"
   ]
  },
  {
   "cell_type": "markdown",
   "id": "1a5bc81b",
   "metadata": {},
   "source": [
    "**[7.1]** Train DecisionTree model with best set of hyper parameters"
   ]
  },
  {
   "cell_type": "code",
   "execution_count": 30,
   "id": "f9b10d98",
   "metadata": {},
   "outputs": [],
   "source": [
    "tree_best = DecisionTreeClassifier(random_state=8, max_depth=best_params['max_depth'], min_samples_leaf=best_params['min_samples_leaf']).fit(X_data, y_data)"
   ]
  },
  {
   "cell_type": "markdown",
   "id": "291070ca",
   "metadata": {},
   "source": [
    "**[7.2]** Use the best Decision Tree to predict X_test and save to y_test_preds"
   ]
  },
  {
   "cell_type": "code",
   "execution_count": 31,
   "id": "ab5eabb8",
   "metadata": {},
   "outputs": [],
   "source": [
    "y_test_preds = tree_best.predict(X_test)"
   ]
  },
  {
   "cell_type": "markdown",
   "id": "a4e837e1",
   "metadata": {},
   "source": [
    "**[7.3]** Print f2 score, precision, and recall on testing set"
   ]
  },
  {
   "cell_type": "code",
   "execution_count": 32,
   "id": "a580bd08",
   "metadata": {},
   "outputs": [
    {
     "name": "stdout",
     "output_type": "stream",
     "text": [
      "Precision:  0.8147590361445783\n",
      "Recall:  0.7684659090909091\n",
      "F2:  0.7772988505747127\n"
     ]
    }
   ],
   "source": [
    "precision = precision_score(y_test, y_test_preds)\n",
    "print('Precision: ', precision)\n",
    "recall= recall_score(y_test, y_test_preds)\n",
    "print('Recall: ', recall)\n",
    "f2 = fbeta_score(y_test, y_test_preds, beta = 2)\n",
    "print('F2: ', f2)"
   ]
  },
  {
   "cell_type": "markdown",
   "id": "227eb2bd",
   "metadata": {},
   "source": [
    "**[7.4]** Confusion matrix on testing set"
   ]
  },
  {
   "cell_type": "code",
   "execution_count": 33,
   "id": "39632012",
   "metadata": {},
   "outputs": [
    {
     "data": {
      "text/plain": [
       "<sklearn.metrics._plot.confusion_matrix.ConfusionMatrixDisplay at 0x7fba32435430>"
      ]
     },
     "execution_count": 33,
     "metadata": {},
     "output_type": "execute_result"
    },
    {
     "data": {
      "image/png": "[encoded data removed]",
      "text/plain": [
       "<Figure size 640x480 with 2 Axes>"
      ]
     },
     "metadata": {},
     "output_type": "display_data"
    }
   ],
   "source": [
    "ConfusionMatrixDisplay.from_predictions(y_test, y_test_preds, normalize = 'true')"
   ]
  },
  {
   "cell_type": "markdown",
   "id": "ea009ab6",
   "metadata": {},
   "source": [
    "# 8. Feature importance "
   ]
  },
  {
   "cell_type": "markdown",
   "id": "905808c9",
   "metadata": {},
   "source": [
    "**[8.1]** Print the features importance of tree_best"
   ]
  },
  {
   "cell_type": "code",
   "execution_count": 34,
   "id": "4be537da",
   "metadata": {},
   "outputs": [
    {
     "data": {
      "text/plain": [
       "array([9.37743028e-02, 5.59266667e-02, 5.40620838e-02, 2.58529368e-02,\n",
       "       4.10447513e-02, 9.00285753e-02, 1.01382033e-01, 2.72851624e-01,\n",
       "       9.84246361e-02, 5.58468668e-02, 9.09273622e-02, 1.69901924e-03,\n",
       "       4.31789669e-03, 0.00000000e+00, 1.71387526e-03, 2.25606132e-03,\n",
       "       1.68987876e-03, 8.96925429e-04, 0.00000000e+00, 9.85621071e-05,\n",
       "       1.11263386e-03, 1.31083369e-03, 6.54988528e-04, 1.32832464e-03,\n",
       "       0.00000000e+00, 3.05328319e-04, 2.05457261e-03, 4.00715025e-04,\n",
       "       3.85456928e-05])"
      ]
     },
     "execution_count": 34,
     "metadata": {},
     "output_type": "execute_result"
    }
   ],
   "source": [
    "tree_best.feature_importances_"
   ]
  },
  {
   "cell_type": "markdown",
   "id": "c08c095c",
   "metadata": {},
   "source": [
    "**[8.2]** Create a Dataframe with these values"
   ]
  },
  {
   "cell_type": "code",
   "execution_count": 35,
   "id": "f9ddc707",
   "metadata": {},
   "outputs": [],
   "source": [
    "feat_imp_tree_df = pd.DataFrame(\n",
    "    {\n",
    "        'feature': X_data.columns,\n",
    "     'feature_importance': tree_best.feature_importances_\n",
    "     }\n",
    ")"
   ]
  },
  {
   "cell_type": "markdown",
   "id": "4b067340",
   "metadata": {},
   "source": [
    "**[8.3]** Sort the previous dataframe and reset its index"
   ]
  },
  {
   "cell_type": "code",
   "execution_count": 36,
   "id": "a2403c45",
   "metadata": {},
   "outputs": [],
   "source": [
    "feat_imp_tree_df = feat_imp_tree_df.sort_values('feature_importance', ascending=False).reset_index(drop=True)"
   ]
  },
  {
   "cell_type": "markdown",
   "id": "8e15b336",
   "metadata": {},
   "source": [
    "**[8.4]** We can visualise this information on a graph"
   ]
  },
  {
   "cell_type": "code",
   "execution_count": 37,
   "id": "6807125a",
   "metadata": {},
   "outputs": [
    {
     "data": {
      "text/html": [
       "\n",
       "<div id=\"altair-viz-1bfa4359f2ac49228653550dea001080\"></div>\n",
       "<script type=\"text/javascript\">\n",
       "  (function(spec, embedOpt){\n",
       "    let outputDiv = document.currentScript.previousElementSibling;\n",
       "    if (outputDiv.id !== \"altair-viz-1bfa4359f2ac49228653550dea001080\") {\n",
       "      outputDiv = document.getElementById(\"altair-viz-1bfa4359f2ac49228653550dea001080\");\n",
       "    }\n",
       "    const paths = {\n",
       "      \"vega\": \"https://cdn.jsdelivr.net/npm//vega@5?noext\",\n",
       "      \"vega-lib\": \"https://cdn.jsdelivr.net/npm//vega-lib?noext\",\n",
       "      \"vega-lite\": \"https://cdn.jsdelivr.net/npm//vega-lite@4.8.1?noext\",\n",
       "      \"vega-embed\": \"https://cdn.jsdelivr.net/npm//vega-embed@6?noext\",\n",
       "    };\n",
       "\n",
       "    function loadScript(lib) {\n",
       "      return new Promise(function(resolve, reject) {\n",
       "        var s = document.createElement('script');\n",
       "        s.src = paths[lib];\n",
       "        s.async = true;\n",
       "        s.onload = () => resolve(paths[lib]);\n",
       "        s.onerror = () => reject(`Error loading script: ${paths[lib]}`);\n",
       "        document.getElementsByTagName(\"head\")[0].appendChild(s);\n",
       "      });\n",
       "    }\n",
       "\n",
       "    function showError(err) {\n",
       "      outputDiv.innerHTML = `<div class=\"error\" style=\"color:red;\">${err}</div>`;\n",
       "      throw err;\n",
       "    }\n",
       "\n",
       "    function displayChart(vegaEmbed) {\n",
       "      vegaEmbed(outputDiv, spec, embedOpt)\n",
       "        .catch(err => showError(`Javascript Error: ${err.message}<br>This usually means there's a typo in your chart specification. See the javascript console for the full traceback.`));\n",
       "    }\n",
       "\n",
       "    if(typeof define === \"function\" && define.amd) {\n",
       "      requirejs.config({paths});\n",
       "      require([\"vega-embed\"], displayChart, err => showError(`Error loading script: ${err.message}`));\n",
       "    } else if (typeof vegaEmbed === \"function\") {\n",
       "      displayChart(vegaEmbed);\n",
       "    } else {\n",
       "      loadScript(\"vega\")\n",
       "        .then(() => loadScript(\"vega-lite\"))\n",
       "        .then(() => loadScript(\"vega-embed\"))\n",
       "        .catch(showError)\n",
       "        .then(() => displayChart(vegaEmbed));\n",
       "    }\n",
       "  })({\"config\": {\"view\": {\"continuousWidth\": 400, \"continuousHeight\": 300}}, \"data\": {\"name\": \"data-141aa6bb25cfeda6000d397a2390e6fd\"}, \"mark\": \"bar\", \"encoding\": {\"tooltip\": [{\"type\": \"nominal\", \"field\": \"feature\"}, {\"type\": \"quantitative\", \"field\": \"feature_importance\"}], \"x\": {\"type\": \"quantitative\", \"field\": \"feature_importance\"}, \"y\": {\"type\": \"nominal\", \"field\": \"feature\", \"sort\": \"-x\"}}, \"$schema\": \"https://vega.github.io/schema/vega-lite/v4.8.1.json\", \"datasets\": {\"data-141aa6bb25cfeda6000d397a2390e6fd\": [{\"feature\": \"mth_since_last_serv\", \"feature_importance\": 0.27285162401384216}, {\"feature\": \"total_services\", \"feature_importance\": 0.10138203320017672}, {\"feature\": \"annualised_mileage\", \"feature_importance\": 0.0984246360615218}, {\"feature\": \"age_of_vehicle_years\", \"feature_importance\": 0.09377430277213039}, {\"feature\": \"num_serv_dealer_purchased\", \"feature_importance\": 0.0909273622498022}, {\"feature\": \"total_paid_services\", \"feature_importance\": 0.09002857529165756}, {\"feature\": \"sched_serv_warr\", \"feature_importance\": 0.055926666667631006}, {\"feature\": \"num_dealers_visited\", \"feature_importance\": 0.05584686677427743}, {\"feature\": \"non_sched_serv_warr\", \"feature_importance\": 0.05406208376958491}, {\"feature\": \"non_sched_serv_paid\", \"feature_importance\": 0.041044751279959615}, {\"feature\": \"sched_serv_paid\", \"feature_importance\": 0.02585293675863358}, {\"feature\": \"car_segment_Large/SUV\", \"feature_importance\": 0.004317896692651648}, {\"feature\": \"car_model_model_1\", \"feature_importance\": 0.002256061317682372}, {\"feature\": \"car_model_model_8\", \"feature_importance\": 0.002054572606606043}, {\"feature\": \"car_segment_Small/Medium\", \"feature_importance\": 0.001713875256831704}, {\"feature\": \"car_segment_LCV\", \"feature_importance\": 0.0016990192370679304}, {\"feature\": \"car_model_model_10\", \"feature_importance\": 0.0016898787632374948}, {\"feature\": \"car_model_model_5\", \"feature_importance\": 0.0013283246415714332}, {\"feature\": \"car_model_model_3\", \"feature_importance\": 0.0013108336871149235}, {\"feature\": \"car_model_model_2\", \"feature_importance\": 0.0011126338569416533}, {\"feature\": \"car_model_model_11\", \"feature_importance\": 0.0008969254291462484}, {\"feature\": \"car_model_model_4\", \"feature_importance\": 0.0006549885277446875}, {\"feature\": \"car_model_model_9\", \"feature_importance\": 0.0004007150247961153}, {\"feature\": \"car_model_model_7\", \"feature_importance\": 0.00030532831945993886}, {\"feature\": \"car_model_model_13\", \"feature_importance\": 9.85621070844101e-05}, {\"feature\": \"car_model_other\", \"feature_importance\": 3.8545692846046585e-05}, {\"feature\": \"car_segment_Other\", \"feature_importance\": 0.0}, {\"feature\": \"car_model_model_12\", \"feature_importance\": 0.0}, {\"feature\": \"car_model_model_6\", \"feature_importance\": 0.0}]}}, {\"mode\": \"vega-lite\"});\n",
       "</script>"
      ],
      "text/plain": [
       "alt.Chart(...)"
      ]
     },
     "execution_count": 37,
     "metadata": {},
     "output_type": "execute_result"
    }
   ],
   "source": [
    "alt.Chart(feat_imp_tree_df).mark_bar().encode(\n",
    "    x='feature_importance',\n",
    "    y=alt.Y(\"feature\", sort='-x'),\n",
    "    tooltip=['feature','feature_importance'])"
   ]
  },
  {
   "cell_type": "code",
   "execution_count": null,
   "id": "46075973",
   "metadata": {},
   "outputs": [],
   "source": []
  }
 ],
 "metadata": {
  "kernelspec": {
   "display_name": "Python 3 (ipykernel)",
   "language": "python",
   "name": "python3"
  },
  "language_info": {
   "codemirror_mode": {
    "name": "ipython",
    "version": 3
   },
   "file_extension": ".py",
   "mimetype": "text/x-python",
   "name": "python",
   "nbconvert_exporter": "python",
   "pygments_lexer": "ipython3",
   "version": "3.9.13"
  }
 },
 "nbformat": 4,
 "nbformat_minor": 5
}
