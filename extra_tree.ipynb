{
 "cells": [
  {
   "cell_type": "markdown",
   "id": "e70c4434",
   "metadata": {},
   "source": [
    "# **Experiment 5: Extra Tree**\n",
    "\n",
    "__Steps:__\n",
    "\n",
    "1. Load datasets and create functions\n",
    "2. Data splitting\n",
    "3. Cross-validation with default hyperparameters\n",
    "4. Reduce Overfitting with n_estimators\n",
    "5. Reduce Overfitting with max_depth\n",
    "6. Reduce Overfitting with min_samples_leaf\n",
    "7. Reduce Overfitting with max_features\n",
    "8. Auto tuning using Random Search\n",
    "9. Assess the best RandomForest Model on testing set\n",
    "10. Feature importance"
   ]
  },
  {
   "cell_type": "markdown",
   "id": "6c5ebfd1",
   "metadata": {},
   "source": [
    "## **1. Load datasets and create functions** "
   ]
  },
  {
   "cell_type": "markdown",
   "id": "d36e1f21",
   "metadata": {},
   "source": [
    "**[1.1]** Import packages"
   ]
  },
  {
   "cell_type": "code",
   "execution_count": 1,
   "id": "93114351",
   "metadata": {},
   "outputs": [],
   "source": [
    "import pandas as pd\n",
    "import math \n",
    "import numpy as np\n",
    "from itertools import repeat\n",
    "\n",
    "# train test split\n",
    "from sklearn.model_selection import train_test_split\n",
    "\n",
    "# performance metrics\n",
    "from sklearn.metrics import fbeta_score, recall_score, precision_score\n",
    "from sklearn.metrics import confusion_matrix, ConfusionMatrixDisplay\n",
    "\n",
    "# visualization \n",
    "import matplotlib.pyplot as plt\n",
    "import altair as alt\n",
    "alt.data_transformers.disable_max_rows()\n",
    "\n",
    "# cross validate \n",
    "from sklearn.model_selection import cross_validate\n",
    "from sklearn.model_selection import RandomizedSearchCV\n",
    "from sklearn.model_selection import StratifiedKFold\n",
    "\n",
    "from scipy.stats import randint\n",
    "\n",
    "# classifier \n",
    "from sklearn.ensemble import ExtraTreesClassifier"
   ]
  },
  {
   "cell_type": "markdown",
   "id": "dbfaf6a7",
   "metadata": {},
   "source": [
    "**[1.2]** Load the training dataset into dataframe called df_data"
   ]
  },
  {
   "cell_type": "code",
   "execution_count": 2,
   "id": "ae08ff84",
   "metadata": {},
   "outputs": [],
   "source": [
    "df_data = pd.read_csv('./repurchase_data-prepared.csv')"
   ]
  },
  {
   "cell_type": "markdown",
   "id": "5fbfb712",
   "metadata": {},
   "source": [
    "**[1.3]** Load the training dataset into dataframe called df_test"
   ]
  },
  {
   "cell_type": "code",
   "execution_count": 3,
   "id": "06deef36",
   "metadata": {},
   "outputs": [],
   "source": [
    "df_test = pd.read_csv('./repurchase_test-prepared.csv')"
   ]
  },
  {
   "cell_type": "markdown",
   "id": "6c90f954",
   "metadata": {},
   "source": [
    "**[1.4]** Create a function to summarize cross-validation results of tested hyperparameter values"
   ]
  },
  {
   "cell_type": "code",
   "execution_count": 4,
   "id": "5905f49e",
   "metadata": {},
   "outputs": [],
   "source": [
    "def summarize_cv_hyperparameter(cv_scores, hyperparam_name, hyperparam_values):\n",
    "    \"\"\"\n",
    "    Parameters:\n",
    "        cv_scores (nd array): average cross-validation scores of tested hyperparameter values. \n",
    "        hyperparam_name: name of the hyperparameter (e.g. n_estimators)\n",
    "        hyperparam_value (1d array): different values of the hyperparameter (e.g. [10, 50, 100])\n",
    "    Return:\n",
    "        A Dataframe that contains 4 columns:\n",
    "        - hyperparam_name: the hyperparameter value\n",
    "        - recall_score: average cross-validation recall of a given hyperparameter value on a given set.\n",
    "        - dataset: the type of dataset on which recall_score is calculated. Either train or test.\n",
    "        - overfitting: the difference between train_score and test_score \n",
    "    \"\"\"\n",
    "    recall_scores = []\n",
    "    n_hyperparam_values = len(hyperparam_values)\n",
    "    dataset = ['train', 'test'] * n_hyperparam_values\n",
    "    overfitting = []\n",
    "    \n",
    "    # loop through average cross-validation scores of each hyperparameter value\n",
    "    for item in cv_scores:\n",
    "        recall_scores.append(item['train_score'])\n",
    "        recall_scores.append(item['test_score'])\n",
    "        overfitting.extend(repeat(item['train_score'] - item['test_score'],2))\n",
    "    return pd.DataFrame({hyperparam_name: sorted(hyperparam_values * 2), 'recall_score': recall_scores, 'dataset': dataset, 'overfitting': overfitting})"
   ]
  },
  {
   "cell_type": "markdown",
   "id": "ff17b72d",
   "metadata": {},
   "source": [
    "**[1.5]** Create a function to plot train scores vs test scores of different hyperparameter values to see bias-variance trade-off"
   ]
  },
  {
   "cell_type": "code",
   "execution_count": 5,
   "id": "5b50e24c",
   "metadata": {},
   "outputs": [],
   "source": [
    "def compare_train_test(summary, hyperparam_name):\n",
    "    return alt.Chart(summary).mark_line(point=True).encode(\n",
    "        x=hyperparam_name,\n",
    "        y='recall_score',\n",
    "        color='dataset',\n",
    "    )"
   ]
  },
  {
   "cell_type": "markdown",
   "id": "98a28539",
   "metadata": {},
   "source": [
    "## 2. Data Splitting"
   ]
  },
  {
   "cell_type": "markdown",
   "id": "f7de31d5",
   "metadata": {},
   "source": [
    "**[2.1]** Extract target values and independent values from df_data"
   ]
  },
  {
   "cell_type": "code",
   "execution_count": 6,
   "id": "c1af9332",
   "metadata": {},
   "outputs": [],
   "source": [
    "y_data = df_data.pop('Target')\n",
    "X_data = df_data"
   ]
  },
  {
   "cell_type": "markdown",
   "id": "ff80335b",
   "metadata": {},
   "source": [
    "**[2.2]** Extract target values and independent values from df_test"
   ]
  },
  {
   "cell_type": "code",
   "execution_count": 7,
   "id": "c8e738af",
   "metadata": {},
   "outputs": [],
   "source": [
    "y_test = df_test.pop('Target')\n",
    "X_test = df_test"
   ]
  },
  {
   "cell_type": "markdown",
   "id": "3c41afe3",
   "metadata": {},
   "source": [
    "**[2.3]** Instantiate a StratifiedKFold with 3 splits"
   ]
  },
  {
   "cell_type": "code",
   "execution_count": 8,
   "id": "7b1057a8",
   "metadata": {},
   "outputs": [],
   "source": [
    "skf = StratifiedKFold(n_splits=3, shuffle = True, random_state = 8)\n",
    "cv = list(skf.split(X_data, y_data))    "
   ]
  },
  {
   "cell_type": "markdown",
   "id": "b91cd8d5",
   "metadata": {},
   "source": [
    "## 3. Train Initial Extra Tree with Default Hyperparameters"
   ]
  },
  {
   "cell_type": "markdown",
   "id": "b3374254",
   "metadata": {},
   "source": [
    "**[3.1]** Fit the ExtraTreesClassifier model and calculate scores for all cv"
   ]
  },
  {
   "cell_type": "code",
   "execution_count": 9,
   "id": "0690396e",
   "metadata": {},
   "outputs": [],
   "source": [
    "scores_default = cross_validate(ExtraTreesClassifier(random_state=8), X_data, y_data, cv=cv, scoring='recall', return_train_score=True)"
   ]
  },
  {
   "cell_type": "markdown",
   "id": "93617bda",
   "metadata": {},
   "source": [
    "**[3.2]** Average scores of all cv"
   ]
  },
  {
   "cell_type": "code",
   "execution_count": 10,
   "id": "8eb72ddb",
   "metadata": {},
   "outputs": [
    {
     "data": {
      "text/plain": [
       "{'fit_time': 3.8063694636027017,\n",
       " 'score_time': 0.484403133392334,\n",
       " 'test_score': 0.6112886048988285,\n",
       " 'train_score': 0.9994675186368477}"
      ]
     },
     "execution_count": 10,
     "metadata": {},
     "output_type": "execute_result"
    }
   ],
   "source": [
    "avg_scores_default = {metric:np.mean(scores) for (metric, scores) in scores_default.items()}\n",
    "avg_scores_default"
   ]
  },
  {
   "cell_type": "markdown",
   "id": "e2a820d7",
   "metadata": {},
   "source": [
    "**[3.3]** Overfitting"
   ]
  },
  {
   "cell_type": "code",
   "execution_count": 11,
   "id": "c79f5d14",
   "metadata": {},
   "outputs": [
    {
     "data": {
      "text/plain": [
       "0.38817891373801916"
      ]
     },
     "execution_count": 11,
     "metadata": {},
     "output_type": "execute_result"
    }
   ],
   "source": [
    "overfitting = avg_scores_default['train_score'] - avg_scores_default['test_score']\n",
    "overfitting"
   ]
  },
  {
   "cell_type": "markdown",
   "id": "5d840c54",
   "metadata": {},
   "source": [
    "## 4. Reduce Overfitting with n_estimators"
   ]
  },
  {
   "cell_type": "markdown",
   "id": "e064b2c6",
   "metadata": {},
   "source": [
    "**[4.1]** Train a ExtraTreesClassifier model with n_estimators=[25, 50, 100, 200] and print the recall scores for the training and validation sets"
   ]
  },
  {
   "cell_type": "code",
   "execution_count": 12,
   "id": "115c278d",
   "metadata": {
    "scrolled": true
   },
   "outputs": [
    {
     "data": {
      "text/plain": [
       "[{'fit_time': 0.997957706451416,\n",
       "  'score_time': 0.14139548937479654,\n",
       "  'test_score': 0.6017039403620873,\n",
       "  'train_score': 0.9994675186368477},\n",
       " {'fit_time': 1.8841686248779297,\n",
       "  'score_time': 0.24692034721374512,\n",
       "  'test_score': 0.6020589279375222,\n",
       "  'train_score': 0.9994675186368477},\n",
       " {'fit_time': 3.9610063234965005,\n",
       "  'score_time': 0.4999868869781494,\n",
       "  'test_score': 0.6112886048988285,\n",
       "  'train_score': 0.9994675186368477},\n",
       " {'fit_time': 7.906224727630615,\n",
       "  'score_time': 0.995368480682373,\n",
       "  'test_score': 0.6155484558040468,\n",
       "  'train_score': 0.9994675186368477}]"
      ]
     },
     "execution_count": 12,
     "metadata": {},
     "output_type": "execute_result"
    }
   ],
   "source": [
    "scores_n_estimators = []\n",
    "n_estimators = [25, 50, 100, 200]\n",
    "for v in n_estimators:\n",
    "    et = ExtraTreesClassifier(random_state=8, n_estimators=v)\n",
    "    scores_tuned = cross_validate(et, X_data, y_data, cv=cv, scoring='recall', return_train_score=True)\n",
    "    avg_scores_tuned = {metric:np.mean(scores) for (metric, scores) in scores_tuned.items()}\n",
    "    scores_n_estimators.append(avg_scores_tuned)\n",
    "scores_n_estimators"
   ]
  },
  {
   "cell_type": "markdown",
   "id": "922ee6a6",
   "metadata": {},
   "source": [
    "**[4.2]** Plot cross-validation recall scores across all n_estimators "
   ]
  },
  {
   "cell_type": "code",
   "execution_count": 13,
   "id": "0b96a0b9",
   "metadata": {},
   "outputs": [
    {
     "data": {
      "text/html": [
       "<div>\n",
       "<style scoped>\n",
       "    .dataframe tbody tr th:only-of-type {\n",
       "        vertical-align: middle;\n",
       "    }\n",
       "\n",
       "    .dataframe tbody tr th {\n",
       "        vertical-align: top;\n",
       "    }\n",
       "\n",
       "    .dataframe thead th {\n",
       "        text-align: right;\n",
       "    }\n",
       "</style>\n",
       "<table border=\"1\" class=\"dataframe\">\n",
       "  <thead>\n",
       "    <tr style=\"text-align: right;\">\n",
       "      <th></th>\n",
       "      <th>n_estimators</th>\n",
       "      <th>recall_score</th>\n",
       "      <th>dataset</th>\n",
       "      <th>overfitting</th>\n",
       "    </tr>\n",
       "  </thead>\n",
       "  <tbody>\n",
       "    <tr>\n",
       "      <th>0</th>\n",
       "      <td>25</td>\n",
       "      <td>0.999468</td>\n",
       "      <td>train</td>\n",
       "      <td>0.397764</td>\n",
       "    </tr>\n",
       "    <tr>\n",
       "      <th>1</th>\n",
       "      <td>25</td>\n",
       "      <td>0.601704</td>\n",
       "      <td>test</td>\n",
       "      <td>0.397764</td>\n",
       "    </tr>\n",
       "    <tr>\n",
       "      <th>2</th>\n",
       "      <td>50</td>\n",
       "      <td>0.999468</td>\n",
       "      <td>train</td>\n",
       "      <td>0.397409</td>\n",
       "    </tr>\n",
       "    <tr>\n",
       "      <th>3</th>\n",
       "      <td>50</td>\n",
       "      <td>0.602059</td>\n",
       "      <td>test</td>\n",
       "      <td>0.397409</td>\n",
       "    </tr>\n",
       "    <tr>\n",
       "      <th>4</th>\n",
       "      <td>100</td>\n",
       "      <td>0.999468</td>\n",
       "      <td>train</td>\n",
       "      <td>0.388179</td>\n",
       "    </tr>\n",
       "    <tr>\n",
       "      <th>5</th>\n",
       "      <td>100</td>\n",
       "      <td>0.611289</td>\n",
       "      <td>test</td>\n",
       "      <td>0.388179</td>\n",
       "    </tr>\n",
       "    <tr>\n",
       "      <th>6</th>\n",
       "      <td>200</td>\n",
       "      <td>0.999468</td>\n",
       "      <td>train</td>\n",
       "      <td>0.383919</td>\n",
       "    </tr>\n",
       "    <tr>\n",
       "      <th>7</th>\n",
       "      <td>200</td>\n",
       "      <td>0.615548</td>\n",
       "      <td>test</td>\n",
       "      <td>0.383919</td>\n",
       "    </tr>\n",
       "  </tbody>\n",
       "</table>\n",
       "</div>"
      ],
      "text/plain": [
       "   n_estimators  recall_score dataset  overfitting\n",
       "0            25      0.999468   train     0.397764\n",
       "1            25      0.601704    test     0.397764\n",
       "2            50      0.999468   train     0.397409\n",
       "3            50      0.602059    test     0.397409\n",
       "4           100      0.999468   train     0.388179\n",
       "5           100      0.611289    test     0.388179\n",
       "6           200      0.999468   train     0.383919\n",
       "7           200      0.615548    test     0.383919"
      ]
     },
     "execution_count": 13,
     "metadata": {},
     "output_type": "execute_result"
    }
   ],
   "source": [
    "n_estimators_summary= summarize_cv_hyperparameter(scores_n_estimators, 'n_estimators', n_estimators)\n",
    "n_estimators_summary"
   ]
  },
  {
   "cell_type": "code",
   "execution_count": 14,
   "id": "40e9df92",
   "metadata": {},
   "outputs": [
    {
     "data": {
      "text/html": [
       "\n",
       "<div id=\"altair-viz-d26a7fa8b01d43a3945c7973371fa099\"></div>\n",
       "<script type=\"text/javascript\">\n",
       "  (function(spec, embedOpt){\n",
       "    let outputDiv = document.currentScript.previousElementSibling;\n",
       "    if (outputDiv.id !== \"altair-viz-d26a7fa8b01d43a3945c7973371fa099\") {\n",
       "      outputDiv = document.getElementById(\"altair-viz-d26a7fa8b01d43a3945c7973371fa099\");\n",
       "    }\n",
       "    const paths = {\n",
       "      \"vega\": \"https://cdn.jsdelivr.net/npm//vega@5?noext\",\n",
       "      \"vega-lib\": \"https://cdn.jsdelivr.net/npm//vega-lib?noext\",\n",
       "      \"vega-lite\": \"https://cdn.jsdelivr.net/npm//vega-lite@4.8.1?noext\",\n",
       "      \"vega-embed\": \"https://cdn.jsdelivr.net/npm//vega-embed@6?noext\",\n",
       "    };\n",
       "\n",
       "    function loadScript(lib) {\n",
       "      return new Promise(function(resolve, reject) {\n",
       "        var s = document.createElement('script');\n",
       "        s.src = paths[lib];\n",
       "        s.async = true;\n",
       "        s.onload = () => resolve(paths[lib]);\n",
       "        s.onerror = () => reject(`Error loading script: ${paths[lib]}`);\n",
       "        document.getElementsByTagName(\"head\")[0].appendChild(s);\n",
       "      });\n",
       "    }\n",
       "\n",
       "    function showError(err) {\n",
       "      outputDiv.innerHTML = `<div class=\"error\" style=\"color:red;\">${err}</div>`;\n",
       "      throw err;\n",
       "    }\n",
       "\n",
       "    function displayChart(vegaEmbed) {\n",
       "      vegaEmbed(outputDiv, spec, embedOpt)\n",
       "        .catch(err => showError(`Javascript Error: ${err.message}<br>This usually means there's a typo in your chart specification. See the javascript console for the full traceback.`));\n",
       "    }\n",
       "\n",
       "    if(typeof define === \"function\" && define.amd) {\n",
       "      requirejs.config({paths});\n",
       "      require([\"vega-embed\"], displayChart, err => showError(`Error loading script: ${err.message}`));\n",
       "    } else if (typeof vegaEmbed === \"function\") {\n",
       "      displayChart(vegaEmbed);\n",
       "    } else {\n",
       "      loadScript(\"vega\")\n",
       "        .then(() => loadScript(\"vega-lite\"))\n",
       "        .then(() => loadScript(\"vega-embed\"))\n",
       "        .catch(showError)\n",
       "        .then(() => displayChart(vegaEmbed));\n",
       "    }\n",
       "  })({\"config\": {\"view\": {\"continuousWidth\": 400, \"continuousHeight\": 300}}, \"data\": {\"name\": \"data-cd5f287c9824a73412e9737d8de9d43f\"}, \"mark\": {\"type\": \"line\", \"point\": true}, \"encoding\": {\"color\": {\"type\": \"nominal\", \"field\": \"dataset\"}, \"x\": {\"type\": \"quantitative\", \"field\": \"n_estimators\"}, \"y\": {\"type\": \"quantitative\", \"field\": \"recall_score\"}}, \"$schema\": \"https://vega.github.io/schema/vega-lite/v4.8.1.json\", \"datasets\": {\"data-cd5f287c9824a73412e9737d8de9d43f\": [{\"n_estimators\": 25, \"recall_score\": 0.9994675186368477, \"dataset\": \"train\", \"overfitting\": 0.3977635782747604}, {\"n_estimators\": 25, \"recall_score\": 0.6017039403620873, \"dataset\": \"test\", \"overfitting\": 0.3977635782747604}, {\"n_estimators\": 50, \"recall_score\": 0.9994675186368477, \"dataset\": \"train\", \"overfitting\": 0.39740859069932544}, {\"n_estimators\": 50, \"recall_score\": 0.6020589279375222, \"dataset\": \"test\", \"overfitting\": 0.39740859069932544}, {\"n_estimators\": 100, \"recall_score\": 0.9994675186368477, \"dataset\": \"train\", \"overfitting\": 0.38817891373801916}, {\"n_estimators\": 100, \"recall_score\": 0.6112886048988285, \"dataset\": \"test\", \"overfitting\": 0.38817891373801916}, {\"n_estimators\": 200, \"recall_score\": 0.9994675186368477, \"dataset\": \"train\", \"overfitting\": 0.38391906283280086}, {\"n_estimators\": 200, \"recall_score\": 0.6155484558040468, \"dataset\": \"test\", \"overfitting\": 0.38391906283280086}]}}, {\"mode\": \"vega-lite\"});\n",
       "</script>"
      ],
      "text/plain": [
       "alt.Chart(...)"
      ]
     },
     "execution_count": 14,
     "metadata": {},
     "output_type": "execute_result"
    }
   ],
   "source": [
    "compare_train_test(n_estimators_summary, 'n_estimators')"
   ]
  },
  {
   "cell_type": "markdown",
   "id": "3dacaae9",
   "metadata": {},
   "source": [
    "### _Conclusion_:\n",
    "\n",
    "The graph shows that neither an increase or decrease in n_estimators affects the performance and the level of overfitting. Moreover, larger n_estimators is more computationally expensive. Hence, for the next steps, I decided to use n_estimators = 50 instead of the default 100 because recall (test) will increase and overfitting will decrease."
   ]
  },
  {
   "cell_type": "markdown",
   "id": "5472b11a",
   "metadata": {},
   "source": [
    "## 5. Reduce Overfitting with max_depth"
   ]
  },
  {
   "cell_type": "markdown",
   "id": "a3979cfa",
   "metadata": {},
   "source": [
    "**[5.1]** Train model with n_estimators = 50"
   ]
  },
  {
   "cell_type": "code",
   "execution_count": 15,
   "id": "259be7bf",
   "metadata": {},
   "outputs": [],
   "source": [
    "et1 = ExtraTreesClassifier(random_state=8, n_estimators=50).fit(X_data, y_data)"
   ]
  },
  {
   "cell_type": "markdown",
   "id": "777e02dc",
   "metadata": {},
   "source": [
    "**[5.2]** Print the average \"**max_depth**\" for et1:"
   ]
  },
  {
   "cell_type": "code",
   "execution_count": 16,
   "id": "c192043c",
   "metadata": {},
   "outputs": [
    {
     "data": {
      "text/plain": [
       "35.42"
      ]
     },
     "execution_count": 16,
     "metadata": {},
     "output_type": "execute_result"
    }
   ],
   "source": [
    "np.mean([estimator.tree_.max_depth for estimator in et1.estimators_])"
   ]
  },
  {
   "cell_type": "markdown",
   "id": "b1c8c8d2",
   "metadata": {},
   "source": [
    "**[5.3]** Train a ExtraTreesClassifier model with n_estimators=50, max_depth = [15, 20, 35, 40, 60] and print the recall scores for the training and validation sets"
   ]
  },
  {
   "cell_type": "code",
   "execution_count": 17,
   "id": "54bee7de",
   "metadata": {},
   "outputs": [
    {
     "data": {
      "text/plain": [
       "[{'fit_time': 1.6964062849680583,\n",
       "  'score_time': 0.21442810694376627,\n",
       "  'test_score': 0.4224352147674831,\n",
       "  'train_score': 0.6957756478523253},\n",
       " {'fit_time': 1.8693026701609294,\n",
       "  'score_time': 0.23667168617248535,\n",
       "  'test_score': 0.5761448349307775,\n",
       "  'train_score': 0.9762158324458644},\n",
       " {'fit_time': 1.9459679921468098,\n",
       "  'score_time': 0.26002732912699383,\n",
       "  'test_score': 0.6045438409655662,\n",
       "  'train_score': 0.9994675186368477},\n",
       " {'fit_time': 1.920734961827596,\n",
       "  'score_time': 0.2525704701741536,\n",
       "  'test_score': 0.6013489527866525,\n",
       "  'train_score': 0.9994675186368477},\n",
       " {'fit_time': 1.90788729985555,\n",
       "  'score_time': 0.2517682711283366,\n",
       "  'test_score': 0.6020589279375222,\n",
       "  'train_score': 0.9994675186368477}]"
      ]
     },
     "execution_count": 17,
     "metadata": {},
     "output_type": "execute_result"
    }
   ],
   "source": [
    "scores_max_depth = []\n",
    "max_depths = [15, 20, 35, 40, 60]\n",
    "for v in max_depths:\n",
    "    et = ExtraTreesClassifier(random_state=8, n_estimators=50, max_depth=v)\n",
    "    scores_tuned = cross_validate(et, X_data, y_data, cv=cv, scoring='recall', return_train_score=True)\n",
    "    avg_scores_tuned = {metric:np.mean(scores) for (metric, scores) in scores_tuned.items()}\n",
    "    scores_max_depth.append(avg_scores_tuned)\n",
    "scores_max_depth"
   ]
  },
  {
   "cell_type": "markdown",
   "id": "e4ed7c7c",
   "metadata": {},
   "source": [
    "**[5.4]** Plot cross-validation recall scores across all max_depth "
   ]
  },
  {
   "cell_type": "code",
   "execution_count": 18,
   "id": "8e89ba75",
   "metadata": {},
   "outputs": [
    {
     "data": {
      "text/html": [
       "<div>\n",
       "<style scoped>\n",
       "    .dataframe tbody tr th:only-of-type {\n",
       "        vertical-align: middle;\n",
       "    }\n",
       "\n",
       "    .dataframe tbody tr th {\n",
       "        vertical-align: top;\n",
       "    }\n",
       "\n",
       "    .dataframe thead th {\n",
       "        text-align: right;\n",
       "    }\n",
       "</style>\n",
       "<table border=\"1\" class=\"dataframe\">\n",
       "  <thead>\n",
       "    <tr style=\"text-align: right;\">\n",
       "      <th></th>\n",
       "      <th>max_depth</th>\n",
       "      <th>recall_score</th>\n",
       "      <th>dataset</th>\n",
       "      <th>overfitting</th>\n",
       "    </tr>\n",
       "  </thead>\n",
       "  <tbody>\n",
       "    <tr>\n",
       "      <th>0</th>\n",
       "      <td>15</td>\n",
       "      <td>0.695776</td>\n",
       "      <td>train</td>\n",
       "      <td>0.273340</td>\n",
       "    </tr>\n",
       "    <tr>\n",
       "      <th>1</th>\n",
       "      <td>15</td>\n",
       "      <td>0.422435</td>\n",
       "      <td>test</td>\n",
       "      <td>0.273340</td>\n",
       "    </tr>\n",
       "    <tr>\n",
       "      <th>2</th>\n",
       "      <td>20</td>\n",
       "      <td>0.976216</td>\n",
       "      <td>train</td>\n",
       "      <td>0.400071</td>\n",
       "    </tr>\n",
       "    <tr>\n",
       "      <th>3</th>\n",
       "      <td>20</td>\n",
       "      <td>0.576145</td>\n",
       "      <td>test</td>\n",
       "      <td>0.400071</td>\n",
       "    </tr>\n",
       "    <tr>\n",
       "      <th>4</th>\n",
       "      <td>35</td>\n",
       "      <td>0.999468</td>\n",
       "      <td>train</td>\n",
       "      <td>0.394924</td>\n",
       "    </tr>\n",
       "    <tr>\n",
       "      <th>5</th>\n",
       "      <td>35</td>\n",
       "      <td>0.604544</td>\n",
       "      <td>test</td>\n",
       "      <td>0.394924</td>\n",
       "    </tr>\n",
       "    <tr>\n",
       "      <th>6</th>\n",
       "      <td>40</td>\n",
       "      <td>0.999468</td>\n",
       "      <td>train</td>\n",
       "      <td>0.398119</td>\n",
       "    </tr>\n",
       "    <tr>\n",
       "      <th>7</th>\n",
       "      <td>40</td>\n",
       "      <td>0.601349</td>\n",
       "      <td>test</td>\n",
       "      <td>0.398119</td>\n",
       "    </tr>\n",
       "    <tr>\n",
       "      <th>8</th>\n",
       "      <td>60</td>\n",
       "      <td>0.999468</td>\n",
       "      <td>train</td>\n",
       "      <td>0.397409</td>\n",
       "    </tr>\n",
       "    <tr>\n",
       "      <th>9</th>\n",
       "      <td>60</td>\n",
       "      <td>0.602059</td>\n",
       "      <td>test</td>\n",
       "      <td>0.397409</td>\n",
       "    </tr>\n",
       "  </tbody>\n",
       "</table>\n",
       "</div>"
      ],
      "text/plain": [
       "   max_depth  recall_score dataset  overfitting\n",
       "0         15      0.695776   train     0.273340\n",
       "1         15      0.422435    test     0.273340\n",
       "2         20      0.976216   train     0.400071\n",
       "3         20      0.576145    test     0.400071\n",
       "4         35      0.999468   train     0.394924\n",
       "5         35      0.604544    test     0.394924\n",
       "6         40      0.999468   train     0.398119\n",
       "7         40      0.601349    test     0.398119\n",
       "8         60      0.999468   train     0.397409\n",
       "9         60      0.602059    test     0.397409"
      ]
     },
     "execution_count": 18,
     "metadata": {},
     "output_type": "execute_result"
    }
   ],
   "source": [
    "max_depth_summary= summarize_cv_hyperparameter(scores_max_depth, 'max_depth', max_depths)\n",
    "max_depth_summary"
   ]
  },
  {
   "cell_type": "code",
   "execution_count": 19,
   "id": "8707f18b",
   "metadata": {},
   "outputs": [
    {
     "data": {
      "text/html": [
       "\n",
       "<div id=\"altair-viz-a4d3272d318d4299ab7b4125a002afe1\"></div>\n",
       "<script type=\"text/javascript\">\n",
       "  (function(spec, embedOpt){\n",
       "    let outputDiv = document.currentScript.previousElementSibling;\n",
       "    if (outputDiv.id !== \"altair-viz-a4d3272d318d4299ab7b4125a002afe1\") {\n",
       "      outputDiv = document.getElementById(\"altair-viz-a4d3272d318d4299ab7b4125a002afe1\");\n",
       "    }\n",
       "    const paths = {\n",
       "      \"vega\": \"https://cdn.jsdelivr.net/npm//vega@5?noext\",\n",
       "      \"vega-lib\": \"https://cdn.jsdelivr.net/npm//vega-lib?noext\",\n",
       "      \"vega-lite\": \"https://cdn.jsdelivr.net/npm//vega-lite@4.8.1?noext\",\n",
       "      \"vega-embed\": \"https://cdn.jsdelivr.net/npm//vega-embed@6?noext\",\n",
       "    };\n",
       "\n",
       "    function loadScript(lib) {\n",
       "      return new Promise(function(resolve, reject) {\n",
       "        var s = document.createElement('script');\n",
       "        s.src = paths[lib];\n",
       "        s.async = true;\n",
       "        s.onload = () => resolve(paths[lib]);\n",
       "        s.onerror = () => reject(`Error loading script: ${paths[lib]}`);\n",
       "        document.getElementsByTagName(\"head\")[0].appendChild(s);\n",
       "      });\n",
       "    }\n",
       "\n",
       "    function showError(err) {\n",
       "      outputDiv.innerHTML = `<div class=\"error\" style=\"color:red;\">${err}</div>`;\n",
       "      throw err;\n",
       "    }\n",
       "\n",
       "    function displayChart(vegaEmbed) {\n",
       "      vegaEmbed(outputDiv, spec, embedOpt)\n",
       "        .catch(err => showError(`Javascript Error: ${err.message}<br>This usually means there's a typo in your chart specification. See the javascript console for the full traceback.`));\n",
       "    }\n",
       "\n",
       "    if(typeof define === \"function\" && define.amd) {\n",
       "      requirejs.config({paths});\n",
       "      require([\"vega-embed\"], displayChart, err => showError(`Error loading script: ${err.message}`));\n",
       "    } else if (typeof vegaEmbed === \"function\") {\n",
       "      displayChart(vegaEmbed);\n",
       "    } else {\n",
       "      loadScript(\"vega\")\n",
       "        .then(() => loadScript(\"vega-lite\"))\n",
       "        .then(() => loadScript(\"vega-embed\"))\n",
       "        .catch(showError)\n",
       "        .then(() => displayChart(vegaEmbed));\n",
       "    }\n",
       "  })({\"config\": {\"view\": {\"continuousWidth\": 400, \"continuousHeight\": 300}}, \"data\": {\"name\": \"data-61167c14fd3500b6ea6783ac242297b1\"}, \"mark\": {\"type\": \"line\", \"point\": true}, \"encoding\": {\"color\": {\"type\": \"nominal\", \"field\": \"dataset\"}, \"x\": {\"type\": \"quantitative\", \"field\": \"max_depth\"}, \"y\": {\"type\": \"quantitative\", \"field\": \"recall_score\"}}, \"$schema\": \"https://vega.github.io/schema/vega-lite/v4.8.1.json\", \"datasets\": {\"data-61167c14fd3500b6ea6783ac242297b1\": [{\"max_depth\": 15, \"recall_score\": 0.6957756478523253, \"dataset\": \"train\", \"overfitting\": 0.2733404330848422}, {\"max_depth\": 15, \"recall_score\": 0.4224352147674831, \"dataset\": \"test\", \"overfitting\": 0.2733404330848422}, {\"max_depth\": 20, \"recall_score\": 0.9762158324458644, \"dataset\": \"train\", \"overfitting\": 0.4000709975150869}, {\"max_depth\": 20, \"recall_score\": 0.5761448349307775, \"dataset\": \"test\", \"overfitting\": 0.4000709975150869}, {\"max_depth\": 35, \"recall_score\": 0.9994675186368477, \"dataset\": \"train\", \"overfitting\": 0.39492367767128145}, {\"max_depth\": 35, \"recall_score\": 0.6045438409655662, \"dataset\": \"test\", \"overfitting\": 0.39492367767128145}, {\"max_depth\": 40, \"recall_score\": 0.9994675186368477, \"dataset\": \"train\", \"overfitting\": 0.3981185658501952}, {\"max_depth\": 40, \"recall_score\": 0.6013489527866525, \"dataset\": \"test\", \"overfitting\": 0.3981185658501952}, {\"max_depth\": 60, \"recall_score\": 0.9994675186368477, \"dataset\": \"train\", \"overfitting\": 0.39740859069932544}, {\"max_depth\": 60, \"recall_score\": 0.6020589279375222, \"dataset\": \"test\", \"overfitting\": 0.39740859069932544}]}}, {\"mode\": \"vega-lite\"});\n",
       "</script>"
      ],
      "text/plain": [
       "alt.Chart(...)"
      ]
     },
     "execution_count": 19,
     "metadata": {},
     "output_type": "execute_result"
    }
   ],
   "source": [
    "compare_train_test(max_depth_summary, 'max_depth')"
   ]
  },
  {
   "cell_type": "markdown",
   "id": "3df337bf",
   "metadata": {},
   "source": [
    "### _Conclusion_:\n",
    "\n",
    "In the above graph, max_depth above 35 do not differ in level of overfitting and has better performance. Meanwhile, there is a sign of underfitting when max_depth is less than 20. Therefore, __35 <= max_depth <= 40__ is the best range of max_depth because the overfitting is acceptable while performance is still preserved. \n",
    "\n",
    "Hence, for the next steps, I decided to use max_depth = 35 because overfitting decreases while performance is maintained."
   ]
  },
  {
   "cell_type": "markdown",
   "id": "1fe2b65e",
   "metadata": {},
   "source": [
    "## 6. Reduce Overfitting with min_samples_leaf"
   ]
  },
  {
   "cell_type": "markdown",
   "id": "3579cbd7",
   "metadata": {},
   "source": [
    "**[6.1]** Train a ExtraTreesClassifier model with n_estimators=50, max_depth = 35, min_samples_leaf = [2, 5, 10, 20] and print the recall scores for the training and validation sets"
   ]
  },
  {
   "cell_type": "code",
   "execution_count": 20,
   "id": "2a819899",
   "metadata": {},
   "outputs": [
    {
     "data": {
      "text/plain": [
       "[{'fit_time': 1.844580094019572,\n",
       "  'score_time': 0.23601595560709634,\n",
       "  'test_score': 0.5410010649627264,\n",
       "  'train_score': 0.8887113951011715},\n",
       " {'fit_time': 1.7845473289489746,\n",
       "  'score_time': 0.23730866114298502,\n",
       "  'test_score': 0.40113596024139153,\n",
       "  'train_score': 0.5395811146609869},\n",
       " {'fit_time': 1.7788807551066081,\n",
       "  'score_time': 0.20739436149597168,\n",
       "  'test_score': 0.281150159744409,\n",
       "  'train_score': 0.3580049698260561},\n",
       " {'fit_time': 1.6460277239481609,\n",
       "  'score_time': 0.18899997075398764,\n",
       "  'test_score': 0.1700390486332978,\n",
       "  'train_score': 0.19701810436634717}]"
      ]
     },
     "execution_count": 20,
     "metadata": {},
     "output_type": "execute_result"
    }
   ],
   "source": [
    "scores_min_samples_leaf = []\n",
    "min_samples_leafs = [2, 5, 10, 20]\n",
    "for v in min_samples_leafs:\n",
    "    et = ExtraTreesClassifier(random_state=8, n_estimators=50, max_depth=35, min_samples_leaf=v)\n",
    "    scores_tuned = cross_validate(et, X_data, y_data, cv=cv, scoring='recall', return_train_score=True)\n",
    "    avg_scores_tuned = {metric:np.mean(scores) for (metric, scores) in scores_tuned.items()}\n",
    "    scores_min_samples_leaf.append(avg_scores_tuned)\n",
    "scores_min_samples_leaf"
   ]
  },
  {
   "cell_type": "markdown",
   "id": "3b9687d3",
   "metadata": {},
   "source": [
    "**[6.2]** Plot cross-validation recall scores across all min_samples_leaf"
   ]
  },
  {
   "cell_type": "code",
   "execution_count": 21,
   "id": "2ae5c725",
   "metadata": {},
   "outputs": [
    {
     "data": {
      "text/html": [
       "<div>\n",
       "<style scoped>\n",
       "    .dataframe tbody tr th:only-of-type {\n",
       "        vertical-align: middle;\n",
       "    }\n",
       "\n",
       "    .dataframe tbody tr th {\n",
       "        vertical-align: top;\n",
       "    }\n",
       "\n",
       "    .dataframe thead th {\n",
       "        text-align: right;\n",
       "    }\n",
       "</style>\n",
       "<table border=\"1\" class=\"dataframe\">\n",
       "  <thead>\n",
       "    <tr style=\"text-align: right;\">\n",
       "      <th></th>\n",
       "      <th>min_samples_leaf</th>\n",
       "      <th>recall_score</th>\n",
       "      <th>dataset</th>\n",
       "      <th>overfitting</th>\n",
       "    </tr>\n",
       "  </thead>\n",
       "  <tbody>\n",
       "    <tr>\n",
       "      <th>0</th>\n",
       "      <td>2</td>\n",
       "      <td>0.888711</td>\n",
       "      <td>train</td>\n",
       "      <td>0.347710</td>\n",
       "    </tr>\n",
       "    <tr>\n",
       "      <th>1</th>\n",
       "      <td>2</td>\n",
       "      <td>0.541001</td>\n",
       "      <td>test</td>\n",
       "      <td>0.347710</td>\n",
       "    </tr>\n",
       "    <tr>\n",
       "      <th>2</th>\n",
       "      <td>5</td>\n",
       "      <td>0.539581</td>\n",
       "      <td>train</td>\n",
       "      <td>0.138445</td>\n",
       "    </tr>\n",
       "    <tr>\n",
       "      <th>3</th>\n",
       "      <td>5</td>\n",
       "      <td>0.401136</td>\n",
       "      <td>test</td>\n",
       "      <td>0.138445</td>\n",
       "    </tr>\n",
       "    <tr>\n",
       "      <th>4</th>\n",
       "      <td>10</td>\n",
       "      <td>0.358005</td>\n",
       "      <td>train</td>\n",
       "      <td>0.076855</td>\n",
       "    </tr>\n",
       "    <tr>\n",
       "      <th>5</th>\n",
       "      <td>10</td>\n",
       "      <td>0.281150</td>\n",
       "      <td>test</td>\n",
       "      <td>0.076855</td>\n",
       "    </tr>\n",
       "    <tr>\n",
       "      <th>6</th>\n",
       "      <td>20</td>\n",
       "      <td>0.197018</td>\n",
       "      <td>train</td>\n",
       "      <td>0.026979</td>\n",
       "    </tr>\n",
       "    <tr>\n",
       "      <th>7</th>\n",
       "      <td>20</td>\n",
       "      <td>0.170039</td>\n",
       "      <td>test</td>\n",
       "      <td>0.026979</td>\n",
       "    </tr>\n",
       "  </tbody>\n",
       "</table>\n",
       "</div>"
      ],
      "text/plain": [
       "   min_samples_leaf  recall_score dataset  overfitting\n",
       "0                 2      0.888711   train     0.347710\n",
       "1                 2      0.541001    test     0.347710\n",
       "2                 5      0.539581   train     0.138445\n",
       "3                 5      0.401136    test     0.138445\n",
       "4                10      0.358005   train     0.076855\n",
       "5                10      0.281150    test     0.076855\n",
       "6                20      0.197018   train     0.026979\n",
       "7                20      0.170039    test     0.026979"
      ]
     },
     "execution_count": 21,
     "metadata": {},
     "output_type": "execute_result"
    }
   ],
   "source": [
    "min_samples_leaf_summary= summarize_cv_hyperparameter(scores_min_samples_leaf, 'min_samples_leaf', min_samples_leafs)\n",
    "min_samples_leaf_summary"
   ]
  },
  {
   "cell_type": "code",
   "execution_count": 22,
   "id": "35500f40",
   "metadata": {},
   "outputs": [
    {
     "data": {
      "text/html": [
       "\n",
       "<div id=\"altair-viz-9e85ee4ad6f14b12a68bd796c2ac53f2\"></div>\n",
       "<script type=\"text/javascript\">\n",
       "  (function(spec, embedOpt){\n",
       "    let outputDiv = document.currentScript.previousElementSibling;\n",
       "    if (outputDiv.id !== \"altair-viz-9e85ee4ad6f14b12a68bd796c2ac53f2\") {\n",
       "      outputDiv = document.getElementById(\"altair-viz-9e85ee4ad6f14b12a68bd796c2ac53f2\");\n",
       "    }\n",
       "    const paths = {\n",
       "      \"vega\": \"https://cdn.jsdelivr.net/npm//vega@5?noext\",\n",
       "      \"vega-lib\": \"https://cdn.jsdelivr.net/npm//vega-lib?noext\",\n",
       "      \"vega-lite\": \"https://cdn.jsdelivr.net/npm//vega-lite@4.8.1?noext\",\n",
       "      \"vega-embed\": \"https://cdn.jsdelivr.net/npm//vega-embed@6?noext\",\n",
       "    };\n",
       "\n",
       "    function loadScript(lib) {\n",
       "      return new Promise(function(resolve, reject) {\n",
       "        var s = document.createElement('script');\n",
       "        s.src = paths[lib];\n",
       "        s.async = true;\n",
       "        s.onload = () => resolve(paths[lib]);\n",
       "        s.onerror = () => reject(`Error loading script: ${paths[lib]}`);\n",
       "        document.getElementsByTagName(\"head\")[0].appendChild(s);\n",
       "      });\n",
       "    }\n",
       "\n",
       "    function showError(err) {\n",
       "      outputDiv.innerHTML = `<div class=\"error\" style=\"color:red;\">${err}</div>`;\n",
       "      throw err;\n",
       "    }\n",
       "\n",
       "    function displayChart(vegaEmbed) {\n",
       "      vegaEmbed(outputDiv, spec, embedOpt)\n",
       "        .catch(err => showError(`Javascript Error: ${err.message}<br>This usually means there's a typo in your chart specification. See the javascript console for the full traceback.`));\n",
       "    }\n",
       "\n",
       "    if(typeof define === \"function\" && define.amd) {\n",
       "      requirejs.config({paths});\n",
       "      require([\"vega-embed\"], displayChart, err => showError(`Error loading script: ${err.message}`));\n",
       "    } else if (typeof vegaEmbed === \"function\") {\n",
       "      displayChart(vegaEmbed);\n",
       "    } else {\n",
       "      loadScript(\"vega\")\n",
       "        .then(() => loadScript(\"vega-lite\"))\n",
       "        .then(() => loadScript(\"vega-embed\"))\n",
       "        .catch(showError)\n",
       "        .then(() => displayChart(vegaEmbed));\n",
       "    }\n",
       "  })({\"config\": {\"view\": {\"continuousWidth\": 400, \"continuousHeight\": 300}}, \"data\": {\"name\": \"data-dd33d5c72f3384656f7ea64f981f4cde\"}, \"mark\": {\"type\": \"line\", \"point\": true}, \"encoding\": {\"color\": {\"type\": \"nominal\", \"field\": \"dataset\"}, \"x\": {\"type\": \"quantitative\", \"field\": \"min_samples_leaf\"}, \"y\": {\"type\": \"quantitative\", \"field\": \"recall_score\"}}, \"$schema\": \"https://vega.github.io/schema/vega-lite/v4.8.1.json\", \"datasets\": {\"data-dd33d5c72f3384656f7ea64f981f4cde\": [{\"min_samples_leaf\": 2, \"recall_score\": 0.8887113951011715, \"dataset\": \"train\", \"overfitting\": 0.3477103301384451}, {\"min_samples_leaf\": 2, \"recall_score\": 0.5410010649627264, \"dataset\": \"test\", \"overfitting\": 0.3477103301384451}, {\"min_samples_leaf\": 5, \"recall_score\": 0.5395811146609869, \"dataset\": \"train\", \"overfitting\": 0.13844515441959537}, {\"min_samples_leaf\": 5, \"recall_score\": 0.40113596024139153, \"dataset\": \"test\", \"overfitting\": 0.13844515441959537}, {\"min_samples_leaf\": 10, \"recall_score\": 0.3580049698260561, \"dataset\": \"train\", \"overfitting\": 0.07685481008164713}, {\"min_samples_leaf\": 10, \"recall_score\": 0.281150159744409, \"dataset\": \"test\", \"overfitting\": 0.07685481008164713}, {\"min_samples_leaf\": 20, \"recall_score\": 0.19701810436634717, \"dataset\": \"train\", \"overfitting\": 0.026979055733049373}, {\"min_samples_leaf\": 20, \"recall_score\": 0.1700390486332978, \"dataset\": \"test\", \"overfitting\": 0.026979055733049373}]}}, {\"mode\": \"vega-lite\"});\n",
       "</script>"
      ],
      "text/plain": [
       "alt.Chart(...)"
      ]
     },
     "execution_count": 22,
     "metadata": {},
     "output_type": "execute_result"
    }
   ],
   "source": [
    "compare_train_test(min_samples_leaf_summary, 'min_samples_leaf')"
   ]
  },
  {
   "cell_type": "markdown",
   "id": "8e7e9ca8",
   "metadata": {},
   "source": [
    "### _Conclusion_:\n",
    "\n",
    "In the above graph, the larger the min_samples_leaf is, the less the overfitting is, but the lower the performance is.\n",
    "\n",
    "Hence, for the next steps, I decided to use the default min_samples_leaf = 2 because other min_samples_leaf decrease the performance significantly."
   ]
  },
  {
   "cell_type": "markdown",
   "id": "b596ae19",
   "metadata": {},
   "source": [
    "## 7.   Reduce Overfitting with max_features"
   ]
  },
  {
   "cell_type": "markdown",
   "id": "1e9f686b",
   "metadata": {},
   "source": [
    "**[7.1]** Train a ExtraTreesClassifier model with n_estimators=50, max_depth = 35, max_features = [6, 12, 24 ,29] print the recall scores for the training and validation sets"
   ]
  },
  {
   "cell_type": "code",
   "execution_count": 23,
   "id": "a5142888",
   "metadata": {},
   "outputs": [
    {
     "data": {
      "text/plain": [
       "[{'fit_time': 1.3246755599975586,\n",
       "  'score_time': 0.2969084580739339,\n",
       "  'test_score': 0.3943911963081292,\n",
       "  'train_score': 0.9994675186368477},\n",
       " {'fit_time': 2.226779063542684,\n",
       "  'score_time': 0.24504995346069336,\n",
       "  'test_score': 0.6400425985090522,\n",
       "  'train_score': 0.9994675186368477},\n",
       " {'fit_time': 3.4179913997650146,\n",
       "  'score_time': 0.20983401934305826,\n",
       "  'test_score': 0.7451189208377706,\n",
       "  'train_score': 0.9994675186368477},\n",
       " {'fit_time': 7.556605418523152,\n",
       "  'score_time': 0.19238789876302084,\n",
       "  'test_score': 0.7852325168619099,\n",
       "  'train_score': 0.9994675186368477}]"
      ]
     },
     "execution_count": 23,
     "metadata": {},
     "output_type": "execute_result"
    }
   ],
   "source": [
    "scores_max_feature = []\n",
    "max_features = [2, 6, 12, 29]\n",
    "for v in max_features:\n",
    "    et = ExtraTreesClassifier(random_state=8, n_estimators=50, max_depth=35, max_features=v)\n",
    "    scores_tuned = cross_validate(et, X_data, y_data, cv=cv, scoring='recall', return_train_score=True)\n",
    "    avg_scores_tuned = {metric:np.mean(scores) for (metric, scores) in scores_tuned.items()}\n",
    "    scores_max_feature.append(avg_scores_tuned)\n",
    "scores_max_feature"
   ]
  },
  {
   "cell_type": "markdown",
   "id": "033eb49f",
   "metadata": {},
   "source": [
    "**[7.2]** Plot cross-validation recall scores across all max_features"
   ]
  },
  {
   "cell_type": "code",
   "execution_count": 24,
   "id": "d0b3b458",
   "metadata": {},
   "outputs": [
    {
     "data": {
      "text/html": [
       "<div>\n",
       "<style scoped>\n",
       "    .dataframe tbody tr th:only-of-type {\n",
       "        vertical-align: middle;\n",
       "    }\n",
       "\n",
       "    .dataframe tbody tr th {\n",
       "        vertical-align: top;\n",
       "    }\n",
       "\n",
       "    .dataframe thead th {\n",
       "        text-align: right;\n",
       "    }\n",
       "</style>\n",
       "<table border=\"1\" class=\"dataframe\">\n",
       "  <thead>\n",
       "    <tr style=\"text-align: right;\">\n",
       "      <th></th>\n",
       "      <th>max_feature</th>\n",
       "      <th>recall_score</th>\n",
       "      <th>dataset</th>\n",
       "      <th>overfitting</th>\n",
       "    </tr>\n",
       "  </thead>\n",
       "  <tbody>\n",
       "    <tr>\n",
       "      <th>0</th>\n",
       "      <td>2</td>\n",
       "      <td>0.999468</td>\n",
       "      <td>train</td>\n",
       "      <td>0.605076</td>\n",
       "    </tr>\n",
       "    <tr>\n",
       "      <th>1</th>\n",
       "      <td>2</td>\n",
       "      <td>0.394391</td>\n",
       "      <td>test</td>\n",
       "      <td>0.605076</td>\n",
       "    </tr>\n",
       "    <tr>\n",
       "      <th>2</th>\n",
       "      <td>6</td>\n",
       "      <td>0.999468</td>\n",
       "      <td>train</td>\n",
       "      <td>0.359425</td>\n",
       "    </tr>\n",
       "    <tr>\n",
       "      <th>3</th>\n",
       "      <td>6</td>\n",
       "      <td>0.640043</td>\n",
       "      <td>test</td>\n",
       "      <td>0.359425</td>\n",
       "    </tr>\n",
       "    <tr>\n",
       "      <th>4</th>\n",
       "      <td>12</td>\n",
       "      <td>0.999468</td>\n",
       "      <td>train</td>\n",
       "      <td>0.254349</td>\n",
       "    </tr>\n",
       "    <tr>\n",
       "      <th>5</th>\n",
       "      <td>12</td>\n",
       "      <td>0.745119</td>\n",
       "      <td>test</td>\n",
       "      <td>0.254349</td>\n",
       "    </tr>\n",
       "    <tr>\n",
       "      <th>6</th>\n",
       "      <td>29</td>\n",
       "      <td>0.999468</td>\n",
       "      <td>train</td>\n",
       "      <td>0.214235</td>\n",
       "    </tr>\n",
       "    <tr>\n",
       "      <th>7</th>\n",
       "      <td>29</td>\n",
       "      <td>0.785233</td>\n",
       "      <td>test</td>\n",
       "      <td>0.214235</td>\n",
       "    </tr>\n",
       "  </tbody>\n",
       "</table>\n",
       "</div>"
      ],
      "text/plain": [
       "   max_feature  recall_score dataset  overfitting\n",
       "0            2      0.999468   train     0.605076\n",
       "1            2      0.394391    test     0.605076\n",
       "2            6      0.999468   train     0.359425\n",
       "3            6      0.640043    test     0.359425\n",
       "4           12      0.999468   train     0.254349\n",
       "5           12      0.745119    test     0.254349\n",
       "6           29      0.999468   train     0.214235\n",
       "7           29      0.785233    test     0.214235"
      ]
     },
     "execution_count": 24,
     "metadata": {},
     "output_type": "execute_result"
    }
   ],
   "source": [
    "max_feature_summary= summarize_cv_hyperparameter(scores_max_feature, 'max_feature', max_features)\n",
    "max_feature_summary"
   ]
  },
  {
   "cell_type": "code",
   "execution_count": 25,
   "id": "b8d8539b",
   "metadata": {},
   "outputs": [
    {
     "data": {
      "text/html": [
       "\n",
       "<div id=\"altair-viz-b1b6928535b04b609e1fe0a9e02dbc4d\"></div>\n",
       "<script type=\"text/javascript\">\n",
       "  (function(spec, embedOpt){\n",
       "    let outputDiv = document.currentScript.previousElementSibling;\n",
       "    if (outputDiv.id !== \"altair-viz-b1b6928535b04b609e1fe0a9e02dbc4d\") {\n",
       "      outputDiv = document.getElementById(\"altair-viz-b1b6928535b04b609e1fe0a9e02dbc4d\");\n",
       "    }\n",
       "    const paths = {\n",
       "      \"vega\": \"https://cdn.jsdelivr.net/npm//vega@5?noext\",\n",
       "      \"vega-lib\": \"https://cdn.jsdelivr.net/npm//vega-lib?noext\",\n",
       "      \"vega-lite\": \"https://cdn.jsdelivr.net/npm//vega-lite@4.8.1?noext\",\n",
       "      \"vega-embed\": \"https://cdn.jsdelivr.net/npm//vega-embed@6?noext\",\n",
       "    };\n",
       "\n",
       "    function loadScript(lib) {\n",
       "      return new Promise(function(resolve, reject) {\n",
       "        var s = document.createElement('script');\n",
       "        s.src = paths[lib];\n",
       "        s.async = true;\n",
       "        s.onload = () => resolve(paths[lib]);\n",
       "        s.onerror = () => reject(`Error loading script: ${paths[lib]}`);\n",
       "        document.getElementsByTagName(\"head\")[0].appendChild(s);\n",
       "      });\n",
       "    }\n",
       "\n",
       "    function showError(err) {\n",
       "      outputDiv.innerHTML = `<div class=\"error\" style=\"color:red;\">${err}</div>`;\n",
       "      throw err;\n",
       "    }\n",
       "\n",
       "    function displayChart(vegaEmbed) {\n",
       "      vegaEmbed(outputDiv, spec, embedOpt)\n",
       "        .catch(err => showError(`Javascript Error: ${err.message}<br>This usually means there's a typo in your chart specification. See the javascript console for the full traceback.`));\n",
       "    }\n",
       "\n",
       "    if(typeof define === \"function\" && define.amd) {\n",
       "      requirejs.config({paths});\n",
       "      require([\"vega-embed\"], displayChart, err => showError(`Error loading script: ${err.message}`));\n",
       "    } else if (typeof vegaEmbed === \"function\") {\n",
       "      displayChart(vegaEmbed);\n",
       "    } else {\n",
       "      loadScript(\"vega\")\n",
       "        .then(() => loadScript(\"vega-lite\"))\n",
       "        .then(() => loadScript(\"vega-embed\"))\n",
       "        .catch(showError)\n",
       "        .then(() => displayChart(vegaEmbed));\n",
       "    }\n",
       "  })({\"config\": {\"view\": {\"continuousWidth\": 400, \"continuousHeight\": 300}}, \"data\": {\"name\": \"data-bdf0383117f79d9335771f7f690c664a\"}, \"mark\": {\"type\": \"line\", \"point\": true}, \"encoding\": {\"color\": {\"type\": \"nominal\", \"field\": \"dataset\"}, \"x\": {\"type\": \"quantitative\", \"field\": \"max_feature\"}, \"y\": {\"type\": \"quantitative\", \"field\": \"recall_score\"}}, \"$schema\": \"https://vega.github.io/schema/vega-lite/v4.8.1.json\", \"datasets\": {\"data-bdf0383117f79d9335771f7f690c664a\": [{\"max_feature\": 2, \"recall_score\": 0.9994675186368477, \"dataset\": \"train\", \"overfitting\": 0.6050763223287186}, {\"max_feature\": 2, \"recall_score\": 0.3943911963081292, \"dataset\": \"test\", \"overfitting\": 0.6050763223287186}, {\"max_feature\": 6, \"recall_score\": 0.9994675186368477, \"dataset\": \"train\", \"overfitting\": 0.3594249201277955}, {\"max_feature\": 6, \"recall_score\": 0.6400425985090522, \"dataset\": \"test\", \"overfitting\": 0.3594249201277955}, {\"max_feature\": 12, \"recall_score\": 0.9994675186368477, \"dataset\": \"train\", \"overfitting\": 0.25434859779907704}, {\"max_feature\": 12, \"recall_score\": 0.7451189208377706, \"dataset\": \"test\", \"overfitting\": 0.25434859779907704}, {\"max_feature\": 29, \"recall_score\": 0.9994675186368477, \"dataset\": \"train\", \"overfitting\": 0.21423500177493782}, {\"max_feature\": 29, \"recall_score\": 0.7852325168619099, \"dataset\": \"test\", \"overfitting\": 0.21423500177493782}]}}, {\"mode\": \"vega-lite\"});\n",
       "</script>"
      ],
      "text/plain": [
       "alt.Chart(...)"
      ]
     },
     "execution_count": 25,
     "metadata": {},
     "output_type": "execute_result"
    }
   ],
   "source": [
    "compare_train_test(max_feature_summary, 'max_feature')"
   ]
  },
  {
   "cell_type": "markdown",
   "id": "a9f4130f",
   "metadata": {},
   "source": [
    "### _Conclusion_:\n",
    "\n",
    "In the above graph, it can be seen that __22 <= max_feature <= 29__ is the best range because the overfitting is reduced while performance is still preserved. When max_feature is less than this range, it becomes more and more overfitting."
   ]
  },
  {
   "cell_type": "markdown",
   "id": "6177493c",
   "metadata": {},
   "source": [
    "## 8. Auto tuning using  Random Search "
   ]
  },
  {
   "cell_type": "markdown",
   "id": "4c668a60",
   "metadata": {},
   "source": [
    "**[8.1]** Create a dictionary containing the hyperparameters value randomly"
   ]
  },
  {
   "cell_type": "code",
   "execution_count": 26,
   "id": "3bfafbd3",
   "metadata": {},
   "outputs": [
    {
     "data": {
      "text/plain": [
       "{'n_estimators': <scipy.stats._distn_infrastructure.rv_discrete_frozen at 0x7fe0e2112c10>,\n",
       " 'max_depth': <scipy.stats._distn_infrastructure.rv_discrete_frozen at 0x7fe0dc9af7c0>,\n",
       " 'max_features': <scipy.stats._distn_infrastructure.rv_discrete_frozen at 0x7fe0e21128b0>}"
      ]
     },
     "execution_count": 26,
     "metadata": {},
     "output_type": "execute_result"
    }
   ],
   "source": [
    "hyperparams_dist = {\n",
    "    'n_estimators': randint(10, 50),\n",
    "    'max_depth': randint(35, 40),\n",
    "    'max_features': randint(22, 29)\n",
    "    }\n",
    "hyperparams_dist"
   ]
  },
  {
   "cell_type": "markdown",
   "id": "14609078",
   "metadata": {},
   "source": [
    "**[8.2]** Instantiate a RandomSearchCV with the hyperparameter_dist and the extra tree model"
   ]
  },
  {
   "cell_type": "code",
   "execution_count": 27,
   "id": "d80f61a0",
   "metadata": {},
   "outputs": [],
   "source": [
    "random_search_et = RandomizedSearchCV(ExtraTreesClassifier(random_state=8), hyperparams_dist, cv=cv, verbose=1, n_iter=30, scoring = 'recall', random_state = 8)"
   ]
  },
  {
   "cell_type": "markdown",
   "id": "2412c61e",
   "metadata": {},
   "source": [
    "**[8.3]** Fit the RandomizedSearchCV on the training set"
   ]
  },
  {
   "cell_type": "code",
   "execution_count": 28,
   "id": "a5a67881",
   "metadata": {},
   "outputs": [
    {
     "name": "stdout",
     "output_type": "stream",
     "text": [
      "Fitting 3 folds for each of 30 candidates, totalling 90 fits\n"
     ]
    },
    {
     "data": {
      "text/plain": [
       "RandomizedSearchCV(cv=[(array([     0,      1,      2, ..., 105064, 105065, 105068]),\n",
       "                        array([     3,      5,      9, ..., 105063, 105066, 105067])),\n",
       "                       (array([     0,      2,      3, ..., 105066, 105067, 105068]),\n",
       "                        array([     1,      4,      6, ..., 105057, 105060, 105064])),\n",
       "                       (array([     1,      3,      4, ..., 105064, 105066, 105067]),\n",
       "                        array([     0,      2,      7, ..., 105061, 105065, 105068]))],\n",
       "                   estimator=ExtraTreesClassifier(random_state=8), n_iter=30,\n",
       "                   param_distributions={'max_depth': <scipy.stats._distn_infrastructure.rv_discrete_frozen object at 0x7fe0dc9af7c0>,\n",
       "                                        'max_features': <scipy.stats._distn_infrastructure.rv_discrete_frozen object at 0x7fe0e21128b0>,\n",
       "                                        'n_estimators': <scipy.stats._distn_infrastructure.rv_discrete_frozen object at 0x7fe0e2112c10>},\n",
       "                   random_state=8, scoring='recall', verbose=1)"
      ]
     },
     "execution_count": 28,
     "metadata": {},
     "output_type": "execute_result"
    }
   ],
   "source": [
    "random_search_et.fit(X_data, y_data)"
   ]
  },
  {
   "cell_type": "markdown",
   "id": "04deabc7",
   "metadata": {},
   "source": [
    "**[8.4]** Display the best set of hyperparameters"
   ]
  },
  {
   "cell_type": "code",
   "execution_count": 29,
   "id": "3e1971d7",
   "metadata": {},
   "outputs": [
    {
     "data": {
      "text/plain": [
       "{'max_depth': 39, 'max_features': 25, 'n_estimators': 35}"
      ]
     },
     "execution_count": 29,
     "metadata": {},
     "output_type": "execute_result"
    }
   ],
   "source": [
    "best_params = random_search_et.best_params_\n",
    "best_params"
   ]
  },
  {
   "cell_type": "markdown",
   "id": "7234e3a4",
   "metadata": {},
   "source": [
    "**[8.5]** Display best recall"
   ]
  },
  {
   "cell_type": "code",
   "execution_count": 30,
   "id": "46aea476",
   "metadata": {},
   "outputs": [
    {
     "data": {
      "text/plain": [
       "0.7944621938232163"
      ]
     },
     "execution_count": 30,
     "metadata": {},
     "output_type": "execute_result"
    }
   ],
   "source": [
    "random_search_et.best_score_"
   ]
  },
  {
   "cell_type": "markdown",
   "id": "fd279177",
   "metadata": {},
   "source": [
    "**[8.6]** Cross validate the best extra trees"
   ]
  },
  {
   "cell_type": "code",
   "execution_count": 31,
   "id": "debf095c",
   "metadata": {},
   "outputs": [],
   "source": [
    "best_random_search_et = cross_validate(ExtraTreesClassifier(random_state=8, n_estimators=best_params['n_estimators'], max_depth=best_params['max_depth'], max_features=best_params['max_features']), X_data, y_data, cv=cv, scoring='recall', return_train_score=True)"
   ]
  },
  {
   "cell_type": "markdown",
   "id": "6b63f09e",
   "metadata": {},
   "source": [
    "**[8.7]** Average scores of all cv"
   ]
  },
  {
   "cell_type": "code",
   "execution_count": 32,
   "id": "98770a9a",
   "metadata": {},
   "outputs": [
    {
     "data": {
      "text/plain": [
       "{'fit_time': 4.548611958821614,\n",
       " 'score_time': 0.1403797467549642,\n",
       " 'test_score': 0.7944621938232163,\n",
       " 'train_score': 0.9994675186368477}"
      ]
     },
     "execution_count": 32,
     "metadata": {},
     "output_type": "execute_result"
    }
   ],
   "source": [
    "avg_scores_best_random_search_et = {metric:np.mean(scores) for (metric, scores) in best_random_search_et.items()}\n",
    "avg_scores_best_random_search_et"
   ]
  },
  {
   "cell_type": "code",
   "execution_count": 33,
   "id": "b6965c19",
   "metadata": {},
   "outputs": [
    {
     "data": {
      "text/plain": [
       "0.20500532481363143"
      ]
     },
     "execution_count": 33,
     "metadata": {},
     "output_type": "execute_result"
    }
   ],
   "source": [
    "overfitting = avg_scores_best_random_search_et['train_score'] - avg_scores_best_random_search_et['test_score']\n",
    "overfitting"
   ]
  },
  {
   "cell_type": "markdown",
   "id": "606c9411",
   "metadata": {},
   "source": [
    "## 9. Assess the best RandomForest Model on testing set"
   ]
  },
  {
   "cell_type": "markdown",
   "id": "1a8a0042",
   "metadata": {},
   "source": [
    "**[9.1]** Train ExtraTree model with best set of hyper parameters"
   ]
  },
  {
   "cell_type": "code",
   "execution_count": 34,
   "id": "099ed0e1",
   "metadata": {},
   "outputs": [],
   "source": [
    "et_best = ExtraTreesClassifier(random_state=8, n_estimators=best_params['n_estimators'], max_depth=best_params['max_depth'], max_features=best_params['max_features']).fit(X_data, y_data)"
   ]
  },
  {
   "cell_type": "markdown",
   "id": "82e11c3a",
   "metadata": {},
   "source": [
    "**[9.2]** Use the best ExtraTree model to predict X_test and save to y_test_preds"
   ]
  },
  {
   "cell_type": "code",
   "execution_count": 35,
   "id": "1ef3409e",
   "metadata": {},
   "outputs": [],
   "source": [
    "y_test_preds = et_best.predict(X_test)"
   ]
  },
  {
   "cell_type": "markdown",
   "id": "6021f5c9",
   "metadata": {},
   "source": [
    "**[9.3]** Print f2 score, precision, and recall on testing set"
   ]
  },
  {
   "cell_type": "code",
   "execution_count": 36,
   "id": "cad938cc",
   "metadata": {},
   "outputs": [
    {
     "name": "stdout",
     "output_type": "stream",
     "text": [
      "Precision:  0.9154704944178629\n",
      "Recall:  0.8153409090909091\n",
      "F2:  0.8335753703165844\n"
     ]
    }
   ],
   "source": [
    "precision = precision_score(y_test, y_test_preds)\n",
    "print('Precision: ', precision)\n",
    "recall= recall_score(y_test, y_test_preds)\n",
    "print('Recall: ', recall)\n",
    "f2 = fbeta_score(y_test, y_test_preds, beta = 2)\n",
    "print('F2: ', f2)"
   ]
  },
  {
   "cell_type": "markdown",
   "id": "66a25435",
   "metadata": {},
   "source": [
    "**[9.4]** Confusion matrix on testing set"
   ]
  },
  {
   "cell_type": "code",
   "execution_count": 37,
   "id": "3fc88272",
   "metadata": {},
   "outputs": [
    {
     "data": {
      "text/plain": [
       "<sklearn.metrics._plot.confusion_matrix.ConfusionMatrixDisplay at 0x7fe0f340f9a0>"
      ]
     },
     "execution_count": 37,
     "metadata": {},
     "output_type": "execute_result"
    },
    {
     "data": {
      "image/png": "[encoded data removed]",
      "text/plain": [
       "<Figure size 640x480 with 2 Axes>"
      ]
     },
     "metadata": {},
     "output_type": "display_data"
    }
   ],
   "source": [
    "ConfusionMatrixDisplay.from_predictions(y_test, y_test_preds, normalize = 'true')"
   ]
  },
  {
   "cell_type": "markdown",
   "id": "7e26107e",
   "metadata": {},
   "source": [
    "## 10. Feature importance "
   ]
  },
  {
   "cell_type": "markdown",
   "id": "cc675a32",
   "metadata": {},
   "source": [
    "**[10.1]** Print the features importance of et_best"
   ]
  },
  {
   "cell_type": "code",
   "execution_count": 38,
   "id": "c8a72fc8",
   "metadata": {},
   "outputs": [
    {
     "data": {
      "text/plain": [
       "array([0.08353226, 0.06724198, 0.06874261, 0.0471942 , 0.0370193 ,\n",
       "       0.04095455, 0.12010614, 0.16258366, 0.12019231, 0.06165744,\n",
       "       0.12498173, 0.00345496, 0.00464404, 0.00018175, 0.00407604,\n",
       "       0.00480939, 0.00270579, 0.00554698, 0.00033495, 0.00142167,\n",
       "       0.00683934, 0.00785684, 0.00428259, 0.00602445, 0.00187961,\n",
       "       0.00397243, 0.00486975, 0.0006639 , 0.00222936])"
      ]
     },
     "execution_count": 38,
     "metadata": {},
     "output_type": "execute_result"
    }
   ],
   "source": [
    "et_best.feature_importances_"
   ]
  },
  {
   "cell_type": "markdown",
   "id": "cecf5bde",
   "metadata": {},
   "source": [
    "**[10.2]** Create a Dataframe with these values"
   ]
  },
  {
   "cell_type": "code",
   "execution_count": 39,
   "id": "495dc9da",
   "metadata": {},
   "outputs": [],
   "source": [
    "feat_imp_et_df = pd.DataFrame(\n",
    "    {\n",
    "        'feature': X_data.columns,\n",
    "     'feature_importance': et_best.feature_importances_\n",
    "     }\n",
    ")"
   ]
  },
  {
   "cell_type": "code",
   "execution_count": 40,
   "id": "d4cf1228",
   "metadata": {},
   "outputs": [
    {
     "data": {
      "text/html": [
       "<div>\n",
       "<style scoped>\n",
       "    .dataframe tbody tr th:only-of-type {\n",
       "        vertical-align: middle;\n",
       "    }\n",
       "\n",
       "    .dataframe tbody tr th {\n",
       "        vertical-align: top;\n",
       "    }\n",
       "\n",
       "    .dataframe thead th {\n",
       "        text-align: right;\n",
       "    }\n",
       "</style>\n",
       "<table border=\"1\" class=\"dataframe\">\n",
       "  <thead>\n",
       "    <tr style=\"text-align: right;\">\n",
       "      <th></th>\n",
       "      <th>feature</th>\n",
       "      <th>feature_importance</th>\n",
       "    </tr>\n",
       "  </thead>\n",
       "  <tbody>\n",
       "    <tr>\n",
       "      <th>0</th>\n",
       "      <td>age_of_vehicle_years</td>\n",
       "      <td>0.083532</td>\n",
       "    </tr>\n",
       "    <tr>\n",
       "      <th>1</th>\n",
       "      <td>sched_serv_warr</td>\n",
       "      <td>0.067242</td>\n",
       "    </tr>\n",
       "    <tr>\n",
       "      <th>2</th>\n",
       "      <td>non_sched_serv_warr</td>\n",
       "      <td>0.068743</td>\n",
       "    </tr>\n",
       "    <tr>\n",
       "      <th>3</th>\n",
       "      <td>sched_serv_paid</td>\n",
       "      <td>0.047194</td>\n",
       "    </tr>\n",
       "    <tr>\n",
       "      <th>4</th>\n",
       "      <td>non_sched_serv_paid</td>\n",
       "      <td>0.037019</td>\n",
       "    </tr>\n",
       "    <tr>\n",
       "      <th>5</th>\n",
       "      <td>total_paid_services</td>\n",
       "      <td>0.040955</td>\n",
       "    </tr>\n",
       "    <tr>\n",
       "      <th>6</th>\n",
       "      <td>total_services</td>\n",
       "      <td>0.120106</td>\n",
       "    </tr>\n",
       "    <tr>\n",
       "      <th>7</th>\n",
       "      <td>mth_since_last_serv</td>\n",
       "      <td>0.162584</td>\n",
       "    </tr>\n",
       "    <tr>\n",
       "      <th>8</th>\n",
       "      <td>annualised_mileage</td>\n",
       "      <td>0.120192</td>\n",
       "    </tr>\n",
       "    <tr>\n",
       "      <th>9</th>\n",
       "      <td>num_dealers_visited</td>\n",
       "      <td>0.061657</td>\n",
       "    </tr>\n",
       "    <tr>\n",
       "      <th>10</th>\n",
       "      <td>num_serv_dealer_purchased</td>\n",
       "      <td>0.124982</td>\n",
       "    </tr>\n",
       "    <tr>\n",
       "      <th>11</th>\n",
       "      <td>car_segment_LCV</td>\n",
       "      <td>0.003455</td>\n",
       "    </tr>\n",
       "    <tr>\n",
       "      <th>12</th>\n",
       "      <td>car_segment_Large/SUV</td>\n",
       "      <td>0.004644</td>\n",
       "    </tr>\n",
       "    <tr>\n",
       "      <th>13</th>\n",
       "      <td>car_segment_Other</td>\n",
       "      <td>0.000182</td>\n",
       "    </tr>\n",
       "    <tr>\n",
       "      <th>14</th>\n",
       "      <td>car_segment_Small/Medium</td>\n",
       "      <td>0.004076</td>\n",
       "    </tr>\n",
       "    <tr>\n",
       "      <th>15</th>\n",
       "      <td>car_model_model_1</td>\n",
       "      <td>0.004809</td>\n",
       "    </tr>\n",
       "    <tr>\n",
       "      <th>16</th>\n",
       "      <td>car_model_model_10</td>\n",
       "      <td>0.002706</td>\n",
       "    </tr>\n",
       "    <tr>\n",
       "      <th>17</th>\n",
       "      <td>car_model_model_11</td>\n",
       "      <td>0.005547</td>\n",
       "    </tr>\n",
       "    <tr>\n",
       "      <th>18</th>\n",
       "      <td>car_model_model_12</td>\n",
       "      <td>0.000335</td>\n",
       "    </tr>\n",
       "    <tr>\n",
       "      <th>19</th>\n",
       "      <td>car_model_model_13</td>\n",
       "      <td>0.001422</td>\n",
       "    </tr>\n",
       "    <tr>\n",
       "      <th>20</th>\n",
       "      <td>car_model_model_2</td>\n",
       "      <td>0.006839</td>\n",
       "    </tr>\n",
       "    <tr>\n",
       "      <th>21</th>\n",
       "      <td>car_model_model_3</td>\n",
       "      <td>0.007857</td>\n",
       "    </tr>\n",
       "    <tr>\n",
       "      <th>22</th>\n",
       "      <td>car_model_model_4</td>\n",
       "      <td>0.004283</td>\n",
       "    </tr>\n",
       "    <tr>\n",
       "      <th>23</th>\n",
       "      <td>car_model_model_5</td>\n",
       "      <td>0.006024</td>\n",
       "    </tr>\n",
       "    <tr>\n",
       "      <th>24</th>\n",
       "      <td>car_model_model_6</td>\n",
       "      <td>0.001880</td>\n",
       "    </tr>\n",
       "    <tr>\n",
       "      <th>25</th>\n",
       "      <td>car_model_model_7</td>\n",
       "      <td>0.003972</td>\n",
       "    </tr>\n",
       "    <tr>\n",
       "      <th>26</th>\n",
       "      <td>car_model_model_8</td>\n",
       "      <td>0.004870</td>\n",
       "    </tr>\n",
       "    <tr>\n",
       "      <th>27</th>\n",
       "      <td>car_model_model_9</td>\n",
       "      <td>0.000664</td>\n",
       "    </tr>\n",
       "    <tr>\n",
       "      <th>28</th>\n",
       "      <td>car_model_other</td>\n",
       "      <td>0.002229</td>\n",
       "    </tr>\n",
       "  </tbody>\n",
       "</table>\n",
       "</div>"
      ],
      "text/plain": [
       "                      feature  feature_importance\n",
       "0        age_of_vehicle_years            0.083532\n",
       "1             sched_serv_warr            0.067242\n",
       "2         non_sched_serv_warr            0.068743\n",
       "3             sched_serv_paid            0.047194\n",
       "4         non_sched_serv_paid            0.037019\n",
       "5         total_paid_services            0.040955\n",
       "6              total_services            0.120106\n",
       "7         mth_since_last_serv            0.162584\n",
       "8          annualised_mileage            0.120192\n",
       "9         num_dealers_visited            0.061657\n",
       "10  num_serv_dealer_purchased            0.124982\n",
       "11            car_segment_LCV            0.003455\n",
       "12      car_segment_Large/SUV            0.004644\n",
       "13          car_segment_Other            0.000182\n",
       "14   car_segment_Small/Medium            0.004076\n",
       "15          car_model_model_1            0.004809\n",
       "16         car_model_model_10            0.002706\n",
       "17         car_model_model_11            0.005547\n",
       "18         car_model_model_12            0.000335\n",
       "19         car_model_model_13            0.001422\n",
       "20          car_model_model_2            0.006839\n",
       "21          car_model_model_3            0.007857\n",
       "22          car_model_model_4            0.004283\n",
       "23          car_model_model_5            0.006024\n",
       "24          car_model_model_6            0.001880\n",
       "25          car_model_model_7            0.003972\n",
       "26          car_model_model_8            0.004870\n",
       "27          car_model_model_9            0.000664\n",
       "28            car_model_other            0.002229"
      ]
     },
     "execution_count": 40,
     "metadata": {},
     "output_type": "execute_result"
    }
   ],
   "source": [
    "feat_imp_et_df"
   ]
  },
  {
   "cell_type": "markdown",
   "id": "82c10fe2",
   "metadata": {},
   "source": [
    "**[10.3]** Sort the previous dataframe and reset its index"
   ]
  },
  {
   "cell_type": "code",
   "execution_count": 41,
   "id": "0e80589c",
   "metadata": {},
   "outputs": [],
   "source": [
    "feat_imp_et_df = feat_imp_et_df.sort_values('feature_importance', ascending=False).reset_index(drop=True)"
   ]
  },
  {
   "cell_type": "markdown",
   "id": "0766e10d",
   "metadata": {},
   "source": [
    "**[10.4]** We can visualise this information on a graph"
   ]
  },
  {
   "cell_type": "code",
   "execution_count": 42,
   "id": "5d73ccca",
   "metadata": {},
   "outputs": [
    {
     "data": {
      "text/html": [
       "\n",
       "<div id=\"altair-viz-0ae18ee4729c48b69fed507a8767b474\"></div>\n",
       "<script type=\"text/javascript\">\n",
       "  (function(spec, embedOpt){\n",
       "    let outputDiv = document.currentScript.previousElementSibling;\n",
       "    if (outputDiv.id !== \"altair-viz-0ae18ee4729c48b69fed507a8767b474\") {\n",
       "      outputDiv = document.getElementById(\"altair-viz-0ae18ee4729c48b69fed507a8767b474\");\n",
       "    }\n",
       "    const paths = {\n",
       "      \"vega\": \"https://cdn.jsdelivr.net/npm//vega@5?noext\",\n",
       "      \"vega-lib\": \"https://cdn.jsdelivr.net/npm//vega-lib?noext\",\n",
       "      \"vega-lite\": \"https://cdn.jsdelivr.net/npm//vega-lite@4.8.1?noext\",\n",
       "      \"vega-embed\": \"https://cdn.jsdelivr.net/npm//vega-embed@6?noext\",\n",
       "    };\n",
       "\n",
       "    function loadScript(lib) {\n",
       "      return new Promise(function(resolve, reject) {\n",
       "        var s = document.createElement('script');\n",
       "        s.src = paths[lib];\n",
       "        s.async = true;\n",
       "        s.onload = () => resolve(paths[lib]);\n",
       "        s.onerror = () => reject(`Error loading script: ${paths[lib]}`);\n",
       "        document.getElementsByTagName(\"head\")[0].appendChild(s);\n",
       "      });\n",
       "    }\n",
       "\n",
       "    function showError(err) {\n",
       "      outputDiv.innerHTML = `<div class=\"error\" style=\"color:red;\">${err}</div>`;\n",
       "      throw err;\n",
       "    }\n",
       "\n",
       "    function displayChart(vegaEmbed) {\n",
       "      vegaEmbed(outputDiv, spec, embedOpt)\n",
       "        .catch(err => showError(`Javascript Error: ${err.message}<br>This usually means there's a typo in your chart specification. See the javascript console for the full traceback.`));\n",
       "    }\n",
       "\n",
       "    if(typeof define === \"function\" && define.amd) {\n",
       "      requirejs.config({paths});\n",
       "      require([\"vega-embed\"], displayChart, err => showError(`Error loading script: ${err.message}`));\n",
       "    } else if (typeof vegaEmbed === \"function\") {\n",
       "      displayChart(vegaEmbed);\n",
       "    } else {\n",
       "      loadScript(\"vega\")\n",
       "        .then(() => loadScript(\"vega-lite\"))\n",
       "        .then(() => loadScript(\"vega-embed\"))\n",
       "        .catch(showError)\n",
       "        .then(() => displayChart(vegaEmbed));\n",
       "    }\n",
       "  })({\"config\": {\"view\": {\"continuousWidth\": 400, \"continuousHeight\": 300}}, \"data\": {\"name\": \"data-e192a8342fae7298fc361cf0c7e4859e\"}, \"mark\": \"bar\", \"encoding\": {\"tooltip\": [{\"type\": \"nominal\", \"field\": \"feature\"}, {\"type\": \"quantitative\", \"field\": \"feature_importance\"}], \"x\": {\"type\": \"quantitative\", \"field\": \"feature_importance\"}, \"y\": {\"type\": \"nominal\", \"field\": \"feature\", \"sort\": \"-x\"}}, \"$schema\": \"https://vega.github.io/schema/vega-lite/v4.8.1.json\", \"datasets\": {\"data-e192a8342fae7298fc361cf0c7e4859e\": [{\"feature\": \"mth_since_last_serv\", \"feature_importance\": 0.1625836631874571}, {\"feature\": \"num_serv_dealer_purchased\", \"feature_importance\": 0.12498172971807026}, {\"feature\": \"annualised_mileage\", \"feature_importance\": 0.12019231102445718}, {\"feature\": \"total_services\", \"feature_importance\": 0.12010614057897406}, {\"feature\": \"age_of_vehicle_years\", \"feature_importance\": 0.0835322552632172}, {\"feature\": \"non_sched_serv_warr\", \"feature_importance\": 0.06874261314639883}, {\"feature\": \"sched_serv_warr\", \"feature_importance\": 0.06724198226884223}, {\"feature\": \"num_dealers_visited\", \"feature_importance\": 0.061657435212379055}, {\"feature\": \"sched_serv_paid\", \"feature_importance\": 0.04719419773587097}, {\"feature\": \"total_paid_services\", \"feature_importance\": 0.040954545124669395}, {\"feature\": \"non_sched_serv_paid\", \"feature_importance\": 0.03701929936349822}, {\"feature\": \"car_model_model_3\", \"feature_importance\": 0.007856839048185547}, {\"feature\": \"car_model_model_2\", \"feature_importance\": 0.006839336133963736}, {\"feature\": \"car_model_model_5\", \"feature_importance\": 0.006024450595938001}, {\"feature\": \"car_model_model_11\", \"feature_importance\": 0.005546981859256705}, {\"feature\": \"car_model_model_8\", \"feature_importance\": 0.004869749417413903}, {\"feature\": \"car_model_model_1\", \"feature_importance\": 0.0048093933304063936}, {\"feature\": \"car_segment_Large/SUV\", \"feature_importance\": 0.004644035234799351}, {\"feature\": \"car_model_model_4\", \"feature_importance\": 0.004282594657976353}, {\"feature\": \"car_segment_Small/Medium\", \"feature_importance\": 0.00407603566905749}, {\"feature\": \"car_model_model_7\", \"feature_importance\": 0.003972429958248415}, {\"feature\": \"car_segment_LCV\", \"feature_importance\": 0.0034549579720382496}, {\"feature\": \"car_model_model_10\", \"feature_importance\": 0.002705790510478962}, {\"feature\": \"car_model_other\", \"feature_importance\": 0.002229362643719355}, {\"feature\": \"car_model_model_6\", \"feature_importance\": 0.0018796101287766034}, {\"feature\": \"car_model_model_13\", \"feature_importance\": 0.001421669201016788}, {\"feature\": \"car_model_model_9\", \"feature_importance\": 0.0006638994998778432}, {\"feature\": \"car_model_model_12\", \"feature_importance\": 0.00033494543536461866}, {\"feature\": \"car_segment_Other\", \"feature_importance\": 0.00018174607964714472}]}}, {\"mode\": \"vega-lite\"});\n",
       "</script>"
      ],
      "text/plain": [
       "alt.Chart(...)"
      ]
     },
     "execution_count": 42,
     "metadata": {},
     "output_type": "execute_result"
    }
   ],
   "source": [
    "alt.Chart(feat_imp_et_df).mark_bar().encode(\n",
    "    x='feature_importance',\n",
    "    y=alt.Y(\"feature\", sort='-x'),\n",
    "    tooltip=['feature','feature_importance'])"
   ]
  }
 ],
 "metadata": {
  "kernelspec": {
   "display_name": "Python 3 (ipykernel)",
   "language": "python",
   "name": "python3"
  },
  "language_info": {
   "codemirror_mode": {
    "name": "ipython",
    "version": 3
   },
   "file_extension": ".py",
   "mimetype": "text/x-python",
   "name": "python",
   "nbconvert_exporter": "python",
   "pygments_lexer": "ipython3",
   "version": "3.9.13"
  }
 },
 "nbformat": 4,
 "nbformat_minor": 5
}
