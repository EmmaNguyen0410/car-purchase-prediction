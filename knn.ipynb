{
 "cells": [
  {
   "cell_type": "markdown",
   "id": "e70c4434",
   "metadata": {},
   "source": [
    "# **Experiment 2: KNN**\n",
    "\n",
    "__Step__:\n",
    "1. Load datasets and create functions\n",
    "2. Data Splitting\n",
    "3. Train KNN models using Euclidean distance and different n_neighbors\n",
    "4. Train KNN models using Manhattan distance and different n_neighbors\n",
    "5. Assess the best KNN model on testing set"
   ]
  },
  {
   "cell_type": "markdown",
   "id": "6c5ebfd1",
   "metadata": {},
   "source": [
    "## **1. Load datasets and create functions** "
   ]
  },
  {
   "cell_type": "markdown",
   "id": "d36e1f21",
   "metadata": {},
   "source": [
    "**[1.1]** Import packages"
   ]
  },
  {
   "cell_type": "code",
   "execution_count": 1,
   "id": "93114351",
   "metadata": {},
   "outputs": [],
   "source": [
    "import pandas as pd\n",
    "import math \n",
    "import numpy as np\n",
    "from itertools import repeat\n",
    "\n",
    "# train test split\n",
    "from sklearn.model_selection import train_test_split\n",
    "\n",
    "# performance metrics\n",
    "from sklearn.metrics import fbeta_score, recall_score, precision_score\n",
    "from sklearn.metrics import confusion_matrix, ConfusionMatrixDisplay\n",
    "\n",
    "# visualization \n",
    "import matplotlib.pyplot as plt\n",
    "import altair as alt\n",
    "alt.data_transformers.disable_max_rows()\n",
    "\n",
    "from scipy.stats import randint\n",
    "\n",
    "# classifier\n",
    "from sklearn.neighbors import KNeighborsClassifier"
   ]
  },
  {
   "cell_type": "markdown",
   "id": "dbfaf6a7",
   "metadata": {},
   "source": [
    "**[1.2]** Load the training dataset into dataframe called df_data"
   ]
  },
  {
   "cell_type": "code",
   "execution_count": 2,
   "id": "ae08ff84",
   "metadata": {},
   "outputs": [],
   "source": [
    "df_data = pd.read_csv('./repurchase_data-prepared.csv')"
   ]
  },
  {
   "cell_type": "markdown",
   "id": "5fbfb712",
   "metadata": {},
   "source": [
    "**[1.3]** Load the training dataset into dataframe called df_test"
   ]
  },
  {
   "cell_type": "code",
   "execution_count": 3,
   "id": "06deef36",
   "metadata": {},
   "outputs": [],
   "source": [
    "df_test = pd.read_csv('./repurchase_test-prepared.csv')"
   ]
  },
  {
   "cell_type": "markdown",
   "id": "d0eced1a",
   "metadata": {},
   "source": [
    "**[1.4]** Create a function to tune p and n_neighbors and return train/test results"
   ]
  },
  {
   "cell_type": "code",
   "execution_count": 4,
   "id": "a972fb80",
   "metadata": {},
   "outputs": [],
   "source": [
    "def distance_n_neighbors_tuning(p, n_neighbors_list):\n",
    "    \"\"\"\n",
    "    Parameters:\n",
    "        p (int): Power parameter for the Minkowski metric. When p = 1, this is equivalent to using manhattan_distance (l1), and euclidean_distance (l2) for p = 2. For arbitrary p, minkowski_distance (l_p) is used. \n",
    "        n_neighbors_list: list of n_neighbors\n",
    "    Return:\n",
    "        A Dataframe that contains 4 columns:\n",
    "        - n_neighbors: values of n_neighbors\n",
    "        - recall_score: recall on a given set.\n",
    "        - dataset: the type of dataset on which recall_score is calculated. Either train or test.\n",
    "        - overfitting: the difference between train_score and test_score \n",
    "    \"\"\"\n",
    "    recall_scores = []\n",
    "    n_p_values = len(n_neighbors_list)\n",
    "    dataset = ['train', 'validation'] * n_p_values\n",
    "    overfitting = []\n",
    "    \n",
    "    for v in n_neighbors_list:\n",
    "        knn_classifier = KNeighborsClassifier(p = p, n_neighbors = v)\n",
    "        knn_classifier.fit(X_train, y_train)\n",
    "        y_train_preds = knn_classifier.predict(X_train)\n",
    "        y_val_preds = knn_classifier.predict(X_val)\n",
    "        \n",
    "        recall_train = recall_score(y_train, y_train_preds)\n",
    "        recall_val = recall_score(y_val, y_val_preds)\n",
    "        recall_scores.append(recall_train)\n",
    "        recall_scores.append(recall_val)\n",
    "        overfitting.extend(repeat(recall_train - recall_val,2))\n",
    "    return pd.DataFrame({'n_neighbors': sorted(n_neighbors_list * 2), 'recall_score': recall_scores, 'dataset': dataset, 'overfitting': overfitting})"
   ]
  },
  {
   "cell_type": "markdown",
   "id": "8c0521b8",
   "metadata": {},
   "source": [
    "**[1.5]** Create a function to plot results of results of tuned models"
   ]
  },
  {
   "cell_type": "code",
   "execution_count": 5,
   "id": "62a08b09",
   "metadata": {},
   "outputs": [],
   "source": [
    "def compare_train_test(tuning):\n",
    "    return alt.Chart(tuning).mark_line(point=True).encode(\n",
    "        x='n_neighbors',\n",
    "        y='recall_score',\n",
    "        color='dataset',\n",
    "    )"
   ]
  },
  {
   "cell_type": "markdown",
   "id": "98a28539",
   "metadata": {},
   "source": [
    "## 2. Data Splitting"
   ]
  },
  {
   "cell_type": "markdown",
   "id": "d4adb951",
   "metadata": {},
   "source": [
    "**[2.1]** Extract target values and independent values from df_data"
   ]
  },
  {
   "cell_type": "code",
   "execution_count": 6,
   "id": "c1af9332",
   "metadata": {},
   "outputs": [],
   "source": [
    "y_data = df_data.pop('Target')\n",
    "X_data = df_data"
   ]
  },
  {
   "cell_type": "markdown",
   "id": "8fa210ca",
   "metadata": {},
   "source": [
    "**[2.2]** Extract target values and independent values from df_test"
   ]
  },
  {
   "cell_type": "code",
   "execution_count": 7,
   "id": "c8e738af",
   "metadata": {},
   "outputs": [],
   "source": [
    "y_test = df_test.pop('Target')\n",
    "X_test = df_test"
   ]
  },
  {
   "cell_type": "markdown",
   "id": "be5a95bd",
   "metadata": {},
   "source": [
    "**[2.3]** Split the data randomly into 2 different sets: training (80%) and validation (20%) with random_state=42 and stratify=y_data"
   ]
  },
  {
   "cell_type": "code",
   "execution_count": 8,
   "id": "50e4d968",
   "metadata": {},
   "outputs": [],
   "source": [
    "X_train, X_val, y_train, y_val = train_test_split(X_data, y_data, test_size=0.2, random_state=42, stratify=y_data)"
   ]
  },
  {
   "cell_type": "markdown",
   "id": "b9e2b297",
   "metadata": {},
   "source": [
    "**[2.4]** Print the frequencies of each value of the target variable from the validation set"
   ]
  },
  {
   "cell_type": "code",
   "execution_count": 9,
   "id": "cac72589",
   "metadata": {},
   "outputs": [
    {
     "data": {
      "text/plain": [
       "0    0.973208\n",
       "1    0.026792\n",
       "Name: Target, dtype: float64"
      ]
     },
     "execution_count": 9,
     "metadata": {},
     "output_type": "execute_result"
    }
   ],
   "source": [
    "y_val.value_counts(normalize=True)"
   ]
  },
  {
   "cell_type": "markdown",
   "id": "3ea72d4c",
   "metadata": {},
   "source": [
    "**[2.5]** Print the frequencies of each value of the target variable from the training set"
   ]
  },
  {
   "cell_type": "code",
   "execution_count": 10,
   "id": "ec21c740",
   "metadata": {},
   "outputs": [
    {
     "data": {
      "text/plain": [
       "0    0.973184\n",
       "1    0.026816\n",
       "Name: Target, dtype: float64"
      ]
     },
     "execution_count": 10,
     "metadata": {},
     "output_type": "execute_result"
    }
   ],
   "source": [
    "y_train.value_counts(normalize=True)"
   ]
  },
  {
   "cell_type": "markdown",
   "id": "b91cd8d5",
   "metadata": {},
   "source": [
    "## 3. Train KNN models using Euclidean distance and different n_neighbors"
   ]
  },
  {
   "cell_type": "markdown",
   "id": "1d3eb208",
   "metadata": {},
   "source": [
    "**[3.1]** Train KNN models using Euclidean distance and n_neighbors = [3, 5, 15, 25, 35] and save the results"
   ]
  },
  {
   "cell_type": "code",
   "execution_count": 11,
   "id": "97caca26",
   "metadata": {},
   "outputs": [
    {
     "name": "stderr",
     "output_type": "stream",
     "text": [
      "/Users/nguyenthao/opt/anaconda3/lib/python3.9/site-packages/sklearn/neighbors/_classification.py:228: FutureWarning: Unlike other reduction functions (e.g. `skew`, `kurtosis`), the default behavior of `mode` typically preserves the axis it acts along. In SciPy 1.11.0, this behavior will change: the default value of `keepdims` will become False, the `axis` over which the statistic is taken will be eliminated, and the value None will no longer be accepted. Set `keepdims` to True or False to avoid this warning.\n",
      "  mode, _ = stats.mode(_y[neigh_ind, k], axis=1)\n",
      "/Users/nguyenthao/opt/anaconda3/lib/python3.9/site-packages/sklearn/neighbors/_classification.py:228: FutureWarning: Unlike other reduction functions (e.g. `skew`, `kurtosis`), the default behavior of `mode` typically preserves the axis it acts along. In SciPy 1.11.0, this behavior will change: the default value of `keepdims` will become False, the `axis` over which the statistic is taken will be eliminated, and the value None will no longer be accepted. Set `keepdims` to True or False to avoid this warning.\n",
      "  mode, _ = stats.mode(_y[neigh_ind, k], axis=1)\n",
      "/Users/nguyenthao/opt/anaconda3/lib/python3.9/site-packages/sklearn/neighbors/_classification.py:228: FutureWarning: Unlike other reduction functions (e.g. `skew`, `kurtosis`), the default behavior of `mode` typically preserves the axis it acts along. In SciPy 1.11.0, this behavior will change: the default value of `keepdims` will become False, the `axis` over which the statistic is taken will be eliminated, and the value None will no longer be accepted. Set `keepdims` to True or False to avoid this warning.\n",
      "  mode, _ = stats.mode(_y[neigh_ind, k], axis=1)\n",
      "/Users/nguyenthao/opt/anaconda3/lib/python3.9/site-packages/sklearn/neighbors/_classification.py:228: FutureWarning: Unlike other reduction functions (e.g. `skew`, `kurtosis`), the default behavior of `mode` typically preserves the axis it acts along. In SciPy 1.11.0, this behavior will change: the default value of `keepdims` will become False, the `axis` over which the statistic is taken will be eliminated, and the value None will no longer be accepted. Set `keepdims` to True or False to avoid this warning.\n",
      "  mode, _ = stats.mode(_y[neigh_ind, k], axis=1)\n",
      "/Users/nguyenthao/opt/anaconda3/lib/python3.9/site-packages/sklearn/neighbors/_classification.py:228: FutureWarning: Unlike other reduction functions (e.g. `skew`, `kurtosis`), the default behavior of `mode` typically preserves the axis it acts along. In SciPy 1.11.0, this behavior will change: the default value of `keepdims` will become False, the `axis` over which the statistic is taken will be eliminated, and the value None will no longer be accepted. Set `keepdims` to True or False to avoid this warning.\n",
      "  mode, _ = stats.mode(_y[neigh_ind, k], axis=1)\n",
      "/Users/nguyenthao/opt/anaconda3/lib/python3.9/site-packages/sklearn/neighbors/_classification.py:228: FutureWarning: Unlike other reduction functions (e.g. `skew`, `kurtosis`), the default behavior of `mode` typically preserves the axis it acts along. In SciPy 1.11.0, this behavior will change: the default value of `keepdims` will become False, the `axis` over which the statistic is taken will be eliminated, and the value None will no longer be accepted. Set `keepdims` to True or False to avoid this warning.\n",
      "  mode, _ = stats.mode(_y[neigh_ind, k], axis=1)\n",
      "/Users/nguyenthao/opt/anaconda3/lib/python3.9/site-packages/sklearn/neighbors/_classification.py:228: FutureWarning: Unlike other reduction functions (e.g. `skew`, `kurtosis`), the default behavior of `mode` typically preserves the axis it acts along. In SciPy 1.11.0, this behavior will change: the default value of `keepdims` will become False, the `axis` over which the statistic is taken will be eliminated, and the value None will no longer be accepted. Set `keepdims` to True or False to avoid this warning.\n",
      "  mode, _ = stats.mode(_y[neigh_ind, k], axis=1)\n",
      "/Users/nguyenthao/opt/anaconda3/lib/python3.9/site-packages/sklearn/neighbors/_classification.py:228: FutureWarning: Unlike other reduction functions (e.g. `skew`, `kurtosis`), the default behavior of `mode` typically preserves the axis it acts along. In SciPy 1.11.0, this behavior will change: the default value of `keepdims` will become False, the `axis` over which the statistic is taken will be eliminated, and the value None will no longer be accepted. Set `keepdims` to True or False to avoid this warning.\n",
      "  mode, _ = stats.mode(_y[neigh_ind, k], axis=1)\n",
      "/Users/nguyenthao/opt/anaconda3/lib/python3.9/site-packages/sklearn/neighbors/_classification.py:228: FutureWarning: Unlike other reduction functions (e.g. `skew`, `kurtosis`), the default behavior of `mode` typically preserves the axis it acts along. In SciPy 1.11.0, this behavior will change: the default value of `keepdims` will become False, the `axis` over which the statistic is taken will be eliminated, and the value None will no longer be accepted. Set `keepdims` to True or False to avoid this warning.\n",
      "  mode, _ = stats.mode(_y[neigh_ind, k], axis=1)\n",
      "/Users/nguyenthao/opt/anaconda3/lib/python3.9/site-packages/sklearn/neighbors/_classification.py:228: FutureWarning: Unlike other reduction functions (e.g. `skew`, `kurtosis`), the default behavior of `mode` typically preserves the axis it acts along. In SciPy 1.11.0, this behavior will change: the default value of `keepdims` will become False, the `axis` over which the statistic is taken will be eliminated, and the value None will no longer be accepted. Set `keepdims` to True or False to avoid this warning.\n",
      "  mode, _ = stats.mode(_y[neigh_ind, k], axis=1)\n"
     ]
    }
   ],
   "source": [
    "knn_euc = distance_n_neighbors_tuning(2, [3, 5, 15, 25, 35])"
   ]
  },
  {
   "cell_type": "code",
   "execution_count": 12,
   "id": "e8296e4e",
   "metadata": {},
   "outputs": [
    {
     "data": {
      "text/html": [
       "<div>\n",
       "<style scoped>\n",
       "    .dataframe tbody tr th:only-of-type {\n",
       "        vertical-align: middle;\n",
       "    }\n",
       "\n",
       "    .dataframe tbody tr th {\n",
       "        vertical-align: top;\n",
       "    }\n",
       "\n",
       "    .dataframe thead th {\n",
       "        text-align: right;\n",
       "    }\n",
       "</style>\n",
       "<table border=\"1\" class=\"dataframe\">\n",
       "  <thead>\n",
       "    <tr style=\"text-align: right;\">\n",
       "      <th></th>\n",
       "      <th>n_neighbors</th>\n",
       "      <th>recall_score</th>\n",
       "      <th>dataset</th>\n",
       "      <th>overfitting</th>\n",
       "    </tr>\n",
       "  </thead>\n",
       "  <tbody>\n",
       "    <tr>\n",
       "      <th>0</th>\n",
       "      <td>3</td>\n",
       "      <td>0.690772</td>\n",
       "      <td>train</td>\n",
       "      <td>0.140150</td>\n",
       "    </tr>\n",
       "    <tr>\n",
       "      <th>1</th>\n",
       "      <td>3</td>\n",
       "      <td>0.550622</td>\n",
       "      <td>validation</td>\n",
       "      <td>0.140150</td>\n",
       "    </tr>\n",
       "    <tr>\n",
       "      <th>2</th>\n",
       "      <td>5</td>\n",
       "      <td>0.595830</td>\n",
       "      <td>train</td>\n",
       "      <td>0.075403</td>\n",
       "    </tr>\n",
       "    <tr>\n",
       "      <th>3</th>\n",
       "      <td>5</td>\n",
       "      <td>0.520426</td>\n",
       "      <td>validation</td>\n",
       "      <td>0.075403</td>\n",
       "    </tr>\n",
       "    <tr>\n",
       "      <th>4</th>\n",
       "      <td>15</td>\n",
       "      <td>0.433452</td>\n",
       "      <td>train</td>\n",
       "      <td>0.053345</td>\n",
       "    </tr>\n",
       "    <tr>\n",
       "      <th>5</th>\n",
       "      <td>15</td>\n",
       "      <td>0.380107</td>\n",
       "      <td>validation</td>\n",
       "      <td>0.053345</td>\n",
       "    </tr>\n",
       "    <tr>\n",
       "      <th>6</th>\n",
       "      <td>25</td>\n",
       "      <td>0.361136</td>\n",
       "      <td>train</td>\n",
       "      <td>0.023658</td>\n",
       "    </tr>\n",
       "    <tr>\n",
       "      <th>7</th>\n",
       "      <td>25</td>\n",
       "      <td>0.337478</td>\n",
       "      <td>validation</td>\n",
       "      <td>0.023658</td>\n",
       "    </tr>\n",
       "    <tr>\n",
       "      <th>8</th>\n",
       "      <td>35</td>\n",
       "      <td>0.310115</td>\n",
       "      <td>train</td>\n",
       "      <td>0.015266</td>\n",
       "    </tr>\n",
       "    <tr>\n",
       "      <th>9</th>\n",
       "      <td>35</td>\n",
       "      <td>0.294849</td>\n",
       "      <td>validation</td>\n",
       "      <td>0.015266</td>\n",
       "    </tr>\n",
       "  </tbody>\n",
       "</table>\n",
       "</div>"
      ],
      "text/plain": [
       "   n_neighbors  recall_score     dataset  overfitting\n",
       "0            3      0.690772       train     0.140150\n",
       "1            3      0.550622  validation     0.140150\n",
       "2            5      0.595830       train     0.075403\n",
       "3            5      0.520426  validation     0.075403\n",
       "4           15      0.433452       train     0.053345\n",
       "5           15      0.380107  validation     0.053345\n",
       "6           25      0.361136       train     0.023658\n",
       "7           25      0.337478  validation     0.023658\n",
       "8           35      0.310115       train     0.015266\n",
       "9           35      0.294849  validation     0.015266"
      ]
     },
     "execution_count": 12,
     "metadata": {},
     "output_type": "execute_result"
    }
   ],
   "source": [
    "knn_euc"
   ]
  },
  {
   "cell_type": "markdown",
   "id": "a11dc4c7",
   "metadata": {},
   "source": [
    "**[3.2]** Plot results to compare"
   ]
  },
  {
   "cell_type": "code",
   "execution_count": 13,
   "id": "229a512d",
   "metadata": {},
   "outputs": [
    {
     "data": {
      "text/html": [
       "\n",
       "<div id=\"altair-viz-82b066ebc8b1403fb4895234d041beef\"></div>\n",
       "<script type=\"text/javascript\">\n",
       "  (function(spec, embedOpt){\n",
       "    let outputDiv = document.currentScript.previousElementSibling;\n",
       "    if (outputDiv.id !== \"altair-viz-82b066ebc8b1403fb4895234d041beef\") {\n",
       "      outputDiv = document.getElementById(\"altair-viz-82b066ebc8b1403fb4895234d041beef\");\n",
       "    }\n",
       "    const paths = {\n",
       "      \"vega\": \"https://cdn.jsdelivr.net/npm//vega@5?noext\",\n",
       "      \"vega-lib\": \"https://cdn.jsdelivr.net/npm//vega-lib?noext\",\n",
       "      \"vega-lite\": \"https://cdn.jsdelivr.net/npm//vega-lite@4.8.1?noext\",\n",
       "      \"vega-embed\": \"https://cdn.jsdelivr.net/npm//vega-embed@6?noext\",\n",
       "    };\n",
       "\n",
       "    function loadScript(lib) {\n",
       "      return new Promise(function(resolve, reject) {\n",
       "        var s = document.createElement('script');\n",
       "        s.src = paths[lib];\n",
       "        s.async = true;\n",
       "        s.onload = () => resolve(paths[lib]);\n",
       "        s.onerror = () => reject(`Error loading script: ${paths[lib]}`);\n",
       "        document.getElementsByTagName(\"head\")[0].appendChild(s);\n",
       "      });\n",
       "    }\n",
       "\n",
       "    function showError(err) {\n",
       "      outputDiv.innerHTML = `<div class=\"error\" style=\"color:red;\">${err}</div>`;\n",
       "      throw err;\n",
       "    }\n",
       "\n",
       "    function displayChart(vegaEmbed) {\n",
       "      vegaEmbed(outputDiv, spec, embedOpt)\n",
       "        .catch(err => showError(`Javascript Error: ${err.message}<br>This usually means there's a typo in your chart specification. See the javascript console for the full traceback.`));\n",
       "    }\n",
       "\n",
       "    if(typeof define === \"function\" && define.amd) {\n",
       "      requirejs.config({paths});\n",
       "      require([\"vega-embed\"], displayChart, err => showError(`Error loading script: ${err.message}`));\n",
       "    } else if (typeof vegaEmbed === \"function\") {\n",
       "      displayChart(vegaEmbed);\n",
       "    } else {\n",
       "      loadScript(\"vega\")\n",
       "        .then(() => loadScript(\"vega-lite\"))\n",
       "        .then(() => loadScript(\"vega-embed\"))\n",
       "        .catch(showError)\n",
       "        .then(() => displayChart(vegaEmbed));\n",
       "    }\n",
       "  })({\"config\": {\"view\": {\"continuousWidth\": 400, \"continuousHeight\": 300}}, \"data\": {\"name\": \"data-ee6067ec81e7559ab531d4a402490f4b\"}, \"mark\": {\"type\": \"line\", \"point\": true}, \"encoding\": {\"color\": {\"type\": \"nominal\", \"field\": \"dataset\"}, \"x\": {\"type\": \"quantitative\", \"field\": \"n_neighbors\"}, \"y\": {\"type\": \"quantitative\", \"field\": \"recall_score\"}}, \"$schema\": \"https://vega.github.io/schema/vega-lite/v4.8.1.json\", \"datasets\": {\"data-ee6067ec81e7559ab531d4a402490f4b\": [{\"n_neighbors\": 3, \"recall_score\": 0.6907719609582964, \"dataset\": \"train\", \"overfitting\": 0.1401502913312982}, {\"n_neighbors\": 3, \"recall_score\": 0.5506216696269982, \"dataset\": \"validation\", \"overfitting\": 0.1401502913312982}, {\"n_neighbors\": 5, \"recall_score\": 0.595829636202307, \"dataset\": \"train\", \"overfitting\": 0.07540334845807961}, {\"n_neighbors\": 5, \"recall_score\": 0.5204262877442274, \"dataset\": \"validation\", \"overfitting\": 0.07540334845807961}, {\"n_neighbors\": 15, \"recall_score\": 0.4334516415261757, \"dataset\": \"train\", \"overfitting\": 0.053345069590118865}, {\"n_neighbors\": 15, \"recall_score\": 0.38010657193605685, \"dataset\": \"validation\", \"overfitting\": 0.053345069590118865}, {\"n_neighbors\": 25, \"recall_score\": 0.3611357586512866, \"dataset\": \"train\", \"overfitting\": 0.023657961137965144}, {\"n_neighbors\": 25, \"recall_score\": 0.33747779751332146, \"dataset\": \"validation\", \"overfitting\": 0.023657961137965144}, {\"n_neighbors\": 35, \"recall_score\": 0.3101153504880213, \"dataset\": \"train\", \"overfitting\": 0.015266327397435164}, {\"n_neighbors\": 35, \"recall_score\": 0.29484902309058614, \"dataset\": \"validation\", \"overfitting\": 0.015266327397435164}]}}, {\"mode\": \"vega-lite\"});\n",
       "</script>"
      ],
      "text/plain": [
       "alt.Chart(...)"
      ]
     },
     "execution_count": 13,
     "metadata": {},
     "output_type": "execute_result"
    }
   ],
   "source": [
    "compare_train_test(knn_euc)"
   ]
  },
  {
   "cell_type": "markdown",
   "id": "e37e6f8d",
   "metadata": {},
   "source": [
    "## 4. Train KNN model using manhattan distance and different neighbors"
   ]
  },
  {
   "cell_type": "markdown",
   "id": "250fdd92",
   "metadata": {},
   "source": [
    "**[4.1]** Train KNN models using Manhattan distance and n_neighbors = [3, 5, 15, 25, 35] and save the results"
   ]
  },
  {
   "cell_type": "code",
   "execution_count": 14,
   "id": "73f10225",
   "metadata": {},
   "outputs": [
    {
     "name": "stderr",
     "output_type": "stream",
     "text": [
      "/Users/nguyenthao/opt/anaconda3/lib/python3.9/site-packages/sklearn/neighbors/_classification.py:228: FutureWarning: Unlike other reduction functions (e.g. `skew`, `kurtosis`), the default behavior of `mode` typically preserves the axis it acts along. In SciPy 1.11.0, this behavior will change: the default value of `keepdims` will become False, the `axis` over which the statistic is taken will be eliminated, and the value None will no longer be accepted. Set `keepdims` to True or False to avoid this warning.\n",
      "  mode, _ = stats.mode(_y[neigh_ind, k], axis=1)\n",
      "/Users/nguyenthao/opt/anaconda3/lib/python3.9/site-packages/sklearn/neighbors/_classification.py:228: FutureWarning: Unlike other reduction functions (e.g. `skew`, `kurtosis`), the default behavior of `mode` typically preserves the axis it acts along. In SciPy 1.11.0, this behavior will change: the default value of `keepdims` will become False, the `axis` over which the statistic is taken will be eliminated, and the value None will no longer be accepted. Set `keepdims` to True or False to avoid this warning.\n",
      "  mode, _ = stats.mode(_y[neigh_ind, k], axis=1)\n",
      "/Users/nguyenthao/opt/anaconda3/lib/python3.9/site-packages/sklearn/neighbors/_classification.py:228: FutureWarning: Unlike other reduction functions (e.g. `skew`, `kurtosis`), the default behavior of `mode` typically preserves the axis it acts along. In SciPy 1.11.0, this behavior will change: the default value of `keepdims` will become False, the `axis` over which the statistic is taken will be eliminated, and the value None will no longer be accepted. Set `keepdims` to True or False to avoid this warning.\n",
      "  mode, _ = stats.mode(_y[neigh_ind, k], axis=1)\n",
      "/Users/nguyenthao/opt/anaconda3/lib/python3.9/site-packages/sklearn/neighbors/_classification.py:228: FutureWarning: Unlike other reduction functions (e.g. `skew`, `kurtosis`), the default behavior of `mode` typically preserves the axis it acts along. In SciPy 1.11.0, this behavior will change: the default value of `keepdims` will become False, the `axis` over which the statistic is taken will be eliminated, and the value None will no longer be accepted. Set `keepdims` to True or False to avoid this warning.\n",
      "  mode, _ = stats.mode(_y[neigh_ind, k], axis=1)\n",
      "/Users/nguyenthao/opt/anaconda3/lib/python3.9/site-packages/sklearn/neighbors/_classification.py:228: FutureWarning: Unlike other reduction functions (e.g. `skew`, `kurtosis`), the default behavior of `mode` typically preserves the axis it acts along. In SciPy 1.11.0, this behavior will change: the default value of `keepdims` will become False, the `axis` over which the statistic is taken will be eliminated, and the value None will no longer be accepted. Set `keepdims` to True or False to avoid this warning.\n",
      "  mode, _ = stats.mode(_y[neigh_ind, k], axis=1)\n",
      "/Users/nguyenthao/opt/anaconda3/lib/python3.9/site-packages/sklearn/neighbors/_classification.py:228: FutureWarning: Unlike other reduction functions (e.g. `skew`, `kurtosis`), the default behavior of `mode` typically preserves the axis it acts along. In SciPy 1.11.0, this behavior will change: the default value of `keepdims` will become False, the `axis` over which the statistic is taken will be eliminated, and the value None will no longer be accepted. Set `keepdims` to True or False to avoid this warning.\n",
      "  mode, _ = stats.mode(_y[neigh_ind, k], axis=1)\n",
      "/Users/nguyenthao/opt/anaconda3/lib/python3.9/site-packages/sklearn/neighbors/_classification.py:228: FutureWarning: Unlike other reduction functions (e.g. `skew`, `kurtosis`), the default behavior of `mode` typically preserves the axis it acts along. In SciPy 1.11.0, this behavior will change: the default value of `keepdims` will become False, the `axis` over which the statistic is taken will be eliminated, and the value None will no longer be accepted. Set `keepdims` to True or False to avoid this warning.\n",
      "  mode, _ = stats.mode(_y[neigh_ind, k], axis=1)\n",
      "/Users/nguyenthao/opt/anaconda3/lib/python3.9/site-packages/sklearn/neighbors/_classification.py:228: FutureWarning: Unlike other reduction functions (e.g. `skew`, `kurtosis`), the default behavior of `mode` typically preserves the axis it acts along. In SciPy 1.11.0, this behavior will change: the default value of `keepdims` will become False, the `axis` over which the statistic is taken will be eliminated, and the value None will no longer be accepted. Set `keepdims` to True or False to avoid this warning.\n",
      "  mode, _ = stats.mode(_y[neigh_ind, k], axis=1)\n",
      "/Users/nguyenthao/opt/anaconda3/lib/python3.9/site-packages/sklearn/neighbors/_classification.py:228: FutureWarning: Unlike other reduction functions (e.g. `skew`, `kurtosis`), the default behavior of `mode` typically preserves the axis it acts along. In SciPy 1.11.0, this behavior will change: the default value of `keepdims` will become False, the `axis` over which the statistic is taken will be eliminated, and the value None will no longer be accepted. Set `keepdims` to True or False to avoid this warning.\n",
      "  mode, _ = stats.mode(_y[neigh_ind, k], axis=1)\n",
      "/Users/nguyenthao/opt/anaconda3/lib/python3.9/site-packages/sklearn/neighbors/_classification.py:228: FutureWarning: Unlike other reduction functions (e.g. `skew`, `kurtosis`), the default behavior of `mode` typically preserves the axis it acts along. In SciPy 1.11.0, this behavior will change: the default value of `keepdims` will become False, the `axis` over which the statistic is taken will be eliminated, and the value None will no longer be accepted. Set `keepdims` to True or False to avoid this warning.\n",
      "  mode, _ = stats.mode(_y[neigh_ind, k], axis=1)\n"
     ]
    }
   ],
   "source": [
    "knn_man = distance_n_neighbors_tuning(1, [3, 5, 15, 25, 35])"
   ]
  },
  {
   "cell_type": "markdown",
   "id": "92fadfb3",
   "metadata": {},
   "source": [
    "**[4.2]** Plot results to compare"
   ]
  },
  {
   "cell_type": "code",
   "execution_count": 15,
   "id": "d4d87fd0",
   "metadata": {},
   "outputs": [
    {
     "data": {
      "text/html": [
       "\n",
       "<div id=\"altair-viz-6c04000260f04b2a80754a1ea08d1127\"></div>\n",
       "<script type=\"text/javascript\">\n",
       "  (function(spec, embedOpt){\n",
       "    let outputDiv = document.currentScript.previousElementSibling;\n",
       "    if (outputDiv.id !== \"altair-viz-6c04000260f04b2a80754a1ea08d1127\") {\n",
       "      outputDiv = document.getElementById(\"altair-viz-6c04000260f04b2a80754a1ea08d1127\");\n",
       "    }\n",
       "    const paths = {\n",
       "      \"vega\": \"https://cdn.jsdelivr.net/npm//vega@5?noext\",\n",
       "      \"vega-lib\": \"https://cdn.jsdelivr.net/npm//vega-lib?noext\",\n",
       "      \"vega-lite\": \"https://cdn.jsdelivr.net/npm//vega-lite@4.8.1?noext\",\n",
       "      \"vega-embed\": \"https://cdn.jsdelivr.net/npm//vega-embed@6?noext\",\n",
       "    };\n",
       "\n",
       "    function loadScript(lib) {\n",
       "      return new Promise(function(resolve, reject) {\n",
       "        var s = document.createElement('script');\n",
       "        s.src = paths[lib];\n",
       "        s.async = true;\n",
       "        s.onload = () => resolve(paths[lib]);\n",
       "        s.onerror = () => reject(`Error loading script: ${paths[lib]}`);\n",
       "        document.getElementsByTagName(\"head\")[0].appendChild(s);\n",
       "      });\n",
       "    }\n",
       "\n",
       "    function showError(err) {\n",
       "      outputDiv.innerHTML = `<div class=\"error\" style=\"color:red;\">${err}</div>`;\n",
       "      throw err;\n",
       "    }\n",
       "\n",
       "    function displayChart(vegaEmbed) {\n",
       "      vegaEmbed(outputDiv, spec, embedOpt)\n",
       "        .catch(err => showError(`Javascript Error: ${err.message}<br>This usually means there's a typo in your chart specification. See the javascript console for the full traceback.`));\n",
       "    }\n",
       "\n",
       "    if(typeof define === \"function\" && define.amd) {\n",
       "      requirejs.config({paths});\n",
       "      require([\"vega-embed\"], displayChart, err => showError(`Error loading script: ${err.message}`));\n",
       "    } else if (typeof vegaEmbed === \"function\") {\n",
       "      displayChart(vegaEmbed);\n",
       "    } else {\n",
       "      loadScript(\"vega\")\n",
       "        .then(() => loadScript(\"vega-lite\"))\n",
       "        .then(() => loadScript(\"vega-embed\"))\n",
       "        .catch(showError)\n",
       "        .then(() => displayChart(vegaEmbed));\n",
       "    }\n",
       "  })({\"config\": {\"view\": {\"continuousWidth\": 400, \"continuousHeight\": 300}}, \"data\": {\"name\": \"data-7c67722870dd53a9e67b1c065331198d\"}, \"mark\": {\"type\": \"line\", \"point\": true}, \"encoding\": {\"color\": {\"type\": \"nominal\", \"field\": \"dataset\"}, \"x\": {\"type\": \"quantitative\", \"field\": \"n_neighbors\"}, \"y\": {\"type\": \"quantitative\", \"field\": \"recall_score\"}}, \"$schema\": \"https://vega.github.io/schema/vega-lite/v4.8.1.json\", \"datasets\": {\"data-7c67722870dd53a9e67b1c065331198d\": [{\"n_neighbors\": 3, \"recall_score\": 0.6632653061224489, \"dataset\": \"train\", \"overfitting\": 0.1872439917352376}, {\"n_neighbors\": 3, \"recall_score\": 0.47602131438721135, \"dataset\": \"validation\", \"overfitting\": 0.1872439917352376}, {\"n_neighbors\": 5, \"recall_score\": 0.5483584738243124, \"dataset\": \"train\", \"overfitting\": 0.09898014345131056}, {\"n_neighbors\": 5, \"recall_score\": 0.4493783303730018, \"dataset\": \"validation\", \"overfitting\": 0.09898014345131056}, {\"n_neighbors\": 15, \"recall_score\": 0.38509316770186336, \"dataset\": \"train\", \"overfitting\": 0.07958695100559338}, {\"n_neighbors\": 15, \"recall_score\": 0.30550621669627, \"dataset\": \"validation\", \"overfitting\": 0.07958695100559338}, {\"n_neighbors\": 25, \"recall_score\": 0.30745341614906835, \"dataset\": \"train\", \"overfitting\": 0.0339187802698499}, {\"n_neighbors\": 25, \"recall_score\": 0.27353463587921845, \"dataset\": \"validation\", \"overfitting\": 0.0339187802698499}, {\"n_neighbors\": 35, \"recall_score\": 0.25820763087843834, \"dataset\": \"train\", \"overfitting\": 0.029077968356235856}, {\"n_neighbors\": 35, \"recall_score\": 0.2291296625222025, \"dataset\": \"validation\", \"overfitting\": 0.029077968356235856}]}}, {\"mode\": \"vega-lite\"});\n",
       "</script>"
      ],
      "text/plain": [
       "alt.Chart(...)"
      ]
     },
     "execution_count": 15,
     "metadata": {},
     "output_type": "execute_result"
    }
   ],
   "source": [
    "compare_train_test(knn_man)"
   ]
  },
  {
   "cell_type": "markdown",
   "id": "8a45412c",
   "metadata": {},
   "source": [
    "## 5. Assess the best KNN model on testing set"
   ]
  },
  {
   "cell_type": "markdown",
   "id": "dd6f85f2",
   "metadata": {},
   "source": [
    "**[5.1]** Fitt the best KNN model"
   ]
  },
  {
   "cell_type": "code",
   "execution_count": 16,
   "id": "9e1c597f",
   "metadata": {},
   "outputs": [],
   "source": [
    "knn_best = KNeighborsClassifier(p = 2, n_neighbors = 5).fit(X_train, y_train)"
   ]
  },
  {
   "cell_type": "markdown",
   "id": "291070ca",
   "metadata": {},
   "source": [
    "**[5.2]** Use the best KNN to predict X_test and save to y_test_preds"
   ]
  },
  {
   "cell_type": "code",
   "execution_count": 17,
   "id": "ab5eabb8",
   "metadata": {},
   "outputs": [
    {
     "name": "stderr",
     "output_type": "stream",
     "text": [
      "/Users/nguyenthao/opt/anaconda3/lib/python3.9/site-packages/sklearn/neighbors/_classification.py:228: FutureWarning: Unlike other reduction functions (e.g. `skew`, `kurtosis`), the default behavior of `mode` typically preserves the axis it acts along. In SciPy 1.11.0, this behavior will change: the default value of `keepdims` will become False, the `axis` over which the statistic is taken will be eliminated, and the value None will no longer be accepted. Set `keepdims` to True or False to avoid this warning.\n",
      "  mode, _ = stats.mode(_y[neigh_ind, k], axis=1)\n"
     ]
    }
   ],
   "source": [
    "y_test_preds = knn_best.predict(X_test)"
   ]
  },
  {
   "cell_type": "markdown",
   "id": "a4e837e1",
   "metadata": {},
   "source": [
    "**[5.3]** Print f2 score, precision, and recall on testing set"
   ]
  },
  {
   "cell_type": "code",
   "execution_count": 18,
   "id": "a580bd08",
   "metadata": {},
   "outputs": [
    {
     "name": "stdout",
     "output_type": "stream",
     "text": [
      "Precision:  0.8986666666666666\n",
      "Recall:  0.4786931818181818\n",
      "F2:  0.5280476339705421\n"
     ]
    }
   ],
   "source": [
    "precision = precision_score(y_test, y_test_preds)\n",
    "print('Precision: ', precision)\n",
    "recall= recall_score(y_test, y_test_preds)\n",
    "print('Recall: ', recall)\n",
    "f2 = fbeta_score(y_test, y_test_preds, beta = 2)\n",
    "print('F2: ', f2)"
   ]
  },
  {
   "cell_type": "markdown",
   "id": "227eb2bd",
   "metadata": {},
   "source": [
    "**[5.4]** Confusion matrix on testing set"
   ]
  },
  {
   "cell_type": "code",
   "execution_count": 19,
   "id": "39632012",
   "metadata": {},
   "outputs": [
    {
     "data": {
      "text/plain": [
       "<sklearn.metrics._plot.confusion_matrix.ConfusionMatrixDisplay at 0x7fc4b3b68c70>"
      ]
     },
     "execution_count": 19,
     "metadata": {},
     "output_type": "execute_result"
    },
    {
     "data": {
      "image/png": "[encoded data removed]",
      "text/plain": [
       "<Figure size 640x480 with 2 Axes>"
      ]
     },
     "metadata": {},
     "output_type": "display_data"
    }
   ],
   "source": [
    "ConfusionMatrixDisplay.from_predictions(y_test, y_test_preds, normalize = 'true')"
   ]
  }
 ],
 "metadata": {
  "kernelspec": {
   "display_name": "Python 3 (ipykernel)",
   "language": "python",
   "name": "python3"
  },
  "language_info": {
   "codemirror_mode": {
    "name": "ipython",
    "version": 3
   },
   "file_extension": ".py",
   "mimetype": "text/x-python",
   "name": "python",
   "nbconvert_exporter": "python",
   "pygments_lexer": "ipython3",
   "version": "3.9.13"
  }
 },
 "nbformat": 4,
 "nbformat_minor": 5
}
