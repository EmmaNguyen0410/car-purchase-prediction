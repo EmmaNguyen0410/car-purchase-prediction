{
 "cells": [
  {
   "cell_type": "markdown",
   "id": "e70c4434",
   "metadata": {},
   "source": [
    "# **Experiment 4: Random Forest**\n",
    "\n",
    "__Steps:__\n",
    "\n",
    "1. Load datasets and create functions\n",
    "2. Data splitting\n",
    "3. Cross-validation with default hyperparameters\n",
    "4. Reduce Overfitting with n_estimators\n",
    "5. Reduce Overfitting with max_depth\n",
    "6. Reduce Overfitting with min_samples_leaf\n",
    "7. Reduce Overfitting with max_features\n",
    "8. Auto tuning using Random Search\n",
    "9. Assess the best RandomForest Model on testing set\n",
    "10.  Features Importance\n"
   ]
  },
  {
   "cell_type": "markdown",
   "id": "6c5ebfd1",
   "metadata": {},
   "source": [
    "## **1. Load datasets and create functions** "
   ]
  },
  {
   "cell_type": "markdown",
   "id": "d36e1f21",
   "metadata": {},
   "source": [
    "**[1.1]** Import packages"
   ]
  },
  {
   "cell_type": "code",
   "execution_count": 1,
   "id": "93114351",
   "metadata": {},
   "outputs": [],
   "source": [
    "import pandas as pd\n",
    "import math \n",
    "import numpy as np\n",
    "from itertools import repeat\n",
    "\n",
    "# train test split\n",
    "from sklearn.model_selection import train_test_split\n",
    "# performance metrics\n",
    "from sklearn.metrics import recall_score, precision_score, fbeta_score\n",
    "from sklearn.metrics import confusion_matrix, ConfusionMatrixDisplay\n",
    "\n",
    "# visualization \n",
    "import matplotlib.pyplot as plt\n",
    "import altair as alt\n",
    "alt.data_transformers.disable_max_rows()\n",
    "\n",
    "# cross validate \n",
    "from sklearn.model_selection import cross_validate\n",
    "from sklearn.model_selection import RandomizedSearchCV\n",
    "from sklearn.model_selection import StratifiedKFold\n",
    "\n",
    "from scipy.stats import randint\n",
    "\n",
    "# classfier\n",
    "from sklearn.ensemble import RandomForestClassifier"
   ]
  },
  {
   "cell_type": "markdown",
   "id": "dbfaf6a7",
   "metadata": {},
   "source": [
    "**[1.2]** Load the training dataset into dataframe called df_data"
   ]
  },
  {
   "cell_type": "code",
   "execution_count": 2,
   "id": "ae08ff84",
   "metadata": {},
   "outputs": [],
   "source": [
    "df_data = pd.read_csv('./repurchase_data-prepared.csv')"
   ]
  },
  {
   "cell_type": "markdown",
   "id": "5fbfb712",
   "metadata": {},
   "source": [
    "**[1.3]** Load the training dataset into dataframe called df_test"
   ]
  },
  {
   "cell_type": "code",
   "execution_count": 3,
   "id": "06deef36",
   "metadata": {},
   "outputs": [],
   "source": [
    "df_test = pd.read_csv('./repurchase_test-prepared.csv')"
   ]
  },
  {
   "cell_type": "markdown",
   "id": "7a446583",
   "metadata": {},
   "source": [
    "**[1.4]** Create a function to summarize cross-validation results of tested hyperparameter values"
   ]
  },
  {
   "cell_type": "code",
   "execution_count": 4,
   "id": "87663ac6",
   "metadata": {},
   "outputs": [],
   "source": [
    "def summarize_cv_hyperparameter(cv_scores, hyperparam_name, hyperparam_values):\n",
    "    \"\"\"\n",
    "    Parameters:\n",
    "        cv_scores (nd array): average cross-validation scores of tested hyperparameter values. \n",
    "        hyperparam_name: name of the hyperparameter (e.g. n_estimators)\n",
    "        hyperparam_value (1d array): different values of the hyperparameter (e.g. [10, 50, 100])\n",
    "    Return:\n",
    "        A Dataframe that contains 4 columns:\n",
    "        - hyperparam_name: the hyperparameter value\n",
    "        - recall_score: average cross-validation recall of a given hyperparameter value on a given set.\n",
    "        - dataset: the type of dataset on which recall_score is calculated. Either train or test.\n",
    "        - overfitting: the difference between train_score and test_score \n",
    "    \"\"\"\n",
    "    recall_scores = []\n",
    "    n_hyperparam_values = len(hyperparam_values)\n",
    "    dataset = ['train', 'test'] * n_hyperparam_values\n",
    "    overfitting = []\n",
    "    \n",
    "    # loop through average cross-validation scores of each hyperparameter value\n",
    "    for item in cv_scores:\n",
    "        recall_scores.append(item['train_score'])\n",
    "        recall_scores.append(item['test_score'])\n",
    "        overfitting.extend(repeat(item['train_score'] - item['test_score'],2))\n",
    "    return pd.DataFrame({hyperparam_name: sorted(hyperparam_values * 2), 'recall_score': recall_scores, 'dataset': dataset, 'overfitting': overfitting})"
   ]
  },
  {
   "cell_type": "markdown",
   "id": "a0d22bac",
   "metadata": {},
   "source": [
    "**[1.5]** Let's call summarize_cv_hyperparameter() to see its sample output"
   ]
  },
  {
   "cell_type": "code",
   "execution_count": 5,
   "id": "bc05de8c",
   "metadata": {},
   "outputs": [
    {
     "data": {
      "text/html": [
       "<div>\n",
       "<style scoped>\n",
       "    .dataframe tbody tr th:only-of-type {\n",
       "        vertical-align: middle;\n",
       "    }\n",
       "\n",
       "    .dataframe tbody tr th {\n",
       "        vertical-align: top;\n",
       "    }\n",
       "\n",
       "    .dataframe thead th {\n",
       "        text-align: right;\n",
       "    }\n",
       "</style>\n",
       "<table border=\"1\" class=\"dataframe\">\n",
       "  <thead>\n",
       "    <tr style=\"text-align: right;\">\n",
       "      <th></th>\n",
       "      <th>n_estimators</th>\n",
       "      <th>recall_score</th>\n",
       "      <th>dataset</th>\n",
       "      <th>overfitting</th>\n",
       "    </tr>\n",
       "  </thead>\n",
       "  <tbody>\n",
       "    <tr>\n",
       "      <th>0</th>\n",
       "      <td>25</td>\n",
       "      <td>0.885829</td>\n",
       "      <td>train</td>\n",
       "      <td>0.079881</td>\n",
       "    </tr>\n",
       "    <tr>\n",
       "      <th>1</th>\n",
       "      <td>25</td>\n",
       "      <td>0.805948</td>\n",
       "      <td>test</td>\n",
       "      <td>0.079881</td>\n",
       "    </tr>\n",
       "    <tr>\n",
       "      <th>2</th>\n",
       "      <td>50</td>\n",
       "      <td>0.897959</td>\n",
       "      <td>train</td>\n",
       "      <td>0.071784</td>\n",
       "    </tr>\n",
       "    <tr>\n",
       "      <th>3</th>\n",
       "      <td>50</td>\n",
       "      <td>0.826175</td>\n",
       "      <td>test</td>\n",
       "      <td>0.071784</td>\n",
       "    </tr>\n",
       "    <tr>\n",
       "      <th>4</th>\n",
       "      <td>100</td>\n",
       "      <td>0.900468</td>\n",
       "      <td>train</td>\n",
       "      <td>0.051592</td>\n",
       "    </tr>\n",
       "    <tr>\n",
       "      <th>5</th>\n",
       "      <td>100</td>\n",
       "      <td>0.848876</td>\n",
       "      <td>test</td>\n",
       "      <td>0.051592</td>\n",
       "    </tr>\n",
       "    <tr>\n",
       "      <th>6</th>\n",
       "      <td>200</td>\n",
       "      <td>0.999468</td>\n",
       "      <td>train</td>\n",
       "      <td>0.095322</td>\n",
       "    </tr>\n",
       "    <tr>\n",
       "      <th>7</th>\n",
       "      <td>200</td>\n",
       "      <td>0.904145</td>\n",
       "      <td>test</td>\n",
       "      <td>0.095322</td>\n",
       "    </tr>\n",
       "  </tbody>\n",
       "</table>\n",
       "</div>"
      ],
      "text/plain": [
       "   n_estimators  recall_score dataset  overfitting\n",
       "0            25      0.885829   train     0.079881\n",
       "1            25      0.805948    test     0.079881\n",
       "2            50      0.897959   train     0.071784\n",
       "3            50      0.826175    test     0.071784\n",
       "4           100      0.900468   train     0.051592\n",
       "5           100      0.848876    test     0.051592\n",
       "6           200      0.999468   train     0.095322\n",
       "7           200      0.904145    test     0.095322"
      ]
     },
     "execution_count": 5,
     "metadata": {},
     "output_type": "execute_result"
    }
   ],
   "source": [
    "cv_scores = [{'fit_time': 1.5408970355987548,\n",
    "  'score_time': 0.08309478759765625,\n",
    "  'test_score': 0.8059482508849502,\n",
    "  'train_score': 0.885828966681908},\n",
    " {'fit_time': 2.798608589172363,\n",
    "  'score_time': 0.14132475852966309,\n",
    "  'test_score': 0.8261752012395601,\n",
    "  'train_score': 0.8979588292214935},\n",
    " {'fit_time': 5.526672983169556,\n",
    "  'score_time': 0.2539525985717773,\n",
    "  'test_score': 0.848875703866068,\n",
    "  'train_score': 0.9004675343651036},\n",
    " {'fit_time': 11.310441589355468,\n",
    "  'score_time': 0.9044121074676513,\n",
    "  'test_score': 0.9041454089666554,\n",
    "  'train_score': 0.9994675343651036}]\n",
    "sample_summary = summarize_cv_hyperparameter(cv_scores, 'n_estimators', [25, 50, 100, 200])\n",
    "sample_summary"
   ]
  },
  {
   "cell_type": "markdown",
   "id": "9c55438f",
   "metadata": {},
   "source": [
    "**[1.6]** Create a function to plot train scores vs test scores of different hyperparameter values to see bias-variance trade-off"
   ]
  },
  {
   "cell_type": "code",
   "execution_count": 6,
   "id": "1fd4f826",
   "metadata": {},
   "outputs": [],
   "source": [
    "def compare_train_test(summary, hyperparam_name):\n",
    "    return alt.Chart(summary).mark_line(point=True).encode(\n",
    "        x=hyperparam_name,\n",
    "        y='recall_score',\n",
    "        color='dataset',\n",
    "    )"
   ]
  },
  {
   "cell_type": "markdown",
   "id": "5cd06609",
   "metadata": {},
   "source": [
    "**[1.7]** Let's call compare_train_test() to see its sample output"
   ]
  },
  {
   "cell_type": "code",
   "execution_count": 7,
   "id": "f0124cbd",
   "metadata": {},
   "outputs": [
    {
     "data": {
      "text/html": [
       "\n",
       "<div id=\"altair-viz-3454be14ce014de2ac44be14495c80de\"></div>\n",
       "<script type=\"text/javascript\">\n",
       "  (function(spec, embedOpt){\n",
       "    let outputDiv = document.currentScript.previousElementSibling;\n",
       "    if (outputDiv.id !== \"altair-viz-3454be14ce014de2ac44be14495c80de\") {\n",
       "      outputDiv = document.getElementById(\"altair-viz-3454be14ce014de2ac44be14495c80de\");\n",
       "    }\n",
       "    const paths = {\n",
       "      \"vega\": \"https://cdn.jsdelivr.net/npm//vega@5?noext\",\n",
       "      \"vega-lib\": \"https://cdn.jsdelivr.net/npm//vega-lib?noext\",\n",
       "      \"vega-lite\": \"https://cdn.jsdelivr.net/npm//vega-lite@4.8.1?noext\",\n",
       "      \"vega-embed\": \"https://cdn.jsdelivr.net/npm//vega-embed@6?noext\",\n",
       "    };\n",
       "\n",
       "    function loadScript(lib) {\n",
       "      return new Promise(function(resolve, reject) {\n",
       "        var s = document.createElement('script');\n",
       "        s.src = paths[lib];\n",
       "        s.async = true;\n",
       "        s.onload = () => resolve(paths[lib]);\n",
       "        s.onerror = () => reject(`Error loading script: ${paths[lib]}`);\n",
       "        document.getElementsByTagName(\"head\")[0].appendChild(s);\n",
       "      });\n",
       "    }\n",
       "\n",
       "    function showError(err) {\n",
       "      outputDiv.innerHTML = `<div class=\"error\" style=\"color:red;\">${err}</div>`;\n",
       "      throw err;\n",
       "    }\n",
       "\n",
       "    function displayChart(vegaEmbed) {\n",
       "      vegaEmbed(outputDiv, spec, embedOpt)\n",
       "        .catch(err => showError(`Javascript Error: ${err.message}<br>This usually means there's a typo in your chart specification. See the javascript console for the full traceback.`));\n",
       "    }\n",
       "\n",
       "    if(typeof define === \"function\" && define.amd) {\n",
       "      requirejs.config({paths});\n",
       "      require([\"vega-embed\"], displayChart, err => showError(`Error loading script: ${err.message}`));\n",
       "    } else if (typeof vegaEmbed === \"function\") {\n",
       "      displayChart(vegaEmbed);\n",
       "    } else {\n",
       "      loadScript(\"vega\")\n",
       "        .then(() => loadScript(\"vega-lite\"))\n",
       "        .then(() => loadScript(\"vega-embed\"))\n",
       "        .catch(showError)\n",
       "        .then(() => displayChart(vegaEmbed));\n",
       "    }\n",
       "  })({\"config\": {\"view\": {\"continuousWidth\": 400, \"continuousHeight\": 300}}, \"data\": {\"name\": \"data-ba285237d732157658545c5db43b10eb\"}, \"mark\": {\"type\": \"line\", \"point\": true}, \"encoding\": {\"color\": {\"type\": \"nominal\", \"field\": \"dataset\"}, \"x\": {\"type\": \"quantitative\", \"field\": \"n_estimators\"}, \"y\": {\"type\": \"quantitative\", \"field\": \"recall_score\"}}, \"$schema\": \"https://vega.github.io/schema/vega-lite/v4.8.1.json\", \"datasets\": {\"data-ba285237d732157658545c5db43b10eb\": [{\"n_estimators\": 25, \"recall_score\": 0.885828966681908, \"dataset\": \"train\", \"overfitting\": 0.07988071579695788}, {\"n_estimators\": 25, \"recall_score\": 0.8059482508849501, \"dataset\": \"test\", \"overfitting\": 0.07988071579695788}, {\"n_estimators\": 50, \"recall_score\": 0.8979588292214935, \"dataset\": \"train\", \"overfitting\": 0.07178362798193338}, {\"n_estimators\": 50, \"recall_score\": 0.8261752012395601, \"dataset\": \"test\", \"overfitting\": 0.07178362798193338}, {\"n_estimators\": 100, \"recall_score\": 0.9004675343651036, \"dataset\": \"train\", \"overfitting\": 0.051591830499035596}, {\"n_estimators\": 100, \"recall_score\": 0.848875703866068, \"dataset\": \"test\", \"overfitting\": 0.051591830499035596}, {\"n_estimators\": 200, \"recall_score\": 0.9994675343651036, \"dataset\": \"train\", \"overfitting\": 0.0953221253984482}, {\"n_estimators\": 200, \"recall_score\": 0.9041454089666554, \"dataset\": \"test\", \"overfitting\": 0.0953221253984482}]}}, {\"mode\": \"vega-lite\"});\n",
       "</script>"
      ],
      "text/plain": [
       "alt.Chart(...)"
      ]
     },
     "execution_count": 7,
     "metadata": {},
     "output_type": "execute_result"
    }
   ],
   "source": [
    "compare_train_test(sample_summary, 'n_estimators')"
   ]
  },
  {
   "cell_type": "markdown",
   "id": "98a28539",
   "metadata": {},
   "source": [
    "## 2. Data Splitting"
   ]
  },
  {
   "cell_type": "markdown",
   "id": "028cd775",
   "metadata": {},
   "source": [
    "**[2.1]** Extract target values and independent values from df_data"
   ]
  },
  {
   "cell_type": "code",
   "execution_count": 8,
   "id": "c1af9332",
   "metadata": {},
   "outputs": [],
   "source": [
    "y_data = df_data.pop('Target')\n",
    "X_data = df_data"
   ]
  },
  {
   "cell_type": "markdown",
   "id": "dbd963e0",
   "metadata": {},
   "source": [
    "**[2.2]** Extract target values and independent values from df_test"
   ]
  },
  {
   "cell_type": "code",
   "execution_count": 9,
   "id": "f5d0f85a",
   "metadata": {},
   "outputs": [],
   "source": [
    "y_test = df_test.pop('Target')\n",
    "X_test = df_test"
   ]
  },
  {
   "cell_type": "markdown",
   "id": "7ef36701",
   "metadata": {},
   "source": [
    "**[2.3]** Instantiate a StratifiedKFold with 3 splits"
   ]
  },
  {
   "cell_type": "code",
   "execution_count": 10,
   "id": "7b1057a8",
   "metadata": {},
   "outputs": [],
   "source": [
    "skf = StratifiedKFold(n_splits=3, shuffle = True, random_state = 8)\n",
    "cv = list(skf.split(X_data, y_data))"
   ]
  },
  {
   "cell_type": "markdown",
   "id": "b91cd8d5",
   "metadata": {},
   "source": [
    "## 3. Cross validation with Default Hyperparameters"
   ]
  },
  {
   "cell_type": "markdown",
   "id": "b3374254",
   "metadata": {},
   "source": [
    "**[3.1]** Fit the RandomForest model with default hyperparameters n_estimators = 100, max_depth = None, min_samples_leaf = 2, max_features=sqrt(29), and calculate scores for all cv"
   ]
  },
  {
   "cell_type": "code",
   "execution_count": 11,
   "id": "0690396e",
   "metadata": {},
   "outputs": [],
   "source": [
    "scores_default = cross_validate(RandomForestClassifier(random_state=8), X_data, y_data, cv=cv, scoring='recall', return_train_score=True)"
   ]
  },
  {
   "cell_type": "markdown",
   "id": "93617bda",
   "metadata": {},
   "source": [
    "**[3.2]** Average scores of all cv"
   ]
  },
  {
   "cell_type": "code",
   "execution_count": 12,
   "id": "8eb72ddb",
   "metadata": {},
   "outputs": [
    {
     "data": {
      "text/plain": [
       "{'fit_time': 4.4209675788879395,\n",
       " 'score_time': 0.40494855244954425,\n",
       " 'test_score': 0.7170749023784168,\n",
       " 'train_score': 0.9994675186368477}"
      ]
     },
     "execution_count": 12,
     "metadata": {},
     "output_type": "execute_result"
    }
   ],
   "source": [
    "avg_scores_default = {metric:np.mean(scores) for (metric, scores) in scores_default.items()}\n",
    "avg_scores_default"
   ]
  },
  {
   "cell_type": "markdown",
   "id": "8bdc580b",
   "metadata": {},
   "source": [
    "**[3.3]** Overfitting "
   ]
  },
  {
   "cell_type": "code",
   "execution_count": 13,
   "id": "dbb85afd",
   "metadata": {},
   "outputs": [
    {
     "data": {
      "text/plain": [
       "0.28239261625843093"
      ]
     },
     "execution_count": 13,
     "metadata": {},
     "output_type": "execute_result"
    }
   ],
   "source": [
    "overfitting = avg_scores_default['train_score'] - avg_scores_default['test_score']\n",
    "overfitting"
   ]
  },
  {
   "cell_type": "markdown",
   "id": "5d840c54",
   "metadata": {},
   "source": [
    "## 4. Reduce Overfitting with n_estimators"
   ]
  },
  {
   "cell_type": "markdown",
   "id": "e064b2c6",
   "metadata": {},
   "source": [
    "**[4.1]** Train a RandomForestClassifier model with n_estimators= [25, 50, 100, 200] and print the recall scores for the training and validation sets"
   ]
  },
  {
   "cell_type": "code",
   "execution_count": 14,
   "id": "115c278d",
   "metadata": {
    "scrolled": true
   },
   "outputs": [
    {
     "data": {
      "text/plain": [
       "[{'fit_time': 1.1435788472493489,\n",
       "  'score_time': 0.11324834823608398,\n",
       "  'test_score': 0.7209797657082002,\n",
       "  'train_score': 0.9946751863684771},\n",
       " {'fit_time': 2.218324661254883,\n",
       "  'score_time': 0.20796561241149902,\n",
       "  'test_score': 0.7167199148029818,\n",
       "  'train_score': 0.9985800496982605},\n",
       " {'fit_time': 4.4009363651275635,\n",
       "  'score_time': 0.39840324719746906,\n",
       "  'test_score': 0.7170749023784168,\n",
       "  'train_score': 0.9994675186368477},\n",
       " {'fit_time': 8.710839986801147,\n",
       "  'score_time': 0.7927163441975912,\n",
       "  'test_score': 0.7248846290379837,\n",
       "  'train_score': 0.9992900248491302}]"
      ]
     },
     "execution_count": 14,
     "metadata": {},
     "output_type": "execute_result"
    }
   ],
   "source": [
    "scores_n_estimators = []\n",
    "n_estimators = [25, 50, 100, 200]\n",
    "for v in n_estimators:\n",
    "    rft = RandomForestClassifier(random_state=8, n_estimators=v)\n",
    "    scores_tuned = cross_validate(rft, X_data, y_data, cv=cv, scoring='recall', return_train_score=True)\n",
    "    avg_scores_tuned = {metric:np.mean(scores) for (metric, scores) in scores_tuned.items()}\n",
    "    scores_n_estimators.append(avg_scores_tuned)\n",
    "scores_n_estimators"
   ]
  },
  {
   "cell_type": "markdown",
   "id": "922ee6a6",
   "metadata": {},
   "source": [
    "**[4.2]** Plot cross-validation recall scores across all n_estimators "
   ]
  },
  {
   "cell_type": "code",
   "execution_count": 15,
   "id": "0b96a0b9",
   "metadata": {},
   "outputs": [
    {
     "data": {
      "text/html": [
       "<div>\n",
       "<style scoped>\n",
       "    .dataframe tbody tr th:only-of-type {\n",
       "        vertical-align: middle;\n",
       "    }\n",
       "\n",
       "    .dataframe tbody tr th {\n",
       "        vertical-align: top;\n",
       "    }\n",
       "\n",
       "    .dataframe thead th {\n",
       "        text-align: right;\n",
       "    }\n",
       "</style>\n",
       "<table border=\"1\" class=\"dataframe\">\n",
       "  <thead>\n",
       "    <tr style=\"text-align: right;\">\n",
       "      <th></th>\n",
       "      <th>n_estimators</th>\n",
       "      <th>recall_score</th>\n",
       "      <th>dataset</th>\n",
       "      <th>overfitting</th>\n",
       "    </tr>\n",
       "  </thead>\n",
       "  <tbody>\n",
       "    <tr>\n",
       "      <th>0</th>\n",
       "      <td>25</td>\n",
       "      <td>0.994675</td>\n",
       "      <td>train</td>\n",
       "      <td>0.273695</td>\n",
       "    </tr>\n",
       "    <tr>\n",
       "      <th>1</th>\n",
       "      <td>25</td>\n",
       "      <td>0.720980</td>\n",
       "      <td>test</td>\n",
       "      <td>0.273695</td>\n",
       "    </tr>\n",
       "    <tr>\n",
       "      <th>2</th>\n",
       "      <td>50</td>\n",
       "      <td>0.998580</td>\n",
       "      <td>train</td>\n",
       "      <td>0.281860</td>\n",
       "    </tr>\n",
       "    <tr>\n",
       "      <th>3</th>\n",
       "      <td>50</td>\n",
       "      <td>0.716720</td>\n",
       "      <td>test</td>\n",
       "      <td>0.281860</td>\n",
       "    </tr>\n",
       "    <tr>\n",
       "      <th>4</th>\n",
       "      <td>100</td>\n",
       "      <td>0.999468</td>\n",
       "      <td>train</td>\n",
       "      <td>0.282393</td>\n",
       "    </tr>\n",
       "    <tr>\n",
       "      <th>5</th>\n",
       "      <td>100</td>\n",
       "      <td>0.717075</td>\n",
       "      <td>test</td>\n",
       "      <td>0.282393</td>\n",
       "    </tr>\n",
       "    <tr>\n",
       "      <th>6</th>\n",
       "      <td>200</td>\n",
       "      <td>0.999290</td>\n",
       "      <td>train</td>\n",
       "      <td>0.274405</td>\n",
       "    </tr>\n",
       "    <tr>\n",
       "      <th>7</th>\n",
       "      <td>200</td>\n",
       "      <td>0.724885</td>\n",
       "      <td>test</td>\n",
       "      <td>0.274405</td>\n",
       "    </tr>\n",
       "  </tbody>\n",
       "</table>\n",
       "</div>"
      ],
      "text/plain": [
       "   n_estimators  recall_score dataset  overfitting\n",
       "0            25      0.994675   train     0.273695\n",
       "1            25      0.720980    test     0.273695\n",
       "2            50      0.998580   train     0.281860\n",
       "3            50      0.716720    test     0.281860\n",
       "4           100      0.999468   train     0.282393\n",
       "5           100      0.717075    test     0.282393\n",
       "6           200      0.999290   train     0.274405\n",
       "7           200      0.724885    test     0.274405"
      ]
     },
     "execution_count": 15,
     "metadata": {},
     "output_type": "execute_result"
    }
   ],
   "source": [
    "n_estimators_summary= summarize_cv_hyperparameter(scores_n_estimators, 'n_estimators', n_estimators)\n",
    "n_estimators_summary"
   ]
  },
  {
   "cell_type": "code",
   "execution_count": 16,
   "id": "97f272ac",
   "metadata": {},
   "outputs": [
    {
     "data": {
      "text/html": [
       "\n",
       "<div id=\"altair-viz-f28b6892bb174f698cc8bc05573effb9\"></div>\n",
       "<script type=\"text/javascript\">\n",
       "  (function(spec, embedOpt){\n",
       "    let outputDiv = document.currentScript.previousElementSibling;\n",
       "    if (outputDiv.id !== \"altair-viz-f28b6892bb174f698cc8bc05573effb9\") {\n",
       "      outputDiv = document.getElementById(\"altair-viz-f28b6892bb174f698cc8bc05573effb9\");\n",
       "    }\n",
       "    const paths = {\n",
       "      \"vega\": \"https://cdn.jsdelivr.net/npm//vega@5?noext\",\n",
       "      \"vega-lib\": \"https://cdn.jsdelivr.net/npm//vega-lib?noext\",\n",
       "      \"vega-lite\": \"https://cdn.jsdelivr.net/npm//vega-lite@4.8.1?noext\",\n",
       "      \"vega-embed\": \"https://cdn.jsdelivr.net/npm//vega-embed@6?noext\",\n",
       "    };\n",
       "\n",
       "    function loadScript(lib) {\n",
       "      return new Promise(function(resolve, reject) {\n",
       "        var s = document.createElement('script');\n",
       "        s.src = paths[lib];\n",
       "        s.async = true;\n",
       "        s.onload = () => resolve(paths[lib]);\n",
       "        s.onerror = () => reject(`Error loading script: ${paths[lib]}`);\n",
       "        document.getElementsByTagName(\"head\")[0].appendChild(s);\n",
       "      });\n",
       "    }\n",
       "\n",
       "    function showError(err) {\n",
       "      outputDiv.innerHTML = `<div class=\"error\" style=\"color:red;\">${err}</div>`;\n",
       "      throw err;\n",
       "    }\n",
       "\n",
       "    function displayChart(vegaEmbed) {\n",
       "      vegaEmbed(outputDiv, spec, embedOpt)\n",
       "        .catch(err => showError(`Javascript Error: ${err.message}<br>This usually means there's a typo in your chart specification. See the javascript console for the full traceback.`));\n",
       "    }\n",
       "\n",
       "    if(typeof define === \"function\" && define.amd) {\n",
       "      requirejs.config({paths});\n",
       "      require([\"vega-embed\"], displayChart, err => showError(`Error loading script: ${err.message}`));\n",
       "    } else if (typeof vegaEmbed === \"function\") {\n",
       "      displayChart(vegaEmbed);\n",
       "    } else {\n",
       "      loadScript(\"vega\")\n",
       "        .then(() => loadScript(\"vega-lite\"))\n",
       "        .then(() => loadScript(\"vega-embed\"))\n",
       "        .catch(showError)\n",
       "        .then(() => displayChart(vegaEmbed));\n",
       "    }\n",
       "  })({\"config\": {\"view\": {\"continuousWidth\": 400, \"continuousHeight\": 300}}, \"data\": {\"name\": \"data-641e1cf15afb15a1177b11032d8fc123\"}, \"mark\": {\"type\": \"line\", \"point\": true}, \"encoding\": {\"color\": {\"type\": \"nominal\", \"field\": \"dataset\"}, \"x\": {\"type\": \"quantitative\", \"field\": \"n_estimators\"}, \"y\": {\"type\": \"quantitative\", \"field\": \"recall_score\"}}, \"$schema\": \"https://vega.github.io/schema/vega-lite/v4.8.1.json\", \"datasets\": {\"data-641e1cf15afb15a1177b11032d8fc123\": [{\"n_estimators\": 25, \"recall_score\": 0.9946751863684771, \"dataset\": \"train\", \"overfitting\": 0.27369542066027686}, {\"n_estimators\": 25, \"recall_score\": 0.7209797657082002, \"dataset\": \"test\", \"overfitting\": 0.27369542066027686}, {\"n_estimators\": 50, \"recall_score\": 0.9985800496982605, \"dataset\": \"train\", \"overfitting\": 0.2818601348952787}, {\"n_estimators\": 50, \"recall_score\": 0.7167199148029818, \"dataset\": \"test\", \"overfitting\": 0.2818601348952787}, {\"n_estimators\": 100, \"recall_score\": 0.9994675186368477, \"dataset\": \"train\", \"overfitting\": 0.28239261625843093}, {\"n_estimators\": 100, \"recall_score\": 0.7170749023784168, \"dataset\": \"test\", \"overfitting\": 0.28239261625843093}, {\"n_estimators\": 200, \"recall_score\": 0.9992900248491302, \"dataset\": \"train\", \"overfitting\": 0.27440539581114654}, {\"n_estimators\": 200, \"recall_score\": 0.7248846290379837, \"dataset\": \"test\", \"overfitting\": 0.27440539581114654}]}}, {\"mode\": \"vega-lite\"});\n",
       "</script>"
      ],
      "text/plain": [
       "alt.Chart(...)"
      ]
     },
     "execution_count": 16,
     "metadata": {},
     "output_type": "execute_result"
    }
   ],
   "source": [
    "compare_train_test(n_estimators_summary, 'n_estimators')"
   ]
  },
  {
   "cell_type": "markdown",
   "id": "049592ce",
   "metadata": {},
   "source": [
    "### _Conclusion_:\n",
    "\n",
    "The graph shows that neither an increase or decrease in n_estimators affects the performance and the level of overfitting. Moreover, larger n_estimators is more computationally expensive. Hence, for the next steps, I decided to use n_estimators = 50 instead of the default 100 because recall (test) will increase and overfitting will decrease."
   ]
  },
  {
   "cell_type": "markdown",
   "id": "e5ce0db2",
   "metadata": {},
   "source": [
    "## 5. Reduce Overfitting with max_depth"
   ]
  },
  {
   "cell_type": "markdown",
   "id": "73b2b032",
   "metadata": {},
   "source": [
    "**[5.1]** Train model with n_estimators = 50"
   ]
  },
  {
   "cell_type": "code",
   "execution_count": 17,
   "id": "499d2a95",
   "metadata": {},
   "outputs": [],
   "source": [
    "rf1 = RandomForestClassifier(random_state=8, n_estimators=50).fit(X_data, y_data)"
   ]
  },
  {
   "cell_type": "markdown",
   "id": "6174bbe1",
   "metadata": {},
   "source": [
    "**[5.2]** Print the average \"**max_depth**\" for rf1:"
   ]
  },
  {
   "cell_type": "code",
   "execution_count": 18,
   "id": "5ced3cae",
   "metadata": {},
   "outputs": [
    {
     "data": {
      "text/plain": [
       "27.64"
      ]
     },
     "execution_count": 18,
     "metadata": {},
     "output_type": "execute_result"
    }
   ],
   "source": [
    "np.mean([estimator.tree_.max_depth for estimator in rf1.estimators_])"
   ]
  },
  {
   "cell_type": "markdown",
   "id": "eae0d2a0",
   "metadata": {},
   "source": [
    "**[5.3]** Train a RandomForestClassifier model with n_estimators=50, max_depth = [10, 20, 40, 50] and print the recall scores for the training and validation sets"
   ]
  },
  {
   "cell_type": "code",
   "execution_count": 19,
   "id": "c085b5d0",
   "metadata": {},
   "outputs": [
    {
     "data": {
      "text/plain": [
       "[{'fit_time': 1.943436066309611,\n",
       "  'score_time': 0.15678993860880533,\n",
       "  'test_score': 0.5576854810081647,\n",
       "  'train_score': 0.6334753283635073},\n",
       " {'fit_time': 2.224128007888794,\n",
       "  'score_time': 0.19794329007466635,\n",
       "  'test_score': 0.6982605608803691,\n",
       "  'train_score': 0.8929712460063898},\n",
       " {'fit_time': 2.280174732208252,\n",
       "  'score_time': 0.22270735104878744,\n",
       "  'test_score': 0.7284345047923323,\n",
       "  'train_score': 0.984735534256301},\n",
       " {'fit_time': 2.261290709177653,\n",
       "  'score_time': 0.20761990547180176,\n",
       "  'test_score': 0.7167199148029818,\n",
       "  'train_score': 0.9985800496982605},\n",
       " {'fit_time': 2.211018721262614,\n",
       "  'score_time': 0.20531201362609863,\n",
       "  'test_score': 0.7167199148029818,\n",
       "  'train_score': 0.9985800496982605}]"
      ]
     },
     "execution_count": 19,
     "metadata": {},
     "output_type": "execute_result"
    }
   ],
   "source": [
    "scores_max_depth = []\n",
    "max_depths = [10, 15, 20, 40, 50]\n",
    "for v in max_depths:\n",
    "    rf = RandomForestClassifier(random_state=8, n_estimators=50, max_depth=v)\n",
    "    scores_tuned = cross_validate(rf, X_data, y_data, cv=cv, scoring='recall', return_train_score=True)\n",
    "    avg_scores_tuned = {metric:np.mean(scores) for (metric, scores) in scores_tuned.items()}\n",
    "    scores_max_depth.append(avg_scores_tuned)\n",
    "scores_max_depth"
   ]
  },
  {
   "cell_type": "markdown",
   "id": "1adb592f",
   "metadata": {},
   "source": [
    "**[5.4]** Plot cross-validation recall scores across all max_depth "
   ]
  },
  {
   "cell_type": "code",
   "execution_count": 20,
   "id": "438941b8",
   "metadata": {},
   "outputs": [
    {
     "data": {
      "text/html": [
       "<div>\n",
       "<style scoped>\n",
       "    .dataframe tbody tr th:only-of-type {\n",
       "        vertical-align: middle;\n",
       "    }\n",
       "\n",
       "    .dataframe tbody tr th {\n",
       "        vertical-align: top;\n",
       "    }\n",
       "\n",
       "    .dataframe thead th {\n",
       "        text-align: right;\n",
       "    }\n",
       "</style>\n",
       "<table border=\"1\" class=\"dataframe\">\n",
       "  <thead>\n",
       "    <tr style=\"text-align: right;\">\n",
       "      <th></th>\n",
       "      <th>max_depth</th>\n",
       "      <th>recall_score</th>\n",
       "      <th>dataset</th>\n",
       "      <th>overfitting</th>\n",
       "    </tr>\n",
       "  </thead>\n",
       "  <tbody>\n",
       "    <tr>\n",
       "      <th>0</th>\n",
       "      <td>10</td>\n",
       "      <td>0.633475</td>\n",
       "      <td>train</td>\n",
       "      <td>0.075790</td>\n",
       "    </tr>\n",
       "    <tr>\n",
       "      <th>1</th>\n",
       "      <td>10</td>\n",
       "      <td>0.557685</td>\n",
       "      <td>test</td>\n",
       "      <td>0.075790</td>\n",
       "    </tr>\n",
       "    <tr>\n",
       "      <th>2</th>\n",
       "      <td>15</td>\n",
       "      <td>0.892971</td>\n",
       "      <td>train</td>\n",
       "      <td>0.194711</td>\n",
       "    </tr>\n",
       "    <tr>\n",
       "      <th>3</th>\n",
       "      <td>15</td>\n",
       "      <td>0.698261</td>\n",
       "      <td>test</td>\n",
       "      <td>0.194711</td>\n",
       "    </tr>\n",
       "    <tr>\n",
       "      <th>4</th>\n",
       "      <td>20</td>\n",
       "      <td>0.984736</td>\n",
       "      <td>train</td>\n",
       "      <td>0.256301</td>\n",
       "    </tr>\n",
       "    <tr>\n",
       "      <th>5</th>\n",
       "      <td>20</td>\n",
       "      <td>0.728435</td>\n",
       "      <td>test</td>\n",
       "      <td>0.256301</td>\n",
       "    </tr>\n",
       "    <tr>\n",
       "      <th>6</th>\n",
       "      <td>40</td>\n",
       "      <td>0.998580</td>\n",
       "      <td>train</td>\n",
       "      <td>0.281860</td>\n",
       "    </tr>\n",
       "    <tr>\n",
       "      <th>7</th>\n",
       "      <td>40</td>\n",
       "      <td>0.716720</td>\n",
       "      <td>test</td>\n",
       "      <td>0.281860</td>\n",
       "    </tr>\n",
       "    <tr>\n",
       "      <th>8</th>\n",
       "      <td>50</td>\n",
       "      <td>0.998580</td>\n",
       "      <td>train</td>\n",
       "      <td>0.281860</td>\n",
       "    </tr>\n",
       "    <tr>\n",
       "      <th>9</th>\n",
       "      <td>50</td>\n",
       "      <td>0.716720</td>\n",
       "      <td>test</td>\n",
       "      <td>0.281860</td>\n",
       "    </tr>\n",
       "  </tbody>\n",
       "</table>\n",
       "</div>"
      ],
      "text/plain": [
       "   max_depth  recall_score dataset  overfitting\n",
       "0         10      0.633475   train     0.075790\n",
       "1         10      0.557685    test     0.075790\n",
       "2         15      0.892971   train     0.194711\n",
       "3         15      0.698261    test     0.194711\n",
       "4         20      0.984736   train     0.256301\n",
       "5         20      0.728435    test     0.256301\n",
       "6         40      0.998580   train     0.281860\n",
       "7         40      0.716720    test     0.281860\n",
       "8         50      0.998580   train     0.281860\n",
       "9         50      0.716720    test     0.281860"
      ]
     },
     "execution_count": 20,
     "metadata": {},
     "output_type": "execute_result"
    }
   ],
   "source": [
    "max_depth_summary= summarize_cv_hyperparameter(scores_max_depth, 'max_depth', max_depths)\n",
    "max_depth_summary"
   ]
  },
  {
   "cell_type": "code",
   "execution_count": 21,
   "id": "6170747b",
   "metadata": {},
   "outputs": [
    {
     "data": {
      "text/html": [
       "\n",
       "<div id=\"altair-viz-77b3d445a5ac4e9e87464919de3cde4b\"></div>\n",
       "<script type=\"text/javascript\">\n",
       "  (function(spec, embedOpt){\n",
       "    let outputDiv = document.currentScript.previousElementSibling;\n",
       "    if (outputDiv.id !== \"altair-viz-77b3d445a5ac4e9e87464919de3cde4b\") {\n",
       "      outputDiv = document.getElementById(\"altair-viz-77b3d445a5ac4e9e87464919de3cde4b\");\n",
       "    }\n",
       "    const paths = {\n",
       "      \"vega\": \"https://cdn.jsdelivr.net/npm//vega@5?noext\",\n",
       "      \"vega-lib\": \"https://cdn.jsdelivr.net/npm//vega-lib?noext\",\n",
       "      \"vega-lite\": \"https://cdn.jsdelivr.net/npm//vega-lite@4.8.1?noext\",\n",
       "      \"vega-embed\": \"https://cdn.jsdelivr.net/npm//vega-embed@6?noext\",\n",
       "    };\n",
       "\n",
       "    function loadScript(lib) {\n",
       "      return new Promise(function(resolve, reject) {\n",
       "        var s = document.createElement('script');\n",
       "        s.src = paths[lib];\n",
       "        s.async = true;\n",
       "        s.onload = () => resolve(paths[lib]);\n",
       "        s.onerror = () => reject(`Error loading script: ${paths[lib]}`);\n",
       "        document.getElementsByTagName(\"head\")[0].appendChild(s);\n",
       "      });\n",
       "    }\n",
       "\n",
       "    function showError(err) {\n",
       "      outputDiv.innerHTML = `<div class=\"error\" style=\"color:red;\">${err}</div>`;\n",
       "      throw err;\n",
       "    }\n",
       "\n",
       "    function displayChart(vegaEmbed) {\n",
       "      vegaEmbed(outputDiv, spec, embedOpt)\n",
       "        .catch(err => showError(`Javascript Error: ${err.message}<br>This usually means there's a typo in your chart specification. See the javascript console for the full traceback.`));\n",
       "    }\n",
       "\n",
       "    if(typeof define === \"function\" && define.amd) {\n",
       "      requirejs.config({paths});\n",
       "      require([\"vega-embed\"], displayChart, err => showError(`Error loading script: ${err.message}`));\n",
       "    } else if (typeof vegaEmbed === \"function\") {\n",
       "      displayChart(vegaEmbed);\n",
       "    } else {\n",
       "      loadScript(\"vega\")\n",
       "        .then(() => loadScript(\"vega-lite\"))\n",
       "        .then(() => loadScript(\"vega-embed\"))\n",
       "        .catch(showError)\n",
       "        .then(() => displayChart(vegaEmbed));\n",
       "    }\n",
       "  })({\"config\": {\"view\": {\"continuousWidth\": 400, \"continuousHeight\": 300}}, \"data\": {\"name\": \"data-64c075d1c42a84d3f9c9946ae0636f0b\"}, \"mark\": {\"type\": \"line\", \"point\": true}, \"encoding\": {\"color\": {\"type\": \"nominal\", \"field\": \"dataset\"}, \"x\": {\"type\": \"quantitative\", \"field\": \"max_depth\"}, \"y\": {\"type\": \"quantitative\", \"field\": \"recall_score\"}}, \"$schema\": \"https://vega.github.io/schema/vega-lite/v4.8.1.json\", \"datasets\": {\"data-64c075d1c42a84d3f9c9946ae0636f0b\": [{\"max_depth\": 10, \"recall_score\": 0.6334753283635073, \"dataset\": \"train\", \"overfitting\": 0.07578984735534255}, {\"max_depth\": 10, \"recall_score\": 0.5576854810081647, \"dataset\": \"test\", \"overfitting\": 0.07578984735534255}, {\"max_depth\": 15, \"recall_score\": 0.8929712460063898, \"dataset\": \"train\", \"overfitting\": 0.19471068512602063}, {\"max_depth\": 15, \"recall_score\": 0.6982605608803691, \"dataset\": \"test\", \"overfitting\": 0.19471068512602063}, {\"max_depth\": 20, \"recall_score\": 0.984735534256301, \"dataset\": \"train\", \"overfitting\": 0.2563010294639687}, {\"max_depth\": 20, \"recall_score\": 0.7284345047923323, \"dataset\": \"test\", \"overfitting\": 0.2563010294639687}, {\"max_depth\": 40, \"recall_score\": 0.9985800496982605, \"dataset\": \"train\", \"overfitting\": 0.2818601348952787}, {\"max_depth\": 40, \"recall_score\": 0.7167199148029818, \"dataset\": \"test\", \"overfitting\": 0.2818601348952787}, {\"max_depth\": 50, \"recall_score\": 0.9985800496982605, \"dataset\": \"train\", \"overfitting\": 0.2818601348952787}, {\"max_depth\": 50, \"recall_score\": 0.7167199148029818, \"dataset\": \"test\", \"overfitting\": 0.2818601348952787}]}}, {\"mode\": \"vega-lite\"});\n",
       "</script>"
      ],
      "text/plain": [
       "alt.Chart(...)"
      ]
     },
     "execution_count": 21,
     "metadata": {},
     "output_type": "execute_result"
    }
   ],
   "source": [
    "compare_train_test(max_depth_summary, 'max_depth')"
   ]
  },
  {
   "cell_type": "markdown",
   "id": "86e4fb4c",
   "metadata": {},
   "source": [
    "### _Conclusion_:\n",
    "\n",
    "In the above graph, max_depths above 20 do not differ in performance and level of overfitting. Meanwhile, there is a drop in overfitting when max_depth is less than 20, but the performance also lowers as well. Therefore, __15 <= max_depth <= 35__ is the best range of max_depth because the overfitting is reduced while performance is still preserved. \n",
    "\n",
    "Hence, for the next steps, I decided to use max_depth = 20 because overfitting decreases while performance is still good."
   ]
  },
  {
   "cell_type": "markdown",
   "id": "3f652e18",
   "metadata": {},
   "source": [
    "## 6. Reduce Overfitting with min_samples_leaf"
   ]
  },
  {
   "cell_type": "markdown",
   "id": "92f00f8d",
   "metadata": {},
   "source": [
    "**[6.1]** Train a RandomForestClassifier model with n_estimators=50, max_depth = 20, min_samples_leaf = [2, 5, 10, 20] and print the recall score for the training and validation sets`"
   ]
  },
  {
   "cell_type": "code",
   "execution_count": 22,
   "id": "29d63fd9",
   "metadata": {},
   "outputs": [
    {
     "data": {
      "text/plain": [
       "[{'fit_time': 2.176797072092692,\n",
       "  'score_time': 0.18798025449117026,\n",
       "  'test_score': 0.7074902378416755,\n",
       "  'train_score': 0.8793042243521477},\n",
       " {'fit_time': 2.180992046991984,\n",
       "  'score_time': 0.18727477391560873,\n",
       "  'test_score': 0.64572239971601,\n",
       "  'train_score': 0.7410365637202698},\n",
       " {'fit_time': 2.2073736985524497,\n",
       "  'score_time': 0.18262330691019693,\n",
       "  'test_score': 0.5807596734114305,\n",
       "  'train_score': 0.6396876109336174},\n",
       " {'fit_time': 2.0316710472106934,\n",
       "  'score_time': 0.17414434750874838,\n",
       "  'test_score': 0.47639332623358177,\n",
       "  'train_score': 0.5198793042243521}]"
      ]
     },
     "execution_count": 22,
     "metadata": {},
     "output_type": "execute_result"
    }
   ],
   "source": [
    "scores_min_samples_leaf = []\n",
    "min_samples_leafs = [2, 5, 10, 20]\n",
    "for v in min_samples_leafs:\n",
    "    rf = RandomForestClassifier(random_state=8, n_estimators=50, max_depth=20, min_samples_leaf=v)\n",
    "    scores_tuned = cross_validate(rf, X_data, y_data, cv=cv, scoring='recall', return_train_score=True)\n",
    "    avg_scores_tuned = {metric:np.mean(scores) for (metric, scores) in scores_tuned.items()}\n",
    "    scores_min_samples_leaf.append(avg_scores_tuned)\n",
    "scores_min_samples_leaf"
   ]
  },
  {
   "cell_type": "markdown",
   "id": "c754c127",
   "metadata": {},
   "source": [
    "**[6.2]** Plot cross-validation recall scores across all min_samples_leaf"
   ]
  },
  {
   "cell_type": "code",
   "execution_count": 23,
   "id": "46009dc6",
   "metadata": {},
   "outputs": [
    {
     "data": {
      "text/html": [
       "<div>\n",
       "<style scoped>\n",
       "    .dataframe tbody tr th:only-of-type {\n",
       "        vertical-align: middle;\n",
       "    }\n",
       "\n",
       "    .dataframe tbody tr th {\n",
       "        vertical-align: top;\n",
       "    }\n",
       "\n",
       "    .dataframe thead th {\n",
       "        text-align: right;\n",
       "    }\n",
       "</style>\n",
       "<table border=\"1\" class=\"dataframe\">\n",
       "  <thead>\n",
       "    <tr style=\"text-align: right;\">\n",
       "      <th></th>\n",
       "      <th>min_samples_leaf</th>\n",
       "      <th>recall_score</th>\n",
       "      <th>dataset</th>\n",
       "      <th>overfitting</th>\n",
       "    </tr>\n",
       "  </thead>\n",
       "  <tbody>\n",
       "    <tr>\n",
       "      <th>0</th>\n",
       "      <td>2</td>\n",
       "      <td>0.879304</td>\n",
       "      <td>train</td>\n",
       "      <td>0.171814</td>\n",
       "    </tr>\n",
       "    <tr>\n",
       "      <th>1</th>\n",
       "      <td>2</td>\n",
       "      <td>0.707490</td>\n",
       "      <td>test</td>\n",
       "      <td>0.171814</td>\n",
       "    </tr>\n",
       "    <tr>\n",
       "      <th>2</th>\n",
       "      <td>5</td>\n",
       "      <td>0.741037</td>\n",
       "      <td>train</td>\n",
       "      <td>0.095314</td>\n",
       "    </tr>\n",
       "    <tr>\n",
       "      <th>3</th>\n",
       "      <td>5</td>\n",
       "      <td>0.645722</td>\n",
       "      <td>test</td>\n",
       "      <td>0.095314</td>\n",
       "    </tr>\n",
       "    <tr>\n",
       "      <th>4</th>\n",
       "      <td>10</td>\n",
       "      <td>0.639688</td>\n",
       "      <td>train</td>\n",
       "      <td>0.058928</td>\n",
       "    </tr>\n",
       "    <tr>\n",
       "      <th>5</th>\n",
       "      <td>10</td>\n",
       "      <td>0.580760</td>\n",
       "      <td>test</td>\n",
       "      <td>0.058928</td>\n",
       "    </tr>\n",
       "    <tr>\n",
       "      <th>6</th>\n",
       "      <td>20</td>\n",
       "      <td>0.519879</td>\n",
       "      <td>train</td>\n",
       "      <td>0.043486</td>\n",
       "    </tr>\n",
       "    <tr>\n",
       "      <th>7</th>\n",
       "      <td>20</td>\n",
       "      <td>0.476393</td>\n",
       "      <td>test</td>\n",
       "      <td>0.043486</td>\n",
       "    </tr>\n",
       "  </tbody>\n",
       "</table>\n",
       "</div>"
      ],
      "text/plain": [
       "   min_samples_leaf  recall_score dataset  overfitting\n",
       "0                 2      0.879304   train     0.171814\n",
       "1                 2      0.707490    test     0.171814\n",
       "2                 5      0.741037   train     0.095314\n",
       "3                 5      0.645722    test     0.095314\n",
       "4                10      0.639688   train     0.058928\n",
       "5                10      0.580760    test     0.058928\n",
       "6                20      0.519879   train     0.043486\n",
       "7                20      0.476393    test     0.043486"
      ]
     },
     "execution_count": 23,
     "metadata": {},
     "output_type": "execute_result"
    }
   ],
   "source": [
    "min_samples_leaf_summary= summarize_cv_hyperparameter(scores_min_samples_leaf, 'min_samples_leaf', min_samples_leafs)\n",
    "min_samples_leaf_summary"
   ]
  },
  {
   "cell_type": "code",
   "execution_count": 24,
   "id": "d5351d94",
   "metadata": {},
   "outputs": [
    {
     "data": {
      "text/html": [
       "\n",
       "<div id=\"altair-viz-bb418654dce94a1c94da1e9c28675a4c\"></div>\n",
       "<script type=\"text/javascript\">\n",
       "  (function(spec, embedOpt){\n",
       "    let outputDiv = document.currentScript.previousElementSibling;\n",
       "    if (outputDiv.id !== \"altair-viz-bb418654dce94a1c94da1e9c28675a4c\") {\n",
       "      outputDiv = document.getElementById(\"altair-viz-bb418654dce94a1c94da1e9c28675a4c\");\n",
       "    }\n",
       "    const paths = {\n",
       "      \"vega\": \"https://cdn.jsdelivr.net/npm//vega@5?noext\",\n",
       "      \"vega-lib\": \"https://cdn.jsdelivr.net/npm//vega-lib?noext\",\n",
       "      \"vega-lite\": \"https://cdn.jsdelivr.net/npm//vega-lite@4.8.1?noext\",\n",
       "      \"vega-embed\": \"https://cdn.jsdelivr.net/npm//vega-embed@6?noext\",\n",
       "    };\n",
       "\n",
       "    function loadScript(lib) {\n",
       "      return new Promise(function(resolve, reject) {\n",
       "        var s = document.createElement('script');\n",
       "        s.src = paths[lib];\n",
       "        s.async = true;\n",
       "        s.onload = () => resolve(paths[lib]);\n",
       "        s.onerror = () => reject(`Error loading script: ${paths[lib]}`);\n",
       "        document.getElementsByTagName(\"head\")[0].appendChild(s);\n",
       "      });\n",
       "    }\n",
       "\n",
       "    function showError(err) {\n",
       "      outputDiv.innerHTML = `<div class=\"error\" style=\"color:red;\">${err}</div>`;\n",
       "      throw err;\n",
       "    }\n",
       "\n",
       "    function displayChart(vegaEmbed) {\n",
       "      vegaEmbed(outputDiv, spec, embedOpt)\n",
       "        .catch(err => showError(`Javascript Error: ${err.message}<br>This usually means there's a typo in your chart specification. See the javascript console for the full traceback.`));\n",
       "    }\n",
       "\n",
       "    if(typeof define === \"function\" && define.amd) {\n",
       "      requirejs.config({paths});\n",
       "      require([\"vega-embed\"], displayChart, err => showError(`Error loading script: ${err.message}`));\n",
       "    } else if (typeof vegaEmbed === \"function\") {\n",
       "      displayChart(vegaEmbed);\n",
       "    } else {\n",
       "      loadScript(\"vega\")\n",
       "        .then(() => loadScript(\"vega-lite\"))\n",
       "        .then(() => loadScript(\"vega-embed\"))\n",
       "        .catch(showError)\n",
       "        .then(() => displayChart(vegaEmbed));\n",
       "    }\n",
       "  })({\"config\": {\"view\": {\"continuousWidth\": 400, \"continuousHeight\": 300}}, \"data\": {\"name\": \"data-307963a3efefe3b6739a5e7d15128c65\"}, \"mark\": {\"type\": \"line\", \"point\": true}, \"encoding\": {\"color\": {\"type\": \"nominal\", \"field\": \"dataset\"}, \"x\": {\"type\": \"quantitative\", \"field\": \"min_samples_leaf\"}, \"y\": {\"type\": \"quantitative\", \"field\": \"recall_score\"}}, \"$schema\": \"https://vega.github.io/schema/vega-lite/v4.8.1.json\", \"datasets\": {\"data-307963a3efefe3b6739a5e7d15128c65\": [{\"min_samples_leaf\": 2, \"recall_score\": 0.8793042243521477, \"dataset\": \"train\", \"overfitting\": 0.1718139865104722}, {\"min_samples_leaf\": 2, \"recall_score\": 0.7074902378416755, \"dataset\": \"test\", \"overfitting\": 0.1718139865104722}, {\"min_samples_leaf\": 5, \"recall_score\": 0.7410365637202698, \"dataset\": \"train\", \"overfitting\": 0.09531416400425985}, {\"min_samples_leaf\": 5, \"recall_score\": 0.64572239971601, \"dataset\": \"test\", \"overfitting\": 0.09531416400425985}, {\"min_samples_leaf\": 10, \"recall_score\": 0.6396876109336174, \"dataset\": \"train\", \"overfitting\": 0.058927937522186835}, {\"min_samples_leaf\": 10, \"recall_score\": 0.5807596734114305, \"dataset\": \"test\", \"overfitting\": 0.058927937522186835}, {\"min_samples_leaf\": 20, \"recall_score\": 0.5198793042243521, \"dataset\": \"train\", \"overfitting\": 0.043485977990770364}, {\"min_samples_leaf\": 20, \"recall_score\": 0.47639332623358177, \"dataset\": \"test\", \"overfitting\": 0.043485977990770364}]}}, {\"mode\": \"vega-lite\"});\n",
       "</script>"
      ],
      "text/plain": [
       "alt.Chart(...)"
      ]
     },
     "execution_count": 24,
     "metadata": {},
     "output_type": "execute_result"
    }
   ],
   "source": [
    "compare_train_test(min_samples_leaf_summary, 'min_samples_leaf')"
   ]
  },
  {
   "cell_type": "markdown",
   "id": "aa5cf233",
   "metadata": {},
   "source": [
    "### _Conclusion_:\n",
    "\n",
    "In the above graph, the larger the min_samples_leaf is, the less the overfitting is, but the lower the performance is. \n",
    "\n",
    "Hence, for the next steps, I decided to use the default min_samples_leaf because other min_samples_leaf decrease the performance significantly."
   ]
  },
  {
   "cell_type": "markdown",
   "id": "b985fa51",
   "metadata": {},
   "source": [
    "## 7.   Reduce Overfitting with max_features"
   ]
  },
  {
   "cell_type": "markdown",
   "id": "07827cd0",
   "metadata": {},
   "source": [
    "**[7.1]** Train a RandomForestClassifier model with n_estimators=50, max_depth = 20, max_features = [6, 12, 24 ,39] print the recall score for the training and validation sets"
   ]
  },
  {
   "cell_type": "code",
   "execution_count": 25,
   "id": "a5142888",
   "metadata": {},
   "outputs": [
    {
     "data": {
      "text/plain": [
       "[{'fit_time': 3.0882838567097983,\n",
       "  'score_time': 0.5215630531311035,\n",
       "  'test_score': 0.5402910898118566,\n",
       "  'train_score': 0.9994675186368477},\n",
       " {'fit_time': 4.9229629834493,\n",
       "  'score_time': 0.3768472671508789,\n",
       "  'test_score': 0.7444089456869009,\n",
       "  'train_score': 0.9994675186368477},\n",
       " {'fit_time': 8.232991933822632,\n",
       "  'score_time': 0.31500832239786786,\n",
       "  'test_score': 0.7862974795882144,\n",
       "  'train_score': 0.9994675186368477},\n",
       " {'fit_time': 18.587982654571533,\n",
       "  'score_time': 0.30585702260335285,\n",
       "  'test_score': 0.7848775292864749,\n",
       "  'train_score': 0.9994675186368477}]"
      ]
     },
     "execution_count": 25,
     "metadata": {},
     "output_type": "execute_result"
    }
   ],
   "source": [
    "scores_max_feature = []\n",
    "max_features = [2, 6, 12, 29]\n",
    "for v in max_features:\n",
    "    rf = RandomForestClassifier(random_state=8, max_features=v)\n",
    "    scores_tuned = cross_validate(rf, X_data, y_data, cv=cv, scoring='recall', return_train_score=True)\n",
    "    avg_scores_tuned = {metric:np.mean(scores) for (metric, scores) in scores_tuned.items()}\n",
    "    scores_max_feature.append(avg_scores_tuned)\n",
    "scores_max_feature"
   ]
  },
  {
   "cell_type": "markdown",
   "id": "fd4bdb71",
   "metadata": {},
   "source": [
    "**[7.2]** Plot cross-validation recall scores across all max_features"
   ]
  },
  {
   "cell_type": "code",
   "execution_count": 26,
   "id": "d0b3b458",
   "metadata": {},
   "outputs": [
    {
     "data": {
      "text/html": [
       "<div>\n",
       "<style scoped>\n",
       "    .dataframe tbody tr th:only-of-type {\n",
       "        vertical-align: middle;\n",
       "    }\n",
       "\n",
       "    .dataframe tbody tr th {\n",
       "        vertical-align: top;\n",
       "    }\n",
       "\n",
       "    .dataframe thead th {\n",
       "        text-align: right;\n",
       "    }\n",
       "</style>\n",
       "<table border=\"1\" class=\"dataframe\">\n",
       "  <thead>\n",
       "    <tr style=\"text-align: right;\">\n",
       "      <th></th>\n",
       "      <th>max_feature</th>\n",
       "      <th>recall_score</th>\n",
       "      <th>dataset</th>\n",
       "      <th>overfitting</th>\n",
       "    </tr>\n",
       "  </thead>\n",
       "  <tbody>\n",
       "    <tr>\n",
       "      <th>0</th>\n",
       "      <td>2</td>\n",
       "      <td>0.999468</td>\n",
       "      <td>train</td>\n",
       "      <td>0.459176</td>\n",
       "    </tr>\n",
       "    <tr>\n",
       "      <th>1</th>\n",
       "      <td>2</td>\n",
       "      <td>0.540291</td>\n",
       "      <td>test</td>\n",
       "      <td>0.459176</td>\n",
       "    </tr>\n",
       "    <tr>\n",
       "      <th>2</th>\n",
       "      <td>6</td>\n",
       "      <td>0.999468</td>\n",
       "      <td>train</td>\n",
       "      <td>0.255059</td>\n",
       "    </tr>\n",
       "    <tr>\n",
       "      <th>3</th>\n",
       "      <td>6</td>\n",
       "      <td>0.744409</td>\n",
       "      <td>test</td>\n",
       "      <td>0.255059</td>\n",
       "    </tr>\n",
       "    <tr>\n",
       "      <th>4</th>\n",
       "      <td>12</td>\n",
       "      <td>0.999468</td>\n",
       "      <td>train</td>\n",
       "      <td>0.213170</td>\n",
       "    </tr>\n",
       "    <tr>\n",
       "      <th>5</th>\n",
       "      <td>12</td>\n",
       "      <td>0.786297</td>\n",
       "      <td>test</td>\n",
       "      <td>0.213170</td>\n",
       "    </tr>\n",
       "    <tr>\n",
       "      <th>6</th>\n",
       "      <td>29</td>\n",
       "      <td>0.999468</td>\n",
       "      <td>train</td>\n",
       "      <td>0.214590</td>\n",
       "    </tr>\n",
       "    <tr>\n",
       "      <th>7</th>\n",
       "      <td>29</td>\n",
       "      <td>0.784878</td>\n",
       "      <td>test</td>\n",
       "      <td>0.214590</td>\n",
       "    </tr>\n",
       "  </tbody>\n",
       "</table>\n",
       "</div>"
      ],
      "text/plain": [
       "   max_feature  recall_score dataset  overfitting\n",
       "0            2      0.999468   train     0.459176\n",
       "1            2      0.540291    test     0.459176\n",
       "2            6      0.999468   train     0.255059\n",
       "3            6      0.744409    test     0.255059\n",
       "4           12      0.999468   train     0.213170\n",
       "5           12      0.786297    test     0.213170\n",
       "6           29      0.999468   train     0.214590\n",
       "7           29      0.784878    test     0.214590"
      ]
     },
     "execution_count": 26,
     "metadata": {},
     "output_type": "execute_result"
    }
   ],
   "source": [
    "max_feature_summary= summarize_cv_hyperparameter(scores_max_feature, 'max_feature', max_features)\n",
    "max_feature_summary"
   ]
  },
  {
   "cell_type": "code",
   "execution_count": 27,
   "id": "b8d8539b",
   "metadata": {},
   "outputs": [
    {
     "data": {
      "text/html": [
       "\n",
       "<div id=\"altair-viz-ae50bbe378cc4517a3786dae800b04d7\"></div>\n",
       "<script type=\"text/javascript\">\n",
       "  (function(spec, embedOpt){\n",
       "    let outputDiv = document.currentScript.previousElementSibling;\n",
       "    if (outputDiv.id !== \"altair-viz-ae50bbe378cc4517a3786dae800b04d7\") {\n",
       "      outputDiv = document.getElementById(\"altair-viz-ae50bbe378cc4517a3786dae800b04d7\");\n",
       "    }\n",
       "    const paths = {\n",
       "      \"vega\": \"https://cdn.jsdelivr.net/npm//vega@5?noext\",\n",
       "      \"vega-lib\": \"https://cdn.jsdelivr.net/npm//vega-lib?noext\",\n",
       "      \"vega-lite\": \"https://cdn.jsdelivr.net/npm//vega-lite@4.8.1?noext\",\n",
       "      \"vega-embed\": \"https://cdn.jsdelivr.net/npm//vega-embed@6?noext\",\n",
       "    };\n",
       "\n",
       "    function loadScript(lib) {\n",
       "      return new Promise(function(resolve, reject) {\n",
       "        var s = document.createElement('script');\n",
       "        s.src = paths[lib];\n",
       "        s.async = true;\n",
       "        s.onload = () => resolve(paths[lib]);\n",
       "        s.onerror = () => reject(`Error loading script: ${paths[lib]}`);\n",
       "        document.getElementsByTagName(\"head\")[0].appendChild(s);\n",
       "      });\n",
       "    }\n",
       "\n",
       "    function showError(err) {\n",
       "      outputDiv.innerHTML = `<div class=\"error\" style=\"color:red;\">${err}</div>`;\n",
       "      throw err;\n",
       "    }\n",
       "\n",
       "    function displayChart(vegaEmbed) {\n",
       "      vegaEmbed(outputDiv, spec, embedOpt)\n",
       "        .catch(err => showError(`Javascript Error: ${err.message}<br>This usually means there's a typo in your chart specification. See the javascript console for the full traceback.`));\n",
       "    }\n",
       "\n",
       "    if(typeof define === \"function\" && define.amd) {\n",
       "      requirejs.config({paths});\n",
       "      require([\"vega-embed\"], displayChart, err => showError(`Error loading script: ${err.message}`));\n",
       "    } else if (typeof vegaEmbed === \"function\") {\n",
       "      displayChart(vegaEmbed);\n",
       "    } else {\n",
       "      loadScript(\"vega\")\n",
       "        .then(() => loadScript(\"vega-lite\"))\n",
       "        .then(() => loadScript(\"vega-embed\"))\n",
       "        .catch(showError)\n",
       "        .then(() => displayChart(vegaEmbed));\n",
       "    }\n",
       "  })({\"config\": {\"view\": {\"continuousWidth\": 400, \"continuousHeight\": 300}}, \"data\": {\"name\": \"data-8eae5f0d95d0e59d2c9d2a1e79961789\"}, \"mark\": {\"type\": \"line\", \"point\": true}, \"encoding\": {\"color\": {\"type\": \"nominal\", \"field\": \"dataset\"}, \"x\": {\"type\": \"quantitative\", \"field\": \"max_feature\"}, \"y\": {\"type\": \"quantitative\", \"field\": \"recall_score\"}}, \"$schema\": \"https://vega.github.io/schema/vega-lite/v4.8.1.json\", \"datasets\": {\"data-8eae5f0d95d0e59d2c9d2a1e79961789\": [{\"max_feature\": 2, \"recall_score\": 0.9994675186368477, \"dataset\": \"train\", \"overfitting\": 0.4591764288249911}, {\"max_feature\": 2, \"recall_score\": 0.5402910898118566, \"dataset\": \"test\", \"overfitting\": 0.4591764288249911}, {\"max_feature\": 6, \"recall_score\": 0.9994675186368477, \"dataset\": \"train\", \"overfitting\": 0.2550585729499468}, {\"max_feature\": 6, \"recall_score\": 0.7444089456869009, \"dataset\": \"test\", \"overfitting\": 0.2550585729499468}, {\"max_feature\": 12, \"recall_score\": 0.9994675186368477, \"dataset\": \"train\", \"overfitting\": 0.2131700390486333}, {\"max_feature\": 12, \"recall_score\": 0.7862974795882144, \"dataset\": \"test\", \"overfitting\": 0.2131700390486333}, {\"max_feature\": 29, \"recall_score\": 0.9994675186368477, \"dataset\": \"train\", \"overfitting\": 0.21458998935037277}, {\"max_feature\": 29, \"recall_score\": 0.7848775292864749, \"dataset\": \"test\", \"overfitting\": 0.21458998935037277}]}}, {\"mode\": \"vega-lite\"});\n",
       "</script>"
      ],
      "text/plain": [
       "alt.Chart(...)"
      ]
     },
     "execution_count": 27,
     "metadata": {},
     "output_type": "execute_result"
    }
   ],
   "source": [
    "compare_train_test(max_feature_summary, 'max_feature')"
   ]
  },
  {
   "cell_type": "markdown",
   "id": "d0ddd1a9",
   "metadata": {},
   "source": [
    "### _Conclusion_:\n",
    "\n",
    "In the above graph, it can be seen that __12 <= max_feature <= 29__ is the best range because the overfitting is reduced while performance is still preserved. When max_feature is less than this range, it becomes more and more overfitting."
   ]
  },
  {
   "cell_type": "markdown",
   "id": "848cbbfb",
   "metadata": {},
   "source": [
    "## 8. Auto tuning using Random Search "
   ]
  },
  {
   "cell_type": "markdown",
   "id": "2dbd81a2",
   "metadata": {},
   "source": [
    "**[8.1]** Create a dictionary containing the hyperparameters value randomly"
   ]
  },
  {
   "cell_type": "code",
   "execution_count": 28,
   "id": "a6a82b92",
   "metadata": {},
   "outputs": [
    {
     "data": {
      "text/plain": [
       "{'n_estimators': <scipy.stats._distn_infrastructure.rv_discrete_frozen at 0x7fcaea78efa0>,\n",
       " 'max_depth': <scipy.stats._distn_infrastructure.rv_discrete_frozen at 0x7fcae2cb2a90>,\n",
       " 'max_features': <scipy.stats._distn_infrastructure.rv_discrete_frozen at 0x7fcaf9d4bc70>}"
      ]
     },
     "execution_count": 28,
     "metadata": {},
     "output_type": "execute_result"
    }
   ],
   "source": [
    "hyperparams_dist = {\n",
    "    'n_estimators': randint(10, 50),\n",
    "    'max_depth': randint(15, 35),\n",
    "    'max_features': randint(12, 29)\n",
    "    }\n",
    "hyperparams_dist"
   ]
  },
  {
   "cell_type": "markdown",
   "id": "e0f1e24d",
   "metadata": {},
   "source": [
    "**[8.2]** Instantiate a RandomSearchCV with the hyperparameter dist and the random forest model"
   ]
  },
  {
   "cell_type": "code",
   "execution_count": 29,
   "id": "1db054e2",
   "metadata": {},
   "outputs": [],
   "source": [
    "random_search_rf = RandomizedSearchCV(RandomForestClassifier(random_state=8), hyperparams_dist, cv=cv, verbose=1, n_iter=30, scoring='recall', random_state = 8)"
   ]
  },
  {
   "cell_type": "markdown",
   "id": "f66df30e",
   "metadata": {},
   "source": [
    "**[8.3]** Fit the RandomizedSearchCV on the training set"
   ]
  },
  {
   "cell_type": "code",
   "execution_count": 30,
   "id": "9b6172d6",
   "metadata": {},
   "outputs": [
    {
     "name": "stdout",
     "output_type": "stream",
     "text": [
      "Fitting 3 folds for each of 30 candidates, totalling 90 fits\n"
     ]
    },
    {
     "data": {
      "text/plain": [
       "RandomizedSearchCV(cv=[(array([     0,      1,      2, ..., 105064, 105065, 105068]),\n",
       "                        array([     3,      5,      9, ..., 105063, 105066, 105067])),\n",
       "                       (array([     0,      2,      3, ..., 105066, 105067, 105068]),\n",
       "                        array([     1,      4,      6, ..., 105057, 105060, 105064])),\n",
       "                       (array([     1,      3,      4, ..., 105064, 105066, 105067]),\n",
       "                        array([     0,      2,      7, ..., 105061, 105065, 105068]))],\n",
       "                   estimator=RandomForestClassifier(random_state=8), n_iter=30,\n",
       "                   param_distributions={'max_depth': <scipy.stats._distn_infrastructure.rv_discrete_frozen object at 0x7fcae2cb2a90>,\n",
       "                                        'max_features': <scipy.stats._distn_infrastructure.rv_discrete_frozen object at 0x7fcaf9d4bc70>,\n",
       "                                        'n_estimators': <scipy.stats._distn_infrastructure.rv_discrete_frozen object at 0x7fcaea78efa0>},\n",
       "                   random_state=8, scoring='recall', verbose=1)"
      ]
     },
     "execution_count": 30,
     "metadata": {},
     "output_type": "execute_result"
    }
   ],
   "source": [
    "random_search_rf.fit(X_data, y_data)"
   ]
  },
  {
   "cell_type": "markdown",
   "id": "01fddf27",
   "metadata": {},
   "source": [
    "**[8.4]** Display the best set of hyperparameters"
   ]
  },
  {
   "cell_type": "code",
   "execution_count": 31,
   "id": "3c0519fe",
   "metadata": {},
   "outputs": [
    {
     "data": {
      "text/plain": [
       "{'max_depth': 32, 'max_features': 22, 'n_estimators': 37}"
      ]
     },
     "execution_count": 31,
     "metadata": {},
     "output_type": "execute_result"
    }
   ],
   "source": [
    "best_params = random_search_rf.best_params_\n",
    "best_params"
   ]
  },
  {
   "cell_type": "markdown",
   "id": "84b23740",
   "metadata": {},
   "source": [
    "**[8.5]** Display best recall"
   ]
  },
  {
   "cell_type": "code",
   "execution_count": 32,
   "id": "37566c57",
   "metadata": {},
   "outputs": [
    {
     "data": {
      "text/plain": [
       "0.7902023429179978"
      ]
     },
     "execution_count": 32,
     "metadata": {},
     "output_type": "execute_result"
    }
   ],
   "source": [
    "random_search_rf.best_score_"
   ]
  },
  {
   "cell_type": "markdown",
   "id": "ca841521",
   "metadata": {},
   "source": [
    "**[8.6]** Cross validate the best random forest "
   ]
  },
  {
   "cell_type": "code",
   "execution_count": 33,
   "id": "6da77dd4",
   "metadata": {},
   "outputs": [],
   "source": [
    "best_random_search_rf = cross_validate(RandomForestClassifier(random_state=8, n_estimators=best_params['n_estimators'], max_depth=best_params['max_depth'], max_features=best_params['max_features']), X_data, y_data, cv=cv, scoring='recall', return_train_score=True)"
   ]
  },
  {
   "cell_type": "markdown",
   "id": "3ece02c8",
   "metadata": {},
   "source": [
    "**[8.7]** Average scores of all cv"
   ]
  },
  {
   "cell_type": "code",
   "execution_count": 34,
   "id": "742ec79d",
   "metadata": {},
   "outputs": [
    {
     "data": {
      "text/plain": [
       "{'fit_time': 5.359354893366496,\n",
       " 'score_time': 0.12332669893900554,\n",
       " 'test_score': 0.7902023429179978,\n",
       " 'train_score': 0.9980475683351083}"
      ]
     },
     "execution_count": 34,
     "metadata": {},
     "output_type": "execute_result"
    }
   ],
   "source": [
    "avg_scores_best_random_search_rf = {metric:np.mean(scores) for (metric, scores) in best_random_search_rf.items()}\n",
    "avg_scores_best_random_search_rf"
   ]
  },
  {
   "cell_type": "code",
   "execution_count": 35,
   "id": "3c18ae4e",
   "metadata": {},
   "outputs": [
    {
     "data": {
      "text/plain": [
       "0.20784522541711048"
      ]
     },
     "execution_count": 35,
     "metadata": {},
     "output_type": "execute_result"
    }
   ],
   "source": [
    "overfitting = avg_scores_best_random_search_rf['train_score'] - avg_scores_best_random_search_rf['test_score']\n",
    "overfitting"
   ]
  },
  {
   "cell_type": "markdown",
   "id": "55f315e4",
   "metadata": {},
   "source": [
    "## 9. Assess the best RandomForest Model on testing set"
   ]
  },
  {
   "cell_type": "markdown",
   "id": "1ad38799",
   "metadata": {},
   "source": [
    "**[9.1]** Train RandomForest model with best set of hyper parameters"
   ]
  },
  {
   "cell_type": "code",
   "execution_count": 36,
   "id": "90fe67eb",
   "metadata": {},
   "outputs": [],
   "source": [
    "rf_best = RandomForestClassifier(random_state=8, n_estimators=best_params['n_estimators'], max_depth=best_params['max_depth'], max_features=best_params['max_features']).fit(X_data, y_data)"
   ]
  },
  {
   "cell_type": "markdown",
   "id": "74c333c8",
   "metadata": {},
   "source": [
    "**[9.2]** Use the best RandomForest to predict X_test and save to y_test_preds"
   ]
  },
  {
   "cell_type": "code",
   "execution_count": 37,
   "id": "78609483",
   "metadata": {},
   "outputs": [],
   "source": [
    "y_test_preds = rf_best.predict(X_test)"
   ]
  },
  {
   "cell_type": "markdown",
   "id": "2c240a82",
   "metadata": {},
   "source": [
    "**[9.3]** Print f2 score, precision, and recall on testing set"
   ]
  },
  {
   "cell_type": "code",
   "execution_count": 38,
   "id": "2b793751",
   "metadata": {},
   "outputs": [
    {
     "name": "stdout",
     "output_type": "stream",
     "text": [
      "Precision:  0.9170653907496013\n",
      "Recall:  0.8167613636363636\n",
      "F2:  0.8350275922160906\n"
     ]
    }
   ],
   "source": [
    "precision = precision_score(y_test, y_test_preds)\n",
    "print('Precision: ', precision)\n",
    "recall= recall_score(y_test, y_test_preds)\n",
    "print('Recall: ', recall)\n",
    "f2 = fbeta_score(y_test, y_test_preds, beta = 2)\n",
    "print('F2: ', f2)"
   ]
  },
  {
   "cell_type": "markdown",
   "id": "8ee06ca9",
   "metadata": {},
   "source": [
    "**[9.4]** Confusion matrix on testing set"
   ]
  },
  {
   "cell_type": "code",
   "execution_count": 39,
   "id": "2e6799df",
   "metadata": {},
   "outputs": [
    {
     "data": {
      "text/plain": [
       "<sklearn.metrics._plot.confusion_matrix.ConfusionMatrixDisplay at 0x7fcae388ddf0>"
      ]
     },
     "execution_count": 39,
     "metadata": {},
     "output_type": "execute_result"
    },
    {
     "data": {
      "image/png": "[encoded data removed]",
      "text/plain": [
       "<Figure size 640x480 with 2 Axes>"
      ]
     },
     "metadata": {},
     "output_type": "display_data"
    }
   ],
   "source": [
    "ConfusionMatrixDisplay.from_predictions(y_test, y_test_preds, normalize = 'true')"
   ]
  },
  {
   "cell_type": "markdown",
   "id": "bd6c4c39",
   "metadata": {},
   "source": [
    "## 10.  Features Importance"
   ]
  },
  {
   "cell_type": "markdown",
   "id": "11459c37",
   "metadata": {},
   "source": [
    "**[10.1]** Task: Print the features importance of rf_best"
   ]
  },
  {
   "cell_type": "code",
   "execution_count": 40,
   "id": "057c073f",
   "metadata": {},
   "outputs": [
    {
     "data": {
      "text/plain": [
       "array([8.81583915e-02, 5.39621646e-02, 6.05461168e-02, 4.22700495e-02,\n",
       "       3.63268699e-02, 5.55616576e-02, 1.50937602e-01, 2.04231921e-01,\n",
       "       1.06092618e-01, 5.40835776e-02, 9.78328714e-02, 2.69864320e-03,\n",
       "       3.65376247e-03, 1.94017589e-04, 3.58705659e-03, 3.36511980e-03,\n",
       "       2.63322121e-03, 2.63385739e-03, 3.75683552e-04, 1.05027715e-03,\n",
       "       6.37819573e-03, 6.67758295e-03, 2.87825084e-03, 4.12447227e-03,\n",
       "       1.40446799e-03, 2.76296777e-03, 3.66652509e-03, 6.49834269e-04,\n",
       "       1.26222299e-03])"
      ]
     },
     "execution_count": 40,
     "metadata": {},
     "output_type": "execute_result"
    }
   ],
   "source": [
    "rf_best.feature_importances_"
   ]
  },
  {
   "cell_type": "markdown",
   "id": "664dec38",
   "metadata": {},
   "source": [
    "**[10.2]** Create a Dataframe with these values"
   ]
  },
  {
   "cell_type": "code",
   "execution_count": 41,
   "id": "3b9edca1",
   "metadata": {},
   "outputs": [],
   "source": [
    "feat_imp_rf_df = pd.DataFrame(\n",
    "    {\n",
    "        'feature': X_data.columns,\n",
    "     'feature_importance': rf_best.feature_importances_\n",
    "     }\n",
    ")"
   ]
  },
  {
   "cell_type": "code",
   "execution_count": 42,
   "id": "a629cb4e",
   "metadata": {},
   "outputs": [
    {
     "data": {
      "text/html": [
       "<div>\n",
       "<style scoped>\n",
       "    .dataframe tbody tr th:only-of-type {\n",
       "        vertical-align: middle;\n",
       "    }\n",
       "\n",
       "    .dataframe tbody tr th {\n",
       "        vertical-align: top;\n",
       "    }\n",
       "\n",
       "    .dataframe thead th {\n",
       "        text-align: right;\n",
       "    }\n",
       "</style>\n",
       "<table border=\"1\" class=\"dataframe\">\n",
       "  <thead>\n",
       "    <tr style=\"text-align: right;\">\n",
       "      <th></th>\n",
       "      <th>feature</th>\n",
       "      <th>feature_importance</th>\n",
       "    </tr>\n",
       "  </thead>\n",
       "  <tbody>\n",
       "    <tr>\n",
       "      <th>0</th>\n",
       "      <td>age_of_vehicle_years</td>\n",
       "      <td>0.088158</td>\n",
       "    </tr>\n",
       "    <tr>\n",
       "      <th>1</th>\n",
       "      <td>sched_serv_warr</td>\n",
       "      <td>0.053962</td>\n",
       "    </tr>\n",
       "    <tr>\n",
       "      <th>2</th>\n",
       "      <td>non_sched_serv_warr</td>\n",
       "      <td>0.060546</td>\n",
       "    </tr>\n",
       "    <tr>\n",
       "      <th>3</th>\n",
       "      <td>sched_serv_paid</td>\n",
       "      <td>0.042270</td>\n",
       "    </tr>\n",
       "    <tr>\n",
       "      <th>4</th>\n",
       "      <td>non_sched_serv_paid</td>\n",
       "      <td>0.036327</td>\n",
       "    </tr>\n",
       "    <tr>\n",
       "      <th>5</th>\n",
       "      <td>total_paid_services</td>\n",
       "      <td>0.055562</td>\n",
       "    </tr>\n",
       "    <tr>\n",
       "      <th>6</th>\n",
       "      <td>total_services</td>\n",
       "      <td>0.150938</td>\n",
       "    </tr>\n",
       "    <tr>\n",
       "      <th>7</th>\n",
       "      <td>mth_since_last_serv</td>\n",
       "      <td>0.204232</td>\n",
       "    </tr>\n",
       "    <tr>\n",
       "      <th>8</th>\n",
       "      <td>annualised_mileage</td>\n",
       "      <td>0.106093</td>\n",
       "    </tr>\n",
       "    <tr>\n",
       "      <th>9</th>\n",
       "      <td>num_dealers_visited</td>\n",
       "      <td>0.054084</td>\n",
       "    </tr>\n",
       "    <tr>\n",
       "      <th>10</th>\n",
       "      <td>num_serv_dealer_purchased</td>\n",
       "      <td>0.097833</td>\n",
       "    </tr>\n",
       "    <tr>\n",
       "      <th>11</th>\n",
       "      <td>car_segment_LCV</td>\n",
       "      <td>0.002699</td>\n",
       "    </tr>\n",
       "    <tr>\n",
       "      <th>12</th>\n",
       "      <td>car_segment_Large/SUV</td>\n",
       "      <td>0.003654</td>\n",
       "    </tr>\n",
       "    <tr>\n",
       "      <th>13</th>\n",
       "      <td>car_segment_Other</td>\n",
       "      <td>0.000194</td>\n",
       "    </tr>\n",
       "    <tr>\n",
       "      <th>14</th>\n",
       "      <td>car_segment_Small/Medium</td>\n",
       "      <td>0.003587</td>\n",
       "    </tr>\n",
       "    <tr>\n",
       "      <th>15</th>\n",
       "      <td>car_model_model_1</td>\n",
       "      <td>0.003365</td>\n",
       "    </tr>\n",
       "    <tr>\n",
       "      <th>16</th>\n",
       "      <td>car_model_model_10</td>\n",
       "      <td>0.002633</td>\n",
       "    </tr>\n",
       "    <tr>\n",
       "      <th>17</th>\n",
       "      <td>car_model_model_11</td>\n",
       "      <td>0.002634</td>\n",
       "    </tr>\n",
       "    <tr>\n",
       "      <th>18</th>\n",
       "      <td>car_model_model_12</td>\n",
       "      <td>0.000376</td>\n",
       "    </tr>\n",
       "    <tr>\n",
       "      <th>19</th>\n",
       "      <td>car_model_model_13</td>\n",
       "      <td>0.001050</td>\n",
       "    </tr>\n",
       "    <tr>\n",
       "      <th>20</th>\n",
       "      <td>car_model_model_2</td>\n",
       "      <td>0.006378</td>\n",
       "    </tr>\n",
       "    <tr>\n",
       "      <th>21</th>\n",
       "      <td>car_model_model_3</td>\n",
       "      <td>0.006678</td>\n",
       "    </tr>\n",
       "    <tr>\n",
       "      <th>22</th>\n",
       "      <td>car_model_model_4</td>\n",
       "      <td>0.002878</td>\n",
       "    </tr>\n",
       "    <tr>\n",
       "      <th>23</th>\n",
       "      <td>car_model_model_5</td>\n",
       "      <td>0.004124</td>\n",
       "    </tr>\n",
       "    <tr>\n",
       "      <th>24</th>\n",
       "      <td>car_model_model_6</td>\n",
       "      <td>0.001404</td>\n",
       "    </tr>\n",
       "    <tr>\n",
       "      <th>25</th>\n",
       "      <td>car_model_model_7</td>\n",
       "      <td>0.002763</td>\n",
       "    </tr>\n",
       "    <tr>\n",
       "      <th>26</th>\n",
       "      <td>car_model_model_8</td>\n",
       "      <td>0.003667</td>\n",
       "    </tr>\n",
       "    <tr>\n",
       "      <th>27</th>\n",
       "      <td>car_model_model_9</td>\n",
       "      <td>0.000650</td>\n",
       "    </tr>\n",
       "    <tr>\n",
       "      <th>28</th>\n",
       "      <td>car_model_other</td>\n",
       "      <td>0.001262</td>\n",
       "    </tr>\n",
       "  </tbody>\n",
       "</table>\n",
       "</div>"
      ],
      "text/plain": [
       "                      feature  feature_importance\n",
       "0        age_of_vehicle_years            0.088158\n",
       "1             sched_serv_warr            0.053962\n",
       "2         non_sched_serv_warr            0.060546\n",
       "3             sched_serv_paid            0.042270\n",
       "4         non_sched_serv_paid            0.036327\n",
       "5         total_paid_services            0.055562\n",
       "6              total_services            0.150938\n",
       "7         mth_since_last_serv            0.204232\n",
       "8          annualised_mileage            0.106093\n",
       "9         num_dealers_visited            0.054084\n",
       "10  num_serv_dealer_purchased            0.097833\n",
       "11            car_segment_LCV            0.002699\n",
       "12      car_segment_Large/SUV            0.003654\n",
       "13          car_segment_Other            0.000194\n",
       "14   car_segment_Small/Medium            0.003587\n",
       "15          car_model_model_1            0.003365\n",
       "16         car_model_model_10            0.002633\n",
       "17         car_model_model_11            0.002634\n",
       "18         car_model_model_12            0.000376\n",
       "19         car_model_model_13            0.001050\n",
       "20          car_model_model_2            0.006378\n",
       "21          car_model_model_3            0.006678\n",
       "22          car_model_model_4            0.002878\n",
       "23          car_model_model_5            0.004124\n",
       "24          car_model_model_6            0.001404\n",
       "25          car_model_model_7            0.002763\n",
       "26          car_model_model_8            0.003667\n",
       "27          car_model_model_9            0.000650\n",
       "28            car_model_other            0.001262"
      ]
     },
     "execution_count": 42,
     "metadata": {},
     "output_type": "execute_result"
    }
   ],
   "source": [
    "feat_imp_rf_df"
   ]
  },
  {
   "cell_type": "markdown",
   "id": "e3b28d20",
   "metadata": {},
   "source": [
    "**[10.3]** Sort the previous dataframe and reset its index"
   ]
  },
  {
   "cell_type": "code",
   "execution_count": 43,
   "id": "115d1599",
   "metadata": {},
   "outputs": [],
   "source": [
    "feat_imp_rf_df = feat_imp_rf_df.sort_values('feature_importance', ascending=False).reset_index(drop=True)"
   ]
  },
  {
   "cell_type": "markdown",
   "id": "de6bb3fa",
   "metadata": {},
   "source": [
    "**[10.4]** Display the first 10 rows of this dataframe "
   ]
  },
  {
   "cell_type": "code",
   "execution_count": 44,
   "id": "b11e5029",
   "metadata": {},
   "outputs": [
    {
     "data": {
      "text/html": [
       "<div>\n",
       "<style scoped>\n",
       "    .dataframe tbody tr th:only-of-type {\n",
       "        vertical-align: middle;\n",
       "    }\n",
       "\n",
       "    .dataframe tbody tr th {\n",
       "        vertical-align: top;\n",
       "    }\n",
       "\n",
       "    .dataframe thead th {\n",
       "        text-align: right;\n",
       "    }\n",
       "</style>\n",
       "<table border=\"1\" class=\"dataframe\">\n",
       "  <thead>\n",
       "    <tr style=\"text-align: right;\">\n",
       "      <th></th>\n",
       "      <th>feature</th>\n",
       "      <th>feature_importance</th>\n",
       "    </tr>\n",
       "  </thead>\n",
       "  <tbody>\n",
       "    <tr>\n",
       "      <th>0</th>\n",
       "      <td>mth_since_last_serv</td>\n",
       "      <td>0.204232</td>\n",
       "    </tr>\n",
       "    <tr>\n",
       "      <th>1</th>\n",
       "      <td>total_services</td>\n",
       "      <td>0.150938</td>\n",
       "    </tr>\n",
       "    <tr>\n",
       "      <th>2</th>\n",
       "      <td>annualised_mileage</td>\n",
       "      <td>0.106093</td>\n",
       "    </tr>\n",
       "    <tr>\n",
       "      <th>3</th>\n",
       "      <td>num_serv_dealer_purchased</td>\n",
       "      <td>0.097833</td>\n",
       "    </tr>\n",
       "    <tr>\n",
       "      <th>4</th>\n",
       "      <td>age_of_vehicle_years</td>\n",
       "      <td>0.088158</td>\n",
       "    </tr>\n",
       "    <tr>\n",
       "      <th>5</th>\n",
       "      <td>non_sched_serv_warr</td>\n",
       "      <td>0.060546</td>\n",
       "    </tr>\n",
       "    <tr>\n",
       "      <th>6</th>\n",
       "      <td>total_paid_services</td>\n",
       "      <td>0.055562</td>\n",
       "    </tr>\n",
       "    <tr>\n",
       "      <th>7</th>\n",
       "      <td>num_dealers_visited</td>\n",
       "      <td>0.054084</td>\n",
       "    </tr>\n",
       "    <tr>\n",
       "      <th>8</th>\n",
       "      <td>sched_serv_warr</td>\n",
       "      <td>0.053962</td>\n",
       "    </tr>\n",
       "    <tr>\n",
       "      <th>9</th>\n",
       "      <td>sched_serv_paid</td>\n",
       "      <td>0.042270</td>\n",
       "    </tr>\n",
       "  </tbody>\n",
       "</table>\n",
       "</div>"
      ],
      "text/plain": [
       "                     feature  feature_importance\n",
       "0        mth_since_last_serv            0.204232\n",
       "1             total_services            0.150938\n",
       "2         annualised_mileage            0.106093\n",
       "3  num_serv_dealer_purchased            0.097833\n",
       "4       age_of_vehicle_years            0.088158\n",
       "5        non_sched_serv_warr            0.060546\n",
       "6        total_paid_services            0.055562\n",
       "7        num_dealers_visited            0.054084\n",
       "8            sched_serv_warr            0.053962\n",
       "9            sched_serv_paid            0.042270"
      ]
     },
     "execution_count": 44,
     "metadata": {},
     "output_type": "execute_result"
    }
   ],
   "source": [
    "feat_imp_rf_df.head(10)"
   ]
  },
  {
   "cell_type": "markdown",
   "id": "f7996adc",
   "metadata": {},
   "source": [
    "**[10.5]** We can visualise this information on a graph"
   ]
  },
  {
   "cell_type": "code",
   "execution_count": 45,
   "id": "15c77273",
   "metadata": {},
   "outputs": [
    {
     "data": {
      "text/html": [
       "\n",
       "<div id=\"altair-viz-0c0baf1aab6f443ebfc8a523633018df\"></div>\n",
       "<script type=\"text/javascript\">\n",
       "  (function(spec, embedOpt){\n",
       "    let outputDiv = document.currentScript.previousElementSibling;\n",
       "    if (outputDiv.id !== \"altair-viz-0c0baf1aab6f443ebfc8a523633018df\") {\n",
       "      outputDiv = document.getElementById(\"altair-viz-0c0baf1aab6f443ebfc8a523633018df\");\n",
       "    }\n",
       "    const paths = {\n",
       "      \"vega\": \"https://cdn.jsdelivr.net/npm//vega@5?noext\",\n",
       "      \"vega-lib\": \"https://cdn.jsdelivr.net/npm//vega-lib?noext\",\n",
       "      \"vega-lite\": \"https://cdn.jsdelivr.net/npm//vega-lite@4.8.1?noext\",\n",
       "      \"vega-embed\": \"https://cdn.jsdelivr.net/npm//vega-embed@6?noext\",\n",
       "    };\n",
       "\n",
       "    function loadScript(lib) {\n",
       "      return new Promise(function(resolve, reject) {\n",
       "        var s = document.createElement('script');\n",
       "        s.src = paths[lib];\n",
       "        s.async = true;\n",
       "        s.onload = () => resolve(paths[lib]);\n",
       "        s.onerror = () => reject(`Error loading script: ${paths[lib]}`);\n",
       "        document.getElementsByTagName(\"head\")[0].appendChild(s);\n",
       "      });\n",
       "    }\n",
       "\n",
       "    function showError(err) {\n",
       "      outputDiv.innerHTML = `<div class=\"error\" style=\"color:red;\">${err}</div>`;\n",
       "      throw err;\n",
       "    }\n",
       "\n",
       "    function displayChart(vegaEmbed) {\n",
       "      vegaEmbed(outputDiv, spec, embedOpt)\n",
       "        .catch(err => showError(`Javascript Error: ${err.message}<br>This usually means there's a typo in your chart specification. See the javascript console for the full traceback.`));\n",
       "    }\n",
       "\n",
       "    if(typeof define === \"function\" && define.amd) {\n",
       "      requirejs.config({paths});\n",
       "      require([\"vega-embed\"], displayChart, err => showError(`Error loading script: ${err.message}`));\n",
       "    } else if (typeof vegaEmbed === \"function\") {\n",
       "      displayChart(vegaEmbed);\n",
       "    } else {\n",
       "      loadScript(\"vega\")\n",
       "        .then(() => loadScript(\"vega-lite\"))\n",
       "        .then(() => loadScript(\"vega-embed\"))\n",
       "        .catch(showError)\n",
       "        .then(() => displayChart(vegaEmbed));\n",
       "    }\n",
       "  })({\"config\": {\"view\": {\"continuousWidth\": 400, \"continuousHeight\": 300}}, \"data\": {\"name\": \"data-3c3e8efd673b8abe6d178ac05fd9c932\"}, \"mark\": \"bar\", \"encoding\": {\"tooltip\": [{\"type\": \"nominal\", \"field\": \"feature\"}, {\"type\": \"quantitative\", \"field\": \"feature_importance\"}], \"x\": {\"type\": \"quantitative\", \"field\": \"feature_importance\"}, \"y\": {\"type\": \"nominal\", \"field\": \"feature\", \"sort\": \"-x\"}}, \"$schema\": \"https://vega.github.io/schema/vega-lite/v4.8.1.json\", \"datasets\": {\"data-3c3e8efd673b8abe6d178ac05fd9c932\": [{\"feature\": \"mth_since_last_serv\", \"feature_importance\": 0.20423192131666174}, {\"feature\": \"total_services\", \"feature_importance\": 0.150937602413626}, {\"feature\": \"annualised_mileage\", \"feature_importance\": 0.10609261847492427}, {\"feature\": \"num_serv_dealer_purchased\", \"feature_importance\": 0.09783287135234836}, {\"feature\": \"age_of_vehicle_years\", \"feature_importance\": 0.08815839152553936}, {\"feature\": \"non_sched_serv_warr\", \"feature_importance\": 0.060546116834735896}, {\"feature\": \"total_paid_services\", \"feature_importance\": 0.05556165764238469}, {\"feature\": \"num_dealers_visited\", \"feature_importance\": 0.05408357759050865}, {\"feature\": \"sched_serv_warr\", \"feature_importance\": 0.0539621645807371}, {\"feature\": \"sched_serv_paid\", \"feature_importance\": 0.042270049514017985}, {\"feature\": \"non_sched_serv_paid\", \"feature_importance\": 0.036326869904566}, {\"feature\": \"car_model_model_3\", \"feature_importance\": 0.006677582952652313}, {\"feature\": \"car_model_model_2\", \"feature_importance\": 0.006378195725241786}, {\"feature\": \"car_model_model_5\", \"feature_importance\": 0.004124472273804426}, {\"feature\": \"car_model_model_8\", \"feature_importance\": 0.0036665250933862574}, {\"feature\": \"car_segment_Large/SUV\", \"feature_importance\": 0.0036537624738651174}, {\"feature\": \"car_segment_Small/Medium\", \"feature_importance\": 0.003587056588855375}, {\"feature\": \"car_model_model_1\", \"feature_importance\": 0.0033651197980143067}, {\"feature\": \"car_model_model_4\", \"feature_importance\": 0.0028782508382311704}, {\"feature\": \"car_model_model_7\", \"feature_importance\": 0.0027629677743298024}, {\"feature\": \"car_segment_LCV\", \"feature_importance\": 0.002698643196615185}, {\"feature\": \"car_model_model_11\", \"feature_importance\": 0.002633857386949781}, {\"feature\": \"car_model_model_10\", \"feature_importance\": 0.002633221213325667}, {\"feature\": \"car_model_model_6\", \"feature_importance\": 0.0014044679877266843}, {\"feature\": \"car_model_other\", \"feature_importance\": 0.0012622229874051033}, {\"feature\": \"car_model_model_13\", \"feature_importance\": 0.0010502771494797045}, {\"feature\": \"car_model_model_9\", \"feature_importance\": 0.0006498342691001701}, {\"feature\": \"car_model_model_12\", \"feature_importance\": 0.0003756835517138068}, {\"feature\": \"car_segment_Other\", \"feature_importance\": 0.00019401758925342686}]}}, {\"mode\": \"vega-lite\"});\n",
       "</script>"
      ],
      "text/plain": [
       "alt.Chart(...)"
      ]
     },
     "execution_count": 45,
     "metadata": {},
     "output_type": "execute_result"
    }
   ],
   "source": [
    "alt.Chart(feat_imp_rf_df).mark_bar().encode(\n",
    "    x='feature_importance',\n",
    "    y=alt.Y(\"feature\", sort='-x'),\n",
    "    tooltip=['feature','feature_importance'])"
   ]
  },
  {
   "cell_type": "code",
   "execution_count": null,
   "id": "bfb79689",
   "metadata": {},
   "outputs": [],
   "source": []
  }
 ],
 "metadata": {
  "kernelspec": {
   "display_name": "Python 3 (ipykernel)",
   "language": "python",
   "name": "python3"
  },
  "language_info": {
   "codemirror_mode": {
    "name": "ipython",
    "version": 3
   },
   "file_extension": ".py",
   "mimetype": "text/x-python",
   "name": "python",
   "nbconvert_exporter": "python",
   "pygments_lexer": "ipython3",
   "version": "3.9.13"
  }
 },
 "nbformat": 4,
 "nbformat_minor": 5
}
